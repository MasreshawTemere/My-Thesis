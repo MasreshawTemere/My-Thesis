{
 "cells": [
  {
   "cell_type": "code",
   "execution_count": 1,
   "metadata": {},
   "outputs": [
    {
     "data": {
      "text/plain": [
       "(L, mu)"
      ]
     },
     "execution_count": 1,
     "metadata": {},
     "output_type": "execute_result"
    }
   ],
   "source": [
    "#Declaration of the variables.\n",
    "var('L, mu')"
   ]
  },
  {
   "cell_type": "code",
   "execution_count": 2,
   "metadata": {},
   "outputs": [
    {
     "data": {
      "text/plain": [
       "n^(3/2)*log(n)^3 + O(n^(1/2)*log(n))"
      ]
     },
     "execution_count": 2,
     "metadata": {},
     "output_type": "execute_result"
    }
   ],
   "source": [
    "#initiate asymptotic ring\n",
    "K.<n> = AsymptoticRing(growth_group='n^QQ*log(n)^ZZ', coefficient_ring=ZZ,default_prec=5);\n",
    "K.an_element()"
   ]
  },
  {
   "cell_type": "code",
   "execution_count": 3,
   "metadata": {},
   "outputs": [],
   "source": [
    "#Definitions\n",
    "p=L/n\n",
    "y=p/(1-p)\n",
    "al=log(1+y)\n",
    "be=sqrt(1+y)"
   ]
  },
  {
   "cell_type": "code",
   "execution_count": 4,
   "metadata": {
    "scrolled": true
   },
   "outputs": [
    {
     "data": {
      "text/html": [
       "<html><script type=\"math/tex; mode=display\">\\newcommand{\\Bold}[1]{\\mathbf{#1}}\\sqrt{2} \\sqrt{L} + \\left(\\frac{\\sqrt{2} {\\left(L^{2} + 2 \\, L\\right)}}{4 \\, \\sqrt{L}}\\right) n^{-1} + \\left(-\\frac{1}{32} \\, \\sqrt{2} \\sqrt{L} {\\left(\\frac{{\\left(L^{2} + 2 \\, L\\right)}^{2}}{L^{2}} - \\frac{4 \\, {\\left(3 \\, L^{3} - 2 \\, {\\left(L^{2} + L\\right)} L + 4 \\, L^{2}\\right)}}{L}\\right)}\\right) n^{-2} + \\left(\\frac{1}{128} \\, \\sqrt{2} \\sqrt{L} {\\left(\\frac{{\\left(L^{2} + 2 \\, L\\right)}^{3}}{L^{3}} - \\frac{4 \\, {\\left(3 \\, L^{3} - 2 \\, {\\left(L^{2} + L\\right)} L + 4 \\, L^{2}\\right)} {\\left(L^{2} + 2 \\, L\\right)}}{L^{2}} + \\frac{8 \\, {\\left(7 \\, L^{4} - 2 \\, {\\left(L^{2} + L\\right)} L^{2} + 8 \\, L^{3} - 4 \\, {\\left(L^{3} + L^{2}\\right)} L\\right)}}{L}\\right)}\\right) n^{-3} + \\left(-\\frac{1}{2048} \\, \\sqrt{2} \\sqrt{L} {\\left(\\frac{5 \\, {\\left(L^{2} + 2 \\, L\\right)}^{4}}{L^{4}} - \\frac{24 \\, {\\left(3 \\, L^{3} - 2 \\, {\\left(L^{2} + L\\right)} L + 4 \\, L^{2}\\right)} {\\left(L^{2} + 2 \\, L\\right)}^{2}}{L^{3}} + \\frac{16 \\, {\\left(3 \\, L^{3} - 2 \\, {\\left(L^{2} + L\\right)} L + 4 \\, L^{2}\\right)}^{2}}{L^{2}} + \\frac{32 \\, {\\left(7 \\, L^{4} - 2 \\, {\\left(L^{2} + L\\right)} L^{2} + 8 \\, L^{3} - 4 \\, {\\left(L^{3} + L^{2}\\right)} L\\right)} {\\left(L^{2} + 2 \\, L\\right)}}{L^{2}} - \\frac{64 \\, {\\left(15 \\, L^{5} - 2 \\, {\\left(L^{2} + L\\right)} L^{3} + 16 \\, L^{4} - 4 \\, {\\left(L^{3} + L^{2}\\right)} L^{2} - 8 \\, {\\left(L^{4} + L^{3}\\right)} L\\right)}}{L}\\right)}\\right) n^{-4} + O\\!\\left(n^{-5}\\right)</script></html>"
      ],
      "text/latex": [
       "$$\\newcommand{\\Bold}[1]{\\mathbf{#1}}\\sqrt{2} \\sqrt{L} + \\left(\\frac{\\sqrt{2} {\\left(L^{2} + 2 \\, L\\right)}}{4 \\, \\sqrt{L}}\\right) n^{-1} + \\left(-\\frac{1}{32} \\, \\sqrt{2} \\sqrt{L} {\\left(\\frac{{\\left(L^{2} + 2 \\, L\\right)}^{2}}{L^{2}} - \\frac{4 \\, {\\left(3 \\, L^{3} - 2 \\, {\\left(L^{2} + L\\right)} L + 4 \\, L^{2}\\right)}}{L}\\right)}\\right) n^{-2} + \\left(\\frac{1}{128} \\, \\sqrt{2} \\sqrt{L} {\\left(\\frac{{\\left(L^{2} + 2 \\, L\\right)}^{3}}{L^{3}} - \\frac{4 \\, {\\left(3 \\, L^{3} - 2 \\, {\\left(L^{2} + L\\right)} L + 4 \\, L^{2}\\right)} {\\left(L^{2} + 2 \\, L\\right)}}{L^{2}} + \\frac{8 \\, {\\left(7 \\, L^{4} - 2 \\, {\\left(L^{2} + L\\right)} L^{2} + 8 \\, L^{3} - 4 \\, {\\left(L^{3} + L^{2}\\right)} L\\right)}}{L}\\right)}\\right) n^{-3} + \\left(-\\frac{1}{2048} \\, \\sqrt{2} \\sqrt{L} {\\left(\\frac{5 \\, {\\left(L^{2} + 2 \\, L\\right)}^{4}}{L^{4}} - \\frac{24 \\, {\\left(3 \\, L^{3} - 2 \\, {\\left(L^{2} + L\\right)} L + 4 \\, L^{2}\\right)} {\\left(L^{2} + 2 \\, L\\right)}^{2}}{L^{3}} + \\frac{16 \\, {\\left(3 \\, L^{3} - 2 \\, {\\left(L^{2} + L\\right)} L + 4 \\, L^{2}\\right)}^{2}}{L^{2}} + \\frac{32 \\, {\\left(7 \\, L^{4} - 2 \\, {\\left(L^{2} + L\\right)} L^{2} + 8 \\, L^{3} - 4 \\, {\\left(L^{3} + L^{2}\\right)} L\\right)} {\\left(L^{2} + 2 \\, L\\right)}}{L^{2}} - \\frac{64 \\, {\\left(15 \\, L^{5} - 2 \\, {\\left(L^{2} + L\\right)} L^{3} + 16 \\, L^{4} - 4 \\, {\\left(L^{3} + L^{2}\\right)} L^{2} - 8 \\, {\\left(L^{4} + L^{3}\\right)} L\\right)}}{L}\\right)}\\right) n^{-4} + O\\!\\left(n^{-5}\\right)$$"
      ],
      "text/plain": [
       "sqrt(2)*sqrt(L) + (1/4*sqrt(2)*(L^2 + 2*L)/sqrt(L))*n^(-1) + (-1/32*sqrt(2)*sqrt(L)*((L^2 + 2*L)^2/L^2 - 4*(3*L^3 - 2*(L^2 + L)*L + 4*L^2)/L))*n^(-2) + (1/128*sqrt(2)*sqrt(L)*((L^2 + 2*L)^3/L^3 - 4*(3*L^3 - 2*(L^2 + L)*L + 4*L^2)*(L^2 + 2*L)/L^2 + 8*(7*L^4 - 2*(L^2 + L)*L^2 + 8*L^3 - 4*(L^3 + L^2)*L)/L))*n^(-3) + (-1/2048*sqrt(2)*sqrt(L)*(5*(L^2 + 2*L)^4/L^4 - 24*(3*L^3 - 2*(L^2 + L)*L + 4*L^2)*(L^2 + 2*L)^2/L^3 + 16*(3*L^3 - 2*(L^2 + L)*L + 4*L^2)^2/L^2 + 32*(7*L^4 - 2*(L^2 + L)*L^2 + 8*L^3 - 4*(L^3 + L^2)*L)*(L^2 + 2*L)/L^2 - 64*(15*L^5 - 2*(L^2 + L)*L^3 + 16*L^4 - 4*(L^3 + L^2)*L^2 - 8*(L^4 + L^3)*L)/L))*n^(-4) + O(n^(-5))"
      ]
     },
     "execution_count": 4,
     "metadata": {},
     "output_type": "execute_result"
    }
   ],
   "source": [
    "# The saddle point of f\n",
    "%display latex\n",
    "\n",
    "t = sqrt(4*y*(n+1)/(2+ y));t"
   ]
  },
  {
   "cell_type": "code",
   "execution_count": 4,
   "metadata": {},
   "outputs": [
    {
     "data": {
      "text/html": [
       "<html><script type=\"math/tex; mode=display\">\\newcommand{\\Bold}[1]{\\mathbf{#1}}\\sqrt{2} \\sqrt{L} + \\left(\\frac{\\sqrt{2} {\\left(L^{2} + 2 \\, L\\right)}}{4 \\, \\sqrt{L}}\\right) n^{-1}</script></html>"
      ],
      "text/latex": [
       "$$\\newcommand{\\Bold}[1]{\\mathbf{#1}}\\sqrt{2} \\sqrt{L} + \\left(\\frac{\\sqrt{2} {\\left(L^{2} + 2 \\, L\\right)}}{4 \\, \\sqrt{L}}\\right) n^{-1}$$"
      ],
      "text/plain": [
       "sqrt(2)*sqrt(L) + (1/4*sqrt(2)*(L^2 + 2*L)/sqrt(L))*n^(-1)"
      ]
     },
     "execution_count": 4,
     "metadata": {},
     "output_type": "execute_result"
    }
   ],
   "source": [
    "%display latex\n",
    "t1= sqrt(2)*sqrt(L) + (1/4*sqrt(2)*(L^2 + 2*L)/sqrt(L))*n^(-1); t1"
   ]
  },
  {
   "cell_type": "code",
   "execution_count": 5,
   "metadata": {
    "scrolled": true
   },
   "outputs": [
    {
     "data": {
      "text/html": [
       "<html><script type=\"math/tex; mode=display\">\\newcommand{\\Bold}[1]{\\mathbf{#1}}\\left(\\sqrt{2} \\sqrt{L} + \\frac{\\sqrt{2} \\sqrt{L} - L}{2 \\, L} - \\log\\left(\\sqrt{2} \\sqrt{L}\\right)\\right) n + \\frac{\\sqrt{2} {\\left(L^{2} + 2 \\, L\\right)}}{4 \\, \\sqrt{L}} - \\frac{1}{2} \\, \\sqrt{2} \\sqrt{L} + \\frac{1}{4} \\, L - \\frac{2 \\, L^{2} - \\frac{\\sqrt{2} {\\left(L^{2} + 2 \\, L\\right)}}{\\sqrt{L}} + 4 \\, L}{8 \\, L} - \\frac{L^{2} + 2 \\, L}{4 \\, L} - \\log\\left(\\sqrt{2} \\sqrt{L}\\right) + \\left(\\frac{1}{8} \\, L^{2} - \\frac{\\sqrt{2} {\\left(L^{2} + 2 \\, L\\right)}}{8 \\, \\sqrt{L}} + \\frac{1}{4} \\, L - \\frac{L^{2} + 2 \\, L}{4 \\, L}\\right) n^{-1} + \\left(\\frac{{\\left(L^{2} + 2 \\, L\\right)}^{2}}{64 \\, L} - \\frac{{\\left(L^{2} + 2 \\, L\\right)}^{3}}{192 \\, L^{3}} + \\frac{{\\left(L^{2} + 2 \\, L\\right)}^{2}}{32 \\, L^{2}}\\right) n^{-2} + \\left(\\frac{{\\left(L^{2} + 2 \\, L\\right)}^{4}}{1024 \\, L^{4}} - \\frac{{\\left(L^{2} + 2 \\, L\\right)}^{3}}{192 \\, L^{3}}\\right) n^{-3} + O\\!\\left(n^{-4}\\right)</script></html>"
      ],
      "text/latex": [
       "$$\\newcommand{\\Bold}[1]{\\mathbf{#1}}\\left(\\sqrt{2} \\sqrt{L} + \\frac{\\sqrt{2} \\sqrt{L} - L}{2 \\, L} - \\log\\left(\\sqrt{2} \\sqrt{L}\\right)\\right) n + \\frac{\\sqrt{2} {\\left(L^{2} + 2 \\, L\\right)}}{4 \\, \\sqrt{L}} - \\frac{1}{2} \\, \\sqrt{2} \\sqrt{L} + \\frac{1}{4} \\, L - \\frac{2 \\, L^{2} - \\frac{\\sqrt{2} {\\left(L^{2} + 2 \\, L\\right)}}{\\sqrt{L}} + 4 \\, L}{8 \\, L} - \\frac{L^{2} + 2 \\, L}{4 \\, L} - \\log\\left(\\sqrt{2} \\sqrt{L}\\right) + \\left(\\frac{1}{8} \\, L^{2} - \\frac{\\sqrt{2} {\\left(L^{2} + 2 \\, L\\right)}}{8 \\, \\sqrt{L}} + \\frac{1}{4} \\, L - \\frac{L^{2} + 2 \\, L}{4 \\, L}\\right) n^{-1} + \\left(\\frac{{\\left(L^{2} + 2 \\, L\\right)}^{2}}{64 \\, L} - \\frac{{\\left(L^{2} + 2 \\, L\\right)}^{3}}{192 \\, L^{3}} + \\frac{{\\left(L^{2} + 2 \\, L\\right)}^{2}}{32 \\, L^{2}}\\right) n^{-2} + \\left(\\frac{{\\left(L^{2} + 2 \\, L\\right)}^{4}}{1024 \\, L^{4}} - \\frac{{\\left(L^{2} + 2 \\, L\\right)}^{3}}{192 \\, L^{3}}\\right) n^{-3} + O\\!\\left(n^{-4}\\right)$$"
      ],
      "text/plain": [
       "(sqrt(2)*sqrt(L) + 1/2*(sqrt(2)*sqrt(L) - L)/L - log(sqrt(2)*sqrt(L)))*n + 1/4*sqrt(2)*(L^2 + 2*L)/sqrt(L) - 1/2*sqrt(2)*sqrt(L) + 1/4*L - 1/8*(2*L^2 - sqrt(2)*(L^2 + 2*L)/sqrt(L) + 4*L)/L - 1/4*(L^2 + 2*L)/L - log(sqrt(2)*sqrt(L)) + (1/8*L^2 - 1/8*sqrt(2)*(L^2 + 2*L)/sqrt(L) + 1/4*L - 1/4*(L^2 + 2*L)/L)*n^(-1) + (1/64*(L^2 + 2*L)^2/L - 1/192*(L^2 + 2*L)^3/L^3 + 1/32*(L^2 + 2*L)^2/L^2)*n^(-2) + (1/1024*(L^2 + 2*L)^4/L^4 - 1/192*(L^2 + 2*L)^3/L^3)*n^(-3) + O(n^(-4))"
      ]
     },
     "execution_count": 5,
     "metadata": {},
     "output_type": "execute_result"
    }
   ],
   "source": [
    "# f at the double saddle point\n",
    "f = 1/2/y*(t1 - t1^2/2)- t1^2/8 + n*t1 - (n + 1)*log(t1); f"
   ]
  },
  {
   "cell_type": "code",
   "execution_count": 7,
   "metadata": {},
   "outputs": [
    {
     "data": {
      "text/html": [
       "<html><script type=\"math/tex; mode=display\">\\newcommand{\\Bold}[1]{\\mathbf{#1}}\\left(-\\frac{\\sqrt{2} \\sqrt{L} - 1}{2 \\, L} - \\frac{\\sqrt{2}}{2 \\, \\sqrt{L}} + 1\\right) n + \\frac{1}{4} \\, \\sqrt{2} \\sqrt{L} - \\frac{\\sqrt{2}}{2 \\, \\sqrt{L}} - \\frac{1}{2} + \\left(\\frac{\\sqrt{2} {\\left(L^{2} + 2 \\, L\\right)}}{16 \\, \\sqrt{L}} - \\frac{\\sqrt{2} {\\left(L^{2} + 2 \\, L\\right)}^{2}}{32 \\, L^{\\frac{5}{2}}} + \\frac{\\sqrt{2} {\\left(L^{2} + 2 \\, L\\right)}}{8 \\, L^{\\frac{3}{2}}}\\right) n^{-1} + \\left(\\frac{\\sqrt{2} {\\left(L^{2} + 2 \\, L\\right)}^{3}}{128 \\, L^{\\frac{7}{2}}} - \\frac{\\sqrt{2} {\\left(L^{2} + 2 \\, L\\right)}^{2}}{32 \\, L^{\\frac{5}{2}}}\\right) n^{-2} + \\left(-\\frac{\\sqrt{2} {\\left(L^{2} + 2 \\, L\\right)}^{4}}{512 \\, L^{\\frac{9}{2}}} + \\frac{\\sqrt{2} {\\left(L^{2} + 2 \\, L\\right)}^{3}}{128 \\, L^{\\frac{7}{2}}}\\right) n^{-3} + O\\!\\left(n^{-4}\\right)</script></html>"
      ],
      "text/latex": [
       "$$\\newcommand{\\Bold}[1]{\\mathbf{#1}}\\left(-\\frac{\\sqrt{2} \\sqrt{L} - 1}{2 \\, L} - \\frac{\\sqrt{2}}{2 \\, \\sqrt{L}} + 1\\right) n + \\frac{1}{4} \\, \\sqrt{2} \\sqrt{L} - \\frac{\\sqrt{2}}{2 \\, \\sqrt{L}} - \\frac{1}{2} + \\left(\\frac{\\sqrt{2} {\\left(L^{2} + 2 \\, L\\right)}}{16 \\, \\sqrt{L}} - \\frac{\\sqrt{2} {\\left(L^{2} + 2 \\, L\\right)}^{2}}{32 \\, L^{\\frac{5}{2}}} + \\frac{\\sqrt{2} {\\left(L^{2} + 2 \\, L\\right)}}{8 \\, L^{\\frac{3}{2}}}\\right) n^{-1} + \\left(\\frac{\\sqrt{2} {\\left(L^{2} + 2 \\, L\\right)}^{3}}{128 \\, L^{\\frac{7}{2}}} - \\frac{\\sqrt{2} {\\left(L^{2} + 2 \\, L\\right)}^{2}}{32 \\, L^{\\frac{5}{2}}}\\right) n^{-2} + \\left(-\\frac{\\sqrt{2} {\\left(L^{2} + 2 \\, L\\right)}^{4}}{512 \\, L^{\\frac{9}{2}}} + \\frac{\\sqrt{2} {\\left(L^{2} + 2 \\, L\\right)}^{3}}{128 \\, L^{\\frac{7}{2}}}\\right) n^{-3} + O\\!\\left(n^{-4}\\right)$$"
      ],
      "text/plain": [
       "(-1/2*(sqrt(2)*sqrt(L) - 1)/L - 1/2*sqrt(2)/sqrt(L) + 1)*n + 1/4*sqrt(2)*sqrt(L) - 1/2*sqrt(2)/sqrt(L) - 1/2 + (1/16*sqrt(2)*(L^2 + 2*L)/sqrt(L) - 1/32*sqrt(2)*(L^2 + 2*L)^2/L^(5/2) + 1/8*sqrt(2)*(L^2 + 2*L)/L^(3/2))*n^(-1) + (1/128*sqrt(2)*(L^2 + 2*L)^3/L^(7/2) - 1/32*sqrt(2)*(L^2 + 2*L)^2/L^(5/2))*n^(-2) + (-1/512*sqrt(2)*(L^2 + 2*L)^4/L^(9/2) + 1/128*sqrt(2)*(L^2 + 2*L)^3/L^(7/2))*n^(-3) + O(n^(-4))"
      ]
     },
     "execution_count": 7,
     "metadata": {},
     "output_type": "execute_result"
    }
   ],
   "source": [
    "#f' at the double saddle point \n",
    "f1 = 1/2/y*(1 - t1)- t1/4 + n - (n + 1)/t1; f1"
   ]
  },
  {
   "cell_type": "code",
   "execution_count": 9,
   "metadata": {
    "scrolled": true
   },
   "outputs": [
    {
     "data": {
      "text/html": [
       "<html><script type=\"math/tex; mode=display\">\\newcommand{\\Bold}[1]{\\mathbf{#1}}-\\frac{\\sqrt{2}}{2 \\, L^{\\frac{3}{2}}} n + \\frac{3 \\, \\sqrt{2} {\\left(L^{2} + 2 \\, L\\right)}}{8 \\, L^{\\frac{5}{2}}} - \\frac{\\sqrt{2}}{2 \\, L^{\\frac{3}{2}}} + \\left(-\\frac{3 \\, \\sqrt{2} {\\left(L^{2} + 2 \\, L\\right)}^{2}}{16 \\, L^{\\frac{7}{2}}} + \\frac{3 \\, \\sqrt{2} {\\left(L^{2} + 2 \\, L\\right)}}{8 \\, L^{\\frac{5}{2}}}\\right) n^{-1} + \\left(\\frac{5 \\, \\sqrt{2} {\\left(L^{2} + 2 \\, L\\right)}^{3}}{64 \\, L^{\\frac{9}{2}}} - \\frac{3 \\, \\sqrt{2} {\\left(L^{2} + 2 \\, L\\right)}^{2}}{16 \\, L^{\\frac{7}{2}}}\\right) n^{-2} + \\left(-\\frac{15 \\, \\sqrt{2} {\\left(L^{2} + 2 \\, L\\right)}^{4}}{512 \\, L^{\\frac{11}{2}}} + \\frac{5 \\, \\sqrt{2} {\\left(L^{2} + 2 \\, L\\right)}^{3}}{64 \\, L^{\\frac{9}{2}}}\\right) n^{-3} + O\\!\\left(n^{-4}\\right)</script></html>"
      ],
      "text/latex": [
       "$$\\newcommand{\\Bold}[1]{\\mathbf{#1}}-\\frac{\\sqrt{2}}{2 \\, L^{\\frac{3}{2}}} n + \\frac{3 \\, \\sqrt{2} {\\left(L^{2} + 2 \\, L\\right)}}{8 \\, L^{\\frac{5}{2}}} - \\frac{\\sqrt{2}}{2 \\, L^{\\frac{3}{2}}} + \\left(-\\frac{3 \\, \\sqrt{2} {\\left(L^{2} + 2 \\, L\\right)}^{2}}{16 \\, L^{\\frac{7}{2}}} + \\frac{3 \\, \\sqrt{2} {\\left(L^{2} + 2 \\, L\\right)}}{8 \\, L^{\\frac{5}{2}}}\\right) n^{-1} + \\left(\\frac{5 \\, \\sqrt{2} {\\left(L^{2} + 2 \\, L\\right)}^{3}}{64 \\, L^{\\frac{9}{2}}} - \\frac{3 \\, \\sqrt{2} {\\left(L^{2} + 2 \\, L\\right)}^{2}}{16 \\, L^{\\frac{7}{2}}}\\right) n^{-2} + \\left(-\\frac{15 \\, \\sqrt{2} {\\left(L^{2} + 2 \\, L\\right)}^{4}}{512 \\, L^{\\frac{11}{2}}} + \\frac{5 \\, \\sqrt{2} {\\left(L^{2} + 2 \\, L\\right)}^{3}}{64 \\, L^{\\frac{9}{2}}}\\right) n^{-3} + O\\!\\left(n^{-4}\\right)$$"
      ],
      "text/plain": [
       "-1/2*sqrt(2)/L^(3/2)*n + 3/8*sqrt(2)*(L^2 + 2*L)/L^(5/2) - 1/2*sqrt(2)/L^(3/2) + (-3/16*sqrt(2)*(L^2 + 2*L)^2/L^(7/2) + 3/8*sqrt(2)*(L^2 + 2*L)/L^(5/2))*n^(-1) + (5/64*sqrt(2)*(L^2 + 2*L)^3/L^(9/2) - 3/16*sqrt(2)*(L^2 + 2*L)^2/L^(7/2))*n^(-2) + (-15/512*sqrt(2)*(L^2 + 2*L)^4/L^(11/2) + 5/64*sqrt(2)*(L^2 + 2*L)^3/L^(9/2))*n^(-3) + O(n^(-4))"
      ]
     },
     "execution_count": 9,
     "metadata": {},
     "output_type": "execute_result"
    }
   ],
   "source": [
    "# f''' at the double saddle point\n",
    "f3 = -2*(n + 1)/t1^3; f3"
   ]
  },
  {
   "cell_type": "code",
   "execution_count": null,
   "metadata": {},
   "outputs": [],
   "source": []
  }
 ],
 "metadata": {
  "kernelspec": {
   "display_name": "SageMath 9.3",
   "language": "sage",
   "name": "sagemath"
  },
  "language_info": {
   "codemirror_mode": {
    "name": "ipython",
    "version": 3
   },
   "file_extension": ".py",
   "mimetype": "text/x-python",
   "name": "python",
   "nbconvert_exporter": "python",
   "pygments_lexer": "ipython3",
   "version": "3.7.10"
  }
 },
 "nbformat": 4,
 "nbformat_minor": 4
}
