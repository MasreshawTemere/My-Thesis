{
 "cells": [
  {
   "cell_type": "code",
   "execution_count": 1,
   "metadata": {},
   "outputs": [
    {
     "data": {
      "text/plain": [
       "(L, k, x)"
      ]
     },
     "execution_count": 1,
     "metadata": {},
     "output_type": "execute_result"
    }
   ],
   "source": [
    "#Declaration of the variables.\n",
    "var('L,k,x')"
   ]
  },
  {
   "cell_type": "code",
   "execution_count": 2,
   "metadata": {},
   "outputs": [
    {
     "data": {
      "text/plain": [
       "n^(3/2)*log(n)^3 + O(n^(1/2)*log(n))"
      ]
     },
     "execution_count": 2,
     "metadata": {},
     "output_type": "execute_result"
    }
   ],
   "source": [
    "#initiate asymptotic ring\n",
    "K.<n> = AsymptoticRing(growth_group='n^QQ*log(n)^ZZ', coefficient_ring=ZZ,default_prec=5);\n",
    "K.an_element()"
   ]
  },
  {
   "cell_type": "code",
   "execution_count": 3,
   "metadata": {},
   "outputs": [],
   "source": [
    "#Definitions\n",
    "p=L/n\n",
    "y=p/(1-p)\n",
    "al=log(1+y)\n",
    "be=sqrt(1+y)"
   ]
  },
  {
   "cell_type": "markdown",
   "metadata": {},
   "source": [
    "# Polytree Components Only"
   ]
  },
  {
   "cell_type": "code",
   "execution_count": 4,
   "metadata": {},
   "outputs": [
    {
     "data": {
      "text/html": [
       "<html><script type=\"math/tex; mode=display\">\\newcommand{\\Bold}[1]{\\mathbf{#1}}\\left(L + 1\\right) n + L^{2}</script></html>"
      ],
      "text/latex": [
       "$$\\newcommand{\\Bold}[1]{\\mathbf{#1}}\\left(L + 1\\right) n + L^{2}$$"
      ],
      "text/plain": [
       "(L + 1)*n + L^2"
      ]
     },
     "execution_count": 4,
     "metadata": {},
     "output_type": "execute_result"
    }
   ],
   "source": [
    "# only take the exponent in the numerator\n",
    "%display latex\n",
    "U1 = L^2 + n*(L + 1); U1"
   ]
  },
  {
   "cell_type": "code",
   "execution_count": 5,
   "metadata": {},
   "outputs": [
    {
     "data": {
      "text/html": [
       "<html><script type=\"math/tex; mode=display\">\\newcommand{\\Bold}[1]{\\mathbf{#1}}\\left(L + 1\\right) n + \\frac{1}{2} \\, L^{2} + \\frac{1}{3} \\, L^{3} n^{-1} + \\frac{1}{4} \\, L^{4} n^{-2} + \\frac{1}{5} \\, L^{5} n^{-3} + O\\!\\left(n^{-4}\\right)</script></html>"
      ],
      "text/latex": [
       "$$\\newcommand{\\Bold}[1]{\\mathbf{#1}}\\left(L + 1\\right) n + \\frac{1}{2} \\, L^{2} + \\frac{1}{3} \\, L^{3} n^{-1} + \\frac{1}{4} \\, L^{4} n^{-2} + \\frac{1}{5} \\, L^{5} n^{-3} + O\\!\\left(n^{-4}\\right)$$"
      ],
      "text/plain": [
       "(L + 1)*n + 1/2*L^2 + 1/3*L^3*n^(-1) + 1/4*L^4*n^(-2) + 1/5*L^5*n^(-3) + O(n^(-4))"
      ]
     },
     "execution_count": 5,
     "metadata": {},
     "output_type": "execute_result"
    }
   ],
   "source": [
    "# only take the exponent in the denominator \n",
    "U2 = n*log(be) + al*n^2- 1/2*al*n + n; U2"
   ]
  },
  {
   "cell_type": "code",
   "execution_count": 6,
   "metadata": {},
   "outputs": [
    {
     "data": {
      "text/html": [
       "<html><script type=\"math/tex; mode=display\">\\newcommand{\\Bold}[1]{\\mathbf{#1}}e^{\\left(\\frac{1}{2} \\, L^{2}\\right)} - \\frac{1}{3} \\, L^{3} e^{\\left(\\frac{1}{2} \\, L^{2}\\right)} n^{-1} + \\left(\\frac{1}{36} \\, {\\left(2 \\, L^{6} - 9 \\, L^{4}\\right)} e^{\\left(\\frac{1}{2} \\, L^{2}\\right)}\\right) n^{-2} + \\left(-\\frac{1}{1620} \\, {\\left(10 \\, L^{9} - 135 \\, L^{7} + 324 \\, L^{5}\\right)} e^{\\left(\\frac{1}{2} \\, L^{2}\\right)}\\right) n^{-3} + O\\!\\left(n^{-4}\\right)</script></html>"
      ],
      "text/latex": [
       "$$\\newcommand{\\Bold}[1]{\\mathbf{#1}}e^{\\left(\\frac{1}{2} \\, L^{2}\\right)} - \\frac{1}{3} \\, L^{3} e^{\\left(\\frac{1}{2} \\, L^{2}\\right)} n^{-1} + \\left(\\frac{1}{36} \\, {\\left(2 \\, L^{6} - 9 \\, L^{4}\\right)} e^{\\left(\\frac{1}{2} \\, L^{2}\\right)}\\right) n^{-2} + \\left(-\\frac{1}{1620} \\, {\\left(10 \\, L^{9} - 135 \\, L^{7} + 324 \\, L^{5}\\right)} e^{\\left(\\frac{1}{2} \\, L^{2}\\right)}\\right) n^{-3} + O\\!\\left(n^{-4}\\right)$$"
      ],
      "text/plain": [
       "e^(1/2*L^2) - 1/3*L^3*e^(1/2*L^2)*n^(-1) + (1/36*(2*L^6 - 9*L^4)*e^(1/2*L^2))*n^(-2) + (-1/1620*(10*L^9 - 135*L^7 + 324*L^5)*e^(1/2*L^2))*n^(-3) + O(n^(-4))"
      ]
     },
     "execution_count": 6,
     "metadata": {},
     "output_type": "execute_result"
    }
   ],
   "source": [
    "# take the difference of the exponents\n",
    "e^(U1-U2)"
   ]
  },
  {
   "cell_type": "code",
   "execution_count": 7,
   "metadata": {},
   "outputs": [
    {
     "data": {
      "text/html": [
       "<html><script type=\"math/tex; mode=display\">\\newcommand{\\Bold}[1]{\\mathbf{#1}}e^{\\left(\\frac{1}{2} \\, L^{2}\\right)}</script></html>"
      ],
      "text/latex": [
       "$$\\newcommand{\\Bold}[1]{\\mathbf{#1}}e^{\\left(\\frac{1}{2} \\, L^{2}\\right)}$$"
      ],
      "text/plain": [
       "e^(1/2*L^2)"
      ]
     },
     "execution_count": 7,
     "metadata": {},
     "output_type": "execute_result"
    }
   ],
   "source": [
    "# it becomes e^{1/2 L^2} when n is larger and L = \\lambda\n",
    "e^(1/2*L^2)"
   ]
  },
  {
   "cell_type": "code",
   "execution_count": 8,
   "metadata": {},
   "outputs": [
    {
     "data": {
      "text/html": [
       "<html><script type=\"math/tex; mode=display\">\\newcommand{\\Bold}[1]{\\mathbf{#1}}-\\frac{\\sqrt{-2 \\, L + 1} e^{\\left(\\frac{1}{2} \\, L^{2}\\right)}}{L - 1}</script></html>"
      ],
      "text/latex": [
       "$$\\newcommand{\\Bold}[1]{\\mathbf{#1}}-\\frac{\\sqrt{-2 \\, L + 1} e^{\\left(\\frac{1}{2} \\, L^{2}\\right)}}{L - 1}$$"
      ],
      "text/plain": [
       "-sqrt(-2*L + 1)*e^(1/2*L^2)/(L - 1)"
      ]
     },
     "execution_count": 8,
     "metadata": {},
     "output_type": "execute_result"
    }
   ],
   "source": [
    "#multplie by the remaing term\n",
    "\n",
    "e^(1/2*L^2)* sqrt(1 - 2*L)/(1 - L)"
   ]
  },
  {
   "cell_type": "markdown",
   "metadata": {},
   "source": [
    "# Polytree and Unicyclic Components"
   ]
  },
  {
   "cell_type": "code",
   "execution_count": 9,
   "metadata": {
    "scrolled": true
   },
   "outputs": [
    {
     "data": {
      "text/html": [
       "<html><script type=\"math/tex; mode=display\">\\newcommand{\\Bold}[1]{\\mathbf{#1}}\\left(L + 1\\right) n + \\frac{1}{2} \\, L^{2}</script></html>"
      ],
      "text/latex": [
       "$$\\newcommand{\\Bold}[1]{\\mathbf{#1}}\\left(L + 1\\right) n + \\frac{1}{2} \\, L^{2}$$"
      ],
      "text/plain": [
       "(L + 1)*n + 1/2*L^2"
      ]
     },
     "execution_count": 9,
     "metadata": {},
     "output_type": "execute_result"
    }
   ],
   "source": [
    "# Only take the exponent in the numerator \n",
    "V1 = 1/2*L^2 + n*(L + 1); V1"
   ]
  },
  {
   "cell_type": "code",
   "execution_count": 10,
   "metadata": {},
   "outputs": [
    {
     "data": {
      "text/html": [
       "<html><script type=\"math/tex; mode=display\">\\newcommand{\\Bold}[1]{\\mathbf{#1}}\\left(L + 1\\right) n + \\frac{1}{2} \\, L^{2} + \\frac{1}{3} \\, L^{3} n^{-1} + \\frac{1}{4} \\, L^{4} n^{-2} + \\frac{1}{5} \\, L^{5} n^{-3} + O\\!\\left(n^{-4}\\right)</script></html>"
      ],
      "text/latex": [
       "$$\\newcommand{\\Bold}[1]{\\mathbf{#1}}\\left(L + 1\\right) n + \\frac{1}{2} \\, L^{2} + \\frac{1}{3} \\, L^{3} n^{-1} + \\frac{1}{4} \\, L^{4} n^{-2} + \\frac{1}{5} \\, L^{5} n^{-3} + O\\!\\left(n^{-4}\\right)$$"
      ],
      "text/plain": [
       "(L + 1)*n + 1/2*L^2 + 1/3*L^3*n^(-1) + 1/4*L^4*n^(-2) + 1/5*L^5*n^(-3) + O(n^(-4))"
      ]
     },
     "execution_count": 10,
     "metadata": {},
     "output_type": "execute_result"
    }
   ],
   "source": [
    "# only take the exponent in the denominator \n",
    "V2 = n*log(be) + al*n^2- 1/2*al*n + n; V2"
   ]
  },
  {
   "cell_type": "code",
   "execution_count": 11,
   "metadata": {
    "scrolled": true
   },
   "outputs": [
    {
     "data": {
      "text/html": [
       "<html><script type=\"math/tex; mode=display\">\\newcommand{\\Bold}[1]{\\mathbf{#1}}1 - \\frac{1}{3} \\, L^{3} n^{-1} + \\left(\\frac{1}{18} \\, L^{6} - \\frac{1}{4} \\, L^{4}\\right) n^{-2} + \\left(-\\frac{1}{162} \\, L^{9} + \\frac{1}{12} \\, L^{7} - \\frac{1}{5} \\, L^{5}\\right) n^{-3} + O\\!\\left(n^{-4}\\right)</script></html>"
      ],
      "text/latex": [
       "$$\\newcommand{\\Bold}[1]{\\mathbf{#1}}1 - \\frac{1}{3} \\, L^{3} n^{-1} + \\left(\\frac{1}{18} \\, L^{6} - \\frac{1}{4} \\, L^{4}\\right) n^{-2} + \\left(-\\frac{1}{162} \\, L^{9} + \\frac{1}{12} \\, L^{7} - \\frac{1}{5} \\, L^{5}\\right) n^{-3} + O\\!\\left(n^{-4}\\right)$$"
      ],
      "text/plain": [
       "1 - 1/3*L^3*n^(-1) + (1/18*L^6 - 1/4*L^4)*n^(-2) + (-1/162*L^9 + 1/12*L^7 - 1/5*L^5)*n^(-3) + O(n^(-4))"
      ]
     },
     "execution_count": 11,
     "metadata": {},
     "output_type": "execute_result"
    }
   ],
   "source": [
    "# take the difference of the exponents\n",
    "e^(V1-V2)"
   ]
  },
  {
   "cell_type": "code",
   "execution_count": 12,
   "metadata": {},
   "outputs": [
    {
     "data": {
      "text/html": [
       "<html><script type=\"math/tex; mode=display\">\\newcommand{\\Bold}[1]{\\mathbf{#1}}1</script></html>"
      ],
      "text/latex": [
       "$$\\newcommand{\\Bold}[1]{\\mathbf{#1}}1$$"
      ],
      "text/plain": [
       "1"
      ]
     },
     "execution_count": 12,
     "metadata": {},
     "output_type": "execute_result"
    }
   ],
   "source": [
    "# it becomes 1 when n is larger and L = \\lambda\n",
    "1"
   ]
  }
 ],
 "metadata": {
  "kernelspec": {
   "display_name": "SageMath 9.3",
   "language": "sage",
   "name": "sagemath"
  },
  "language_info": {
   "codemirror_mode": {
    "name": "ipython",
    "version": 3
   },
   "file_extension": ".py",
   "mimetype": "text/x-python",
   "name": "python",
   "nbconvert_exporter": "python",
   "pygments_lexer": "ipython3",
   "version": "3.7.10"
  }
 },
 "nbformat": 4,
 "nbformat_minor": 4
}
