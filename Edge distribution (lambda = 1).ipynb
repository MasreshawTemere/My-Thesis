{
 "cells": [
  {
   "cell_type": "code",
   "execution_count": 1,
   "metadata": {},
   "outputs": [
    {
     "data": {
      "text/plain": [
       "(t, L, a1)"
      ]
     },
     "execution_count": 1,
     "metadata": {},
     "output_type": "execute_result"
    }
   ],
   "source": [
    "#The number of edges of DAG where L<1\n",
    "#Declaration of the variables.\n",
    "var('t, L, a1')"
   ]
  },
  {
   "cell_type": "code",
   "execution_count": 2,
   "metadata": {},
   "outputs": [
    {
     "data": {
      "text/plain": [
       "n^(3/2)*log(n)^3 + O(n^(1/2)*log(n))"
      ]
     },
     "execution_count": 2,
     "metadata": {},
     "output_type": "execute_result"
    }
   ],
   "source": [
    "#initiate asymptotic ring\n",
    "K.<n> = AsymptoticRing(growth_group='n^QQ*log(n)^ZZ', coefficient_ring=ZZ,default_prec=5);\n",
    "K.an_element()"
   ]
  },
  {
   "cell_type": "code",
   "execution_count": 14,
   "metadata": {},
   "outputs": [],
   "source": [
    "#Definitions\n",
    "p=L/n\n",
    "y=p/(1-p)\n",
    "al=log(1+y)\n",
    "be=sqrt(1+y)\n",
    "L = 1"
   ]
  },
  {
   "cell_type": "code",
   "execution_count": 4,
   "metadata": {},
   "outputs": [
    {
     "data": {
      "text/html": [
       "<html><script type=\"math/tex; mode=display\">\\newcommand{\\Bold}[1]{\\mathbf{#1}}-n \\log\\left(n\\right) + \\left(\\frac{1}{2} \\, L e^{t} - \\frac{1}{2 \\, L} + \\log\\left(L e^{t}\\right)\\right) n - \\frac{5}{6} \\log\\left(n\\right) - \\frac{1}{4} \\, L^{2} e^{\\left(2 \\, t\\right)} + \\frac{1}{2} \\, L^{2} e^{t} - \\frac{{\\left(L^{2} e^{\\left(2 \\, t\\right)} - 2 \\, L^{2} e^{t}\\right)} e^{\\left(-t\\right)}}{2 \\, L} + \\frac{5}{6} \\, \\log\\left(L e^{t}\\right) + \\log\\left(\\frac{3^{\\frac{1}{3}} 2^{\\frac{2}{3}}}{3 \\, \\Gamma\\left(\\frac{2}{3}\\right)}\\right) + \\frac{1}{4} + \\left(\\frac{1}{6} \\, L^{3} e^{\\left(3 \\, t\\right)} - \\frac{1}{2} \\, L^{3} e^{\\left(2 \\, t\\right)} + \\frac{1}{2} \\, L^{3} e^{t} + \\frac{1}{24} \\, L + \\frac{{\\left(L^{3} e^{\\left(3 \\, t\\right)} - 3 \\, L^{3} e^{\\left(2 \\, t\\right)} + 3 \\, L^{3} e^{t}\\right)} e^{\\left(-t\\right)}}{3 \\, L} - \\frac{5 \\, {\\left(L^{2} e^{\\left(2 \\, t\\right)} - 2 \\, L^{2} e^{t}\\right)} e^{\\left(-t\\right)}}{12 \\, L} - \\frac{{\\left(L^{2} e^{\\left(2 \\, t\\right)} - 2 \\, L^{2} e^{t}\\right)}^{2} e^{\\left(-2 \\, t\\right)}}{8 \\, L^{2}}\\right) n^{-1} + \\left(-\\frac{1}{8} \\, L^{4} e^{\\left(4 \\, t\\right)} + \\frac{1}{2} \\, L^{4} e^{\\left(3 \\, t\\right)} - \\frac{3}{4} \\, L^{4} e^{\\left(2 \\, t\\right)} + \\frac{1}{2} \\, L^{4} e^{t} + \\frac{1}{48} \\, L^{2} - \\frac{{\\left(L^{4} e^{\\left(4 \\, t\\right)} - 4 \\, L^{4} e^{\\left(3 \\, t\\right)} + 6 \\, L^{4} e^{\\left(2 \\, t\\right)} - 4 \\, L^{4} e^{t}\\right)} e^{\\left(-t\\right)}}{4 \\, L} + \\frac{5 \\, {\\left(L^{3} e^{\\left(3 \\, t\\right)} - 3 \\, L^{3} e^{\\left(2 \\, t\\right)} + 3 \\, L^{3} e^{t}\\right)} e^{\\left(-t\\right)}}{18 \\, L} + \\frac{{\\left(L^{3} e^{\\left(3 \\, t\\right)} - 3 \\, L^{3} e^{\\left(2 \\, t\\right)} + 3 \\, L^{3} e^{t}\\right)} {\\left(L^{2} e^{\\left(2 \\, t\\right)} - 2 \\, L^{2} e^{t}\\right)} e^{\\left(-2 \\, t\\right)}}{6 \\, L^{2}} - \\frac{5 \\, {\\left(L^{2} e^{\\left(2 \\, t\\right)} - 2 \\, L^{2} e^{t}\\right)}^{2} e^{\\left(-2 \\, t\\right)}}{48 \\, L^{2}} - \\frac{{\\left(L^{2} e^{\\left(2 \\, t\\right)} - 2 \\, L^{2} e^{t}\\right)}^{3} e^{\\left(-3 \\, t\\right)}}{24 \\, L^{3}}\\right) n^{-2} + \\left(\\frac{1}{10} \\, L^{5} e^{\\left(5 \\, t\\right)} - \\frac{1}{2} \\, L^{5} e^{\\left(4 \\, t\\right)} + L^{5} e^{\\left(3 \\, t\\right)} - L^{5} e^{\\left(2 \\, t\\right)} + \\frac{1}{2} \\, L^{5} e^{t} + \\frac{19}{1440} \\, L^{3} + \\frac{{\\left(L^{5} e^{\\left(5 \\, t\\right)} - 5 \\, L^{5} e^{\\left(4 \\, t\\right)} + 10 \\, L^{5} e^{\\left(3 \\, t\\right)} - 10 \\, L^{5} e^{\\left(2 \\, t\\right)} + 5 \\, L^{5} e^{t}\\right)} e^{\\left(-t\\right)}}{5 \\, L} - \\frac{5 \\, {\\left(L^{4} e^{\\left(4 \\, t\\right)} - 4 \\, L^{4} e^{\\left(3 \\, t\\right)} + 6 \\, L^{4} e^{\\left(2 \\, t\\right)} - 4 \\, L^{4} e^{t}\\right)} e^{\\left(-t\\right)}}{24 \\, L} - \\frac{{\\left(L^{3} e^{\\left(3 \\, t\\right)} - 3 \\, L^{3} e^{\\left(2 \\, t\\right)} + 3 \\, L^{3} e^{t}\\right)}^{2} e^{\\left(-2 \\, t\\right)}}{18 \\, L^{2}} - \\frac{{\\left(L^{4} e^{\\left(4 \\, t\\right)} - 4 \\, L^{4} e^{\\left(3 \\, t\\right)} + 6 \\, L^{4} e^{\\left(2 \\, t\\right)} - 4 \\, L^{4} e^{t}\\right)} {\\left(L^{2} e^{\\left(2 \\, t\\right)} - 2 \\, L^{2} e^{t}\\right)} e^{\\left(-2 \\, t\\right)}}{8 \\, L^{2}} + \\frac{5 \\, {\\left(L^{3} e^{\\left(3 \\, t\\right)} - 3 \\, L^{3} e^{\\left(2 \\, t\\right)} + 3 \\, L^{3} e^{t}\\right)} {\\left(L^{2} e^{\\left(2 \\, t\\right)} - 2 \\, L^{2} e^{t}\\right)} e^{\\left(-2 \\, t\\right)}}{36 \\, L^{2}} + \\frac{{\\left(L^{3} e^{\\left(3 \\, t\\right)} - 3 \\, L^{3} e^{\\left(2 \\, t\\right)} + 3 \\, L^{3} e^{t}\\right)} {\\left(L^{2} e^{\\left(2 \\, t\\right)} - 2 \\, L^{2} e^{t}\\right)}^{2} e^{\\left(-3 \\, t\\right)}}{12 \\, L^{3}} - \\frac{5 \\, {\\left(L^{2} e^{\\left(2 \\, t\\right)} - 2 \\, L^{2} e^{t}\\right)}^{3} e^{\\left(-3 \\, t\\right)}}{144 \\, L^{3}} - \\frac{{\\left(L^{2} e^{\\left(2 \\, t\\right)} - 2 \\, L^{2} e^{t}\\right)}^{4} e^{\\left(-4 \\, t\\right)}}{64 \\, L^{4}}\\right) n^{-3} + O\\!\\left(n^{-4}\\right)</script></html>"
      ],
      "text/latex": [
       "$$\\newcommand{\\Bold}[1]{\\mathbf{#1}}-n \\log\\left(n\\right) + \\left(\\frac{1}{2} \\, L e^{t} - \\frac{1}{2 \\, L} + \\log\\left(L e^{t}\\right)\\right) n - \\frac{5}{6} \\log\\left(n\\right) - \\frac{1}{4} \\, L^{2} e^{\\left(2 \\, t\\right)} + \\frac{1}{2} \\, L^{2} e^{t} - \\frac{{\\left(L^{2} e^{\\left(2 \\, t\\right)} - 2 \\, L^{2} e^{t}\\right)} e^{\\left(-t\\right)}}{2 \\, L} + \\frac{5}{6} \\, \\log\\left(L e^{t}\\right) + \\log\\left(\\frac{3^{\\frac{1}{3}} 2^{\\frac{2}{3}}}{3 \\, \\Gamma\\left(\\frac{2}{3}\\right)}\\right) + \\frac{1}{4} + \\left(\\frac{1}{6} \\, L^{3} e^{\\left(3 \\, t\\right)} - \\frac{1}{2} \\, L^{3} e^{\\left(2 \\, t\\right)} + \\frac{1}{2} \\, L^{3} e^{t} + \\frac{1}{24} \\, L + \\frac{{\\left(L^{3} e^{\\left(3 \\, t\\right)} - 3 \\, L^{3} e^{\\left(2 \\, t\\right)} + 3 \\, L^{3} e^{t}\\right)} e^{\\left(-t\\right)}}{3 \\, L} - \\frac{5 \\, {\\left(L^{2} e^{\\left(2 \\, t\\right)} - 2 \\, L^{2} e^{t}\\right)} e^{\\left(-t\\right)}}{12 \\, L} - \\frac{{\\left(L^{2} e^{\\left(2 \\, t\\right)} - 2 \\, L^{2} e^{t}\\right)}^{2} e^{\\left(-2 \\, t\\right)}}{8 \\, L^{2}}\\right) n^{-1} + \\left(-\\frac{1}{8} \\, L^{4} e^{\\left(4 \\, t\\right)} + \\frac{1}{2} \\, L^{4} e^{\\left(3 \\, t\\right)} - \\frac{3}{4} \\, L^{4} e^{\\left(2 \\, t\\right)} + \\frac{1}{2} \\, L^{4} e^{t} + \\frac{1}{48} \\, L^{2} - \\frac{{\\left(L^{4} e^{\\left(4 \\, t\\right)} - 4 \\, L^{4} e^{\\left(3 \\, t\\right)} + 6 \\, L^{4} e^{\\left(2 \\, t\\right)} - 4 \\, L^{4} e^{t}\\right)} e^{\\left(-t\\right)}}{4 \\, L} + \\frac{5 \\, {\\left(L^{3} e^{\\left(3 \\, t\\right)} - 3 \\, L^{3} e^{\\left(2 \\, t\\right)} + 3 \\, L^{3} e^{t}\\right)} e^{\\left(-t\\right)}}{18 \\, L} + \\frac{{\\left(L^{3} e^{\\left(3 \\, t\\right)} - 3 \\, L^{3} e^{\\left(2 \\, t\\right)} + 3 \\, L^{3} e^{t}\\right)} {\\left(L^{2} e^{\\left(2 \\, t\\right)} - 2 \\, L^{2} e^{t}\\right)} e^{\\left(-2 \\, t\\right)}}{6 \\, L^{2}} - \\frac{5 \\, {\\left(L^{2} e^{\\left(2 \\, t\\right)} - 2 \\, L^{2} e^{t}\\right)}^{2} e^{\\left(-2 \\, t\\right)}}{48 \\, L^{2}} - \\frac{{\\left(L^{2} e^{\\left(2 \\, t\\right)} - 2 \\, L^{2} e^{t}\\right)}^{3} e^{\\left(-3 \\, t\\right)}}{24 \\, L^{3}}\\right) n^{-2} + \\left(\\frac{1}{10} \\, L^{5} e^{\\left(5 \\, t\\right)} - \\frac{1}{2} \\, L^{5} e^{\\left(4 \\, t\\right)} + L^{5} e^{\\left(3 \\, t\\right)} - L^{5} e^{\\left(2 \\, t\\right)} + \\frac{1}{2} \\, L^{5} e^{t} + \\frac{19}{1440} \\, L^{3} + \\frac{{\\left(L^{5} e^{\\left(5 \\, t\\right)} - 5 \\, L^{5} e^{\\left(4 \\, t\\right)} + 10 \\, L^{5} e^{\\left(3 \\, t\\right)} - 10 \\, L^{5} e^{\\left(2 \\, t\\right)} + 5 \\, L^{5} e^{t}\\right)} e^{\\left(-t\\right)}}{5 \\, L} - \\frac{5 \\, {\\left(L^{4} e^{\\left(4 \\, t\\right)} - 4 \\, L^{4} e^{\\left(3 \\, t\\right)} + 6 \\, L^{4} e^{\\left(2 \\, t\\right)} - 4 \\, L^{4} e^{t}\\right)} e^{\\left(-t\\right)}}{24 \\, L} - \\frac{{\\left(L^{3} e^{\\left(3 \\, t\\right)} - 3 \\, L^{3} e^{\\left(2 \\, t\\right)} + 3 \\, L^{3} e^{t}\\right)}^{2} e^{\\left(-2 \\, t\\right)}}{18 \\, L^{2}} - \\frac{{\\left(L^{4} e^{\\left(4 \\, t\\right)} - 4 \\, L^{4} e^{\\left(3 \\, t\\right)} + 6 \\, L^{4} e^{\\left(2 \\, t\\right)} - 4 \\, L^{4} e^{t}\\right)} {\\left(L^{2} e^{\\left(2 \\, t\\right)} - 2 \\, L^{2} e^{t}\\right)} e^{\\left(-2 \\, t\\right)}}{8 \\, L^{2}} + \\frac{5 \\, {\\left(L^{3} e^{\\left(3 \\, t\\right)} - 3 \\, L^{3} e^{\\left(2 \\, t\\right)} + 3 \\, L^{3} e^{t}\\right)} {\\left(L^{2} e^{\\left(2 \\, t\\right)} - 2 \\, L^{2} e^{t}\\right)} e^{\\left(-2 \\, t\\right)}}{36 \\, L^{2}} + \\frac{{\\left(L^{3} e^{\\left(3 \\, t\\right)} - 3 \\, L^{3} e^{\\left(2 \\, t\\right)} + 3 \\, L^{3} e^{t}\\right)} {\\left(L^{2} e^{\\left(2 \\, t\\right)} - 2 \\, L^{2} e^{t}\\right)}^{2} e^{\\left(-3 \\, t\\right)}}{12 \\, L^{3}} - \\frac{5 \\, {\\left(L^{2} e^{\\left(2 \\, t\\right)} - 2 \\, L^{2} e^{t}\\right)}^{3} e^{\\left(-3 \\, t\\right)}}{144 \\, L^{3}} - \\frac{{\\left(L^{2} e^{\\left(2 \\, t\\right)} - 2 \\, L^{2} e^{t}\\right)}^{4} e^{\\left(-4 \\, t\\right)}}{64 \\, L^{4}}\\right) n^{-3} + O\\!\\left(n^{-4}\\right)$$"
      ],
      "text/plain": [
       "-n*log(n) + (1/2*L*e^t - 1/2/L + log(L*e^t))*n - 5/6*log(n) - 1/4*L^2*e^(2*t) + 1/2*L^2*e^t - 1/2*(L^2*e^(2*t) - 2*L^2*e^t)*e^(-t)/L + 5/6*log(L*e^t) + log(1/3*3^(1/3)*2^(2/3)/gamma(2/3)) + 1/4 + (1/6*L^3*e^(3*t) - 1/2*L^3*e^(2*t) + 1/2*L^3*e^t + 1/24*L + 1/3*(L^3*e^(3*t) - 3*L^3*e^(2*t) + 3*L^3*e^t)*e^(-t)/L - 5/12*(L^2*e^(2*t) - 2*L^2*e^t)*e^(-t)/L - 1/8*(L^2*e^(2*t) - 2*L^2*e^t)^2*e^(-2*t)/L^2)*n^(-1) + (-1/8*L^4*e^(4*t) + 1/2*L^4*e^(3*t) - 3/4*L^4*e^(2*t) + 1/2*L^4*e^t + 1/48*L^2 - 1/4*(L^4*e^(4*t) - 4*L^4*e^(3*t) + 6*L^4*e^(2*t) - 4*L^4*e^t)*e^(-t)/L + 5/18*(L^3*e^(3*t) - 3*L^3*e^(2*t) + 3*L^3*e^t)*e^(-t)/L + 1/6*(L^3*e^(3*t) - 3*L^3*e^(2*t) + 3*L^3*e^t)*(L^2*e^(2*t) - 2*L^2*e^t)*e^(-2*t)/L^2 - 5/48*(L^2*e^(2*t) - 2*L^2*e^t)^2*e^(-2*t)/L^2 - 1/24*(L^2*e^(2*t) - 2*L^2*e^t)^3*e^(-3*t)/L^3)*n^(-2) + (1/10*L^5*e^(5*t) - 1/2*L^5*e^(4*t) + L^5*e^(3*t) - L^5*e^(2*t) + 1/2*L^5*e^t + 19/1440*L^3 + 1/5*(L^5*e^(5*t) - 5*L^5*e^(4*t) + 10*L^5*e^(3*t) - 10*L^5*e^(2*t) + 5*L^5*e^t)*e^(-t)/L - 5/24*(L^4*e^(4*t) - 4*L^4*e^(3*t) + 6*L^4*e^(2*t) - 4*L^4*e^t)*e^(-t)/L - 1/18*(L^3*e^(3*t) - 3*L^3*e^(2*t) + 3*L^3*e^t)^2*e^(-2*t)/L^2 - 1/8*(L^4*e^(4*t) - 4*L^4*e^(3*t) + 6*L^4*e^(2*t) - 4*L^4*e^t)*(L^2*e^(2*t) - 2*L^2*e^t)*e^(-2*t)/L^2 + 5/36*(L^3*e^(3*t) - 3*L^3*e^(2*t) + 3*L^3*e^t)*(L^2*e^(2*t) - 2*L^2*e^t)*e^(-2*t)/L^2 + 1/12*(L^3*e^(3*t) - 3*L^3*e^(2*t) + 3*L^3*e^t)*(L^2*e^(2*t) - 2*L^2*e^t)^2*e^(-3*t)/L^3 - 5/144*(L^2*e^(2*t) - 2*L^2*e^t)^3*e^(-3*t)/L^3 - 1/64*(L^2*e^(2*t) - 2*L^2*e^t)^4*e^(-4*t)/L^4)*n^(-3) + O(n^(-4))"
      ]
     },
     "execution_count": 4,
     "metadata": {},
     "output_type": "execute_result"
    }
   ],
   "source": [
    "%display latex\n",
    "S = n*(n-1)/2*log(1 + e^t*y) + 5/6*log(log(1 + e^t*y)) + n*log(log(1 + e^t*y)) + n/2*log(1 + e^t*y) + log(2^(2/3)*airy_ai(0) - 1/3*diff(airy_ai(0)) *(log(1 + y))^(1/3))- 1/(2*log(1 + y)); S"
   ]
  },
  {
   "cell_type": "code",
   "execution_count": 5,
   "metadata": {
    "scrolled": true
   },
   "outputs": [
    {
     "data": {
      "text/html": [
       "<html><script type=\"math/tex; mode=display\">\\newcommand{\\Bold}[1]{\\mathbf{#1}}-n \\log\\left(n\\right) + \\left(\\frac{1}{2} \\, L - \\frac{e^{\\left(-t\\right)}}{2 \\, L} + \\log\\left(L\\right)\\right) n - \\frac{5}{6} \\log\\left(n\\right) + \\frac{1}{4} \\, L^{2} + \\frac{1}{2} \\, L - \\frac{{\\left(L^{2} e^{\\left(2 \\, t\\right)} - 2 \\, L^{2} e^{t}\\right)} e^{\\left(-2 \\, t\\right)}}{4 \\, L^{2}} + \\frac{5}{6} \\, \\log\\left(L\\right) + \\log\\left(\\frac{3^{\\frac{1}{3}} 2^{\\frac{2}{3}}}{3 \\, \\Gamma\\left(\\frac{2}{3}\\right)}\\right) + \\left(\\frac{1}{6} \\, L^{3} + \\frac{5}{24} \\, L^{2} + \\frac{5}{12} \\, L + \\frac{{\\left(\\frac{4 \\, {\\left(L^{3} e^{\\left(3 \\, t\\right)} - 3 \\, L^{3} e^{\\left(2 \\, t\\right)} + 3 \\, L^{3} e^{t}\\right)} e^{\\left(-t\\right)}}{L} - \\frac{3 \\, {\\left(L^{2} e^{\\left(2 \\, t\\right)} - 2 \\, L^{2} e^{t}\\right)}^{2} e^{\\left(-2 \\, t\\right)}}{L^{2}}\\right)} e^{\\left(-t\\right)}}{24 \\, L}\\right) n^{-1} + \\left(\\frac{1}{8} \\, L^{4} + \\frac{1}{8} \\, L^{3} + \\frac{25}{144} \\, L^{2} - \\frac{{\\left(\\frac{6 \\, {\\left(L^{4} e^{\\left(4 \\, t\\right)} - 4 \\, L^{4} e^{\\left(3 \\, t\\right)} + 6 \\, L^{4} e^{\\left(2 \\, t\\right)} - 4 \\, L^{4} e^{t}\\right)} e^{\\left(-t\\right)}}{L} - \\frac{8 \\, {\\left(L^{3} e^{\\left(3 \\, t\\right)} - 3 \\, L^{3} e^{\\left(2 \\, t\\right)} + 3 \\, L^{3} e^{t}\\right)} {\\left(L^{2} e^{\\left(2 \\, t\\right)} - 2 \\, L^{2} e^{t}\\right)} e^{\\left(-2 \\, t\\right)}}{L^{2}} + \\frac{3 \\, {\\left(L^{2} e^{\\left(2 \\, t\\right)} - 2 \\, L^{2} e^{t}\\right)}^{3} e^{\\left(-3 \\, t\\right)}}{L^{3}}\\right)} e^{\\left(-t\\right)}}{48 \\, L}\\right) n^{-2} + \\left(\\frac{1}{10} \\, L^{5} + \\frac{251}{2880} \\, L^{4} + \\frac{5}{48} \\, L^{3} + \\frac{{\\left(\\frac{144 \\, {\\left(L^{5} e^{\\left(5 \\, t\\right)} - 5 \\, L^{5} e^{\\left(4 \\, t\\right)} + 10 \\, L^{5} e^{\\left(3 \\, t\\right)} - 10 \\, L^{5} e^{\\left(2 \\, t\\right)} + 5 \\, L^{5} e^{t}\\right)} e^{\\left(-t\\right)}}{L} - \\frac{80 \\, {\\left(L^{3} e^{\\left(3 \\, t\\right)} - 3 \\, L^{3} e^{\\left(2 \\, t\\right)} + 3 \\, L^{3} e^{t}\\right)}^{2} e^{\\left(-2 \\, t\\right)}}{L^{2}} - \\frac{180 \\, {\\left(L^{4} e^{\\left(4 \\, t\\right)} - 4 \\, L^{4} e^{\\left(3 \\, t\\right)} + 6 \\, L^{4} e^{\\left(2 \\, t\\right)} - 4 \\, L^{4} e^{t}\\right)} {\\left(L^{2} e^{\\left(2 \\, t\\right)} - 2 \\, L^{2} e^{t}\\right)} e^{\\left(-2 \\, t\\right)}}{L^{2}} + \\frac{180 \\, {\\left(L^{3} e^{\\left(3 \\, t\\right)} - 3 \\, L^{3} e^{\\left(2 \\, t\\right)} + 3 \\, L^{3} e^{t}\\right)} {\\left(L^{2} e^{\\left(2 \\, t\\right)} - 2 \\, L^{2} e^{t}\\right)}^{2} e^{\\left(-3 \\, t\\right)}}{L^{3}} - \\frac{45 \\, {\\left(L^{2} e^{\\left(2 \\, t\\right)} - 2 \\, L^{2} e^{t}\\right)}^{4} e^{\\left(-4 \\, t\\right)}}{L^{4}}\\right)} e^{\\left(-t\\right)}}{1440 \\, L}\\right) n^{-3} + O\\!\\left(n^{-4}\\right)</script></html>"
      ],
      "text/latex": [
       "$$\\newcommand{\\Bold}[1]{\\mathbf{#1}}-n \\log\\left(n\\right) + \\left(\\frac{1}{2} \\, L - \\frac{e^{\\left(-t\\right)}}{2 \\, L} + \\log\\left(L\\right)\\right) n - \\frac{5}{6} \\log\\left(n\\right) + \\frac{1}{4} \\, L^{2} + \\frac{1}{2} \\, L - \\frac{{\\left(L^{2} e^{\\left(2 \\, t\\right)} - 2 \\, L^{2} e^{t}\\right)} e^{\\left(-2 \\, t\\right)}}{4 \\, L^{2}} + \\frac{5}{6} \\, \\log\\left(L\\right) + \\log\\left(\\frac{3^{\\frac{1}{3}} 2^{\\frac{2}{3}}}{3 \\, \\Gamma\\left(\\frac{2}{3}\\right)}\\right) + \\left(\\frac{1}{6} \\, L^{3} + \\frac{5}{24} \\, L^{2} + \\frac{5}{12} \\, L + \\frac{{\\left(\\frac{4 \\, {\\left(L^{3} e^{\\left(3 \\, t\\right)} - 3 \\, L^{3} e^{\\left(2 \\, t\\right)} + 3 \\, L^{3} e^{t}\\right)} e^{\\left(-t\\right)}}{L} - \\frac{3 \\, {\\left(L^{2} e^{\\left(2 \\, t\\right)} - 2 \\, L^{2} e^{t}\\right)}^{2} e^{\\left(-2 \\, t\\right)}}{L^{2}}\\right)} e^{\\left(-t\\right)}}{24 \\, L}\\right) n^{-1} + \\left(\\frac{1}{8} \\, L^{4} + \\frac{1}{8} \\, L^{3} + \\frac{25}{144} \\, L^{2} - \\frac{{\\left(\\frac{6 \\, {\\left(L^{4} e^{\\left(4 \\, t\\right)} - 4 \\, L^{4} e^{\\left(3 \\, t\\right)} + 6 \\, L^{4} e^{\\left(2 \\, t\\right)} - 4 \\, L^{4} e^{t}\\right)} e^{\\left(-t\\right)}}{L} - \\frac{8 \\, {\\left(L^{3} e^{\\left(3 \\, t\\right)} - 3 \\, L^{3} e^{\\left(2 \\, t\\right)} + 3 \\, L^{3} e^{t}\\right)} {\\left(L^{2} e^{\\left(2 \\, t\\right)} - 2 \\, L^{2} e^{t}\\right)} e^{\\left(-2 \\, t\\right)}}{L^{2}} + \\frac{3 \\, {\\left(L^{2} e^{\\left(2 \\, t\\right)} - 2 \\, L^{2} e^{t}\\right)}^{3} e^{\\left(-3 \\, t\\right)}}{L^{3}}\\right)} e^{\\left(-t\\right)}}{48 \\, L}\\right) n^{-2} + \\left(\\frac{1}{10} \\, L^{5} + \\frac{251}{2880} \\, L^{4} + \\frac{5}{48} \\, L^{3} + \\frac{{\\left(\\frac{144 \\, {\\left(L^{5} e^{\\left(5 \\, t\\right)} - 5 \\, L^{5} e^{\\left(4 \\, t\\right)} + 10 \\, L^{5} e^{\\left(3 \\, t\\right)} - 10 \\, L^{5} e^{\\left(2 \\, t\\right)} + 5 \\, L^{5} e^{t}\\right)} e^{\\left(-t\\right)}}{L} - \\frac{80 \\, {\\left(L^{3} e^{\\left(3 \\, t\\right)} - 3 \\, L^{3} e^{\\left(2 \\, t\\right)} + 3 \\, L^{3} e^{t}\\right)}^{2} e^{\\left(-2 \\, t\\right)}}{L^{2}} - \\frac{180 \\, {\\left(L^{4} e^{\\left(4 \\, t\\right)} - 4 \\, L^{4} e^{\\left(3 \\, t\\right)} + 6 \\, L^{4} e^{\\left(2 \\, t\\right)} - 4 \\, L^{4} e^{t}\\right)} {\\left(L^{2} e^{\\left(2 \\, t\\right)} - 2 \\, L^{2} e^{t}\\right)} e^{\\left(-2 \\, t\\right)}}{L^{2}} + \\frac{180 \\, {\\left(L^{3} e^{\\left(3 \\, t\\right)} - 3 \\, L^{3} e^{\\left(2 \\, t\\right)} + 3 \\, L^{3} e^{t}\\right)} {\\left(L^{2} e^{\\left(2 \\, t\\right)} - 2 \\, L^{2} e^{t}\\right)}^{2} e^{\\left(-3 \\, t\\right)}}{L^{3}} - \\frac{45 \\, {\\left(L^{2} e^{\\left(2 \\, t\\right)} - 2 \\, L^{2} e^{t}\\right)}^{4} e^{\\left(-4 \\, t\\right)}}{L^{4}}\\right)} e^{\\left(-t\\right)}}{1440 \\, L}\\right) n^{-3} + O\\!\\left(n^{-4}\\right)$$"
      ],
      "text/plain": [
       "-n*log(n) + (1/2*L - 1/2*e^(-t)/L + log(L))*n - 5/6*log(n) + 1/4*L^2 + 1/2*L - 1/4*(L^2*e^(2*t) - 2*L^2*e^t)*e^(-2*t)/L^2 + 5/6*log(L) + log(1/3*3^(1/3)*2^(2/3)/gamma(2/3)) + (1/6*L^3 + 5/24*L^2 + 5/12*L + 1/24*(4*(L^3*e^(3*t) - 3*L^3*e^(2*t) + 3*L^3*e^t)*e^(-t)/L - 3*(L^2*e^(2*t) - 2*L^2*e^t)^2*e^(-2*t)/L^2)*e^(-t)/L)*n^(-1) + (1/8*L^4 + 1/8*L^3 + 25/144*L^2 - 1/48*(6*(L^4*e^(4*t) - 4*L^4*e^(3*t) + 6*L^4*e^(2*t) - 4*L^4*e^t)*e^(-t)/L - 8*(L^3*e^(3*t) - 3*L^3*e^(2*t) + 3*L^3*e^t)*(L^2*e^(2*t) - 2*L^2*e^t)*e^(-2*t)/L^2 + 3*(L^2*e^(2*t) - 2*L^2*e^t)^3*e^(-3*t)/L^3)*e^(-t)/L)*n^(-2) + (1/10*L^5 + 251/2880*L^4 + 5/48*L^3 + 1/1440*(144*(L^5*e^(5*t) - 5*L^5*e^(4*t) + 10*L^5*e^(3*t) - 10*L^5*e^(2*t) + 5*L^5*e^t)*e^(-t)/L - 80*(L^3*e^(3*t) - 3*L^3*e^(2*t) + 3*L^3*e^t)^2*e^(-2*t)/L^2 - 180*(L^4*e^(4*t) - 4*L^4*e^(3*t) + 6*L^4*e^(2*t) - 4*L^4*e^t)*(L^2*e^(2*t) - 2*L^2*e^t)*e^(-2*t)/L^2 + 180*(L^3*e^(3*t) - 3*L^3*e^(2*t) + 3*L^3*e^t)*(L^2*e^(2*t) - 2*L^2*e^t)^2*e^(-3*t)/L^3 - 45*(L^2*e^(2*t) - 2*L^2*e^t)^4*e^(-4*t)/L^4)*e^(-t)/L)*n^(-3) + O(n^(-4))"
      ]
     },
     "execution_count": 5,
     "metadata": {},
     "output_type": "execute_result"
    }
   ],
   "source": [
    "S2 = n*(n-1)/2*log(1 + y) + 5/6*log(log(1 + y)) + n*log(log(1 + y)) + n/2*log(1 + y) + log(2^(2/3)*airy_ai(0) - 1/3*diff(airy_ai(0)) *(log(1 + e^t* y))^(1/3))- 1/(2*log(1 + e^t*y)); S2"
   ]
  },
  {
   "cell_type": "code",
   "execution_count": 6,
   "metadata": {},
   "outputs": [
    {
     "data": {
      "text/html": [
       "<html><script type=\"math/tex; mode=display\">\\newcommand{\\Bold}[1]{\\mathbf{#1}}\\left(\\frac{1}{2} \\, L e^{t} - \\frac{1}{2} \\, L + \\frac{e^{\\left(-t\\right)}}{2 \\, L} - \\frac{1}{2 \\, L} + \\log\\left(L e^{t}\\right) - \\log\\left(L\\right)\\right) n - \\frac{1}{4} \\, L^{2} e^{\\left(2 \\, t\\right)} + \\frac{1}{2} \\, L^{2} e^{t} - \\frac{1}{4} \\, L^{2} - \\frac{1}{2} \\, L - \\frac{{\\left(L^{2} e^{\\left(2 \\, t\\right)} - 2 \\, L^{2} e^{t}\\right)} e^{\\left(-t\\right)}}{2 \\, L} + \\frac{{\\left(L^{2} e^{\\left(2 \\, t\\right)} - 2 \\, L^{2} e^{t}\\right)} e^{\\left(-2 \\, t\\right)}}{4 \\, L^{2}} + \\frac{5}{6} \\, \\log\\left(L e^{t}\\right) - \\frac{5}{6} \\, \\log\\left(L\\right) + \\frac{1}{4} + \\left(\\frac{1}{6} \\, L^{3} e^{\\left(3 \\, t\\right)} - \\frac{1}{2} \\, L^{3} e^{\\left(2 \\, t\\right)} + \\frac{1}{2} \\, L^{3} e^{t} - \\frac{1}{6} \\, L^{3} - \\frac{5}{24} \\, L^{2} - \\frac{3}{8} \\, L + \\frac{{\\left(L^{3} e^{\\left(3 \\, t\\right)} - 3 \\, L^{3} e^{\\left(2 \\, t\\right)} + 3 \\, L^{3} e^{t}\\right)} e^{\\left(-t\\right)}}{3 \\, L} - \\frac{5 \\, {\\left(L^{2} e^{\\left(2 \\, t\\right)} - 2 \\, L^{2} e^{t}\\right)} e^{\\left(-t\\right)}}{12 \\, L} - \\frac{{\\left(\\frac{4 \\, {\\left(L^{3} e^{\\left(3 \\, t\\right)} - 3 \\, L^{3} e^{\\left(2 \\, t\\right)} + 3 \\, L^{3} e^{t}\\right)} e^{\\left(-t\\right)}}{L} - \\frac{3 \\, {\\left(L^{2} e^{\\left(2 \\, t\\right)} - 2 \\, L^{2} e^{t}\\right)}^{2} e^{\\left(-2 \\, t\\right)}}{L^{2}}\\right)} e^{\\left(-t\\right)}}{24 \\, L} - \\frac{{\\left(L^{2} e^{\\left(2 \\, t\\right)} - 2 \\, L^{2} e^{t}\\right)}^{2} e^{\\left(-2 \\, t\\right)}}{8 \\, L^{2}}\\right) n^{-1} + \\left(-\\frac{1}{8} \\, L^{4} e^{\\left(4 \\, t\\right)} + \\frac{1}{2} \\, L^{4} e^{\\left(3 \\, t\\right)} - \\frac{3}{4} \\, L^{4} e^{\\left(2 \\, t\\right)} + \\frac{1}{2} \\, L^{4} e^{t} - \\frac{1}{8} \\, L^{4} - \\frac{1}{8} \\, L^{3} - \\frac{11}{72} \\, L^{2} - \\frac{{\\left(L^{4} e^{\\left(4 \\, t\\right)} - 4 \\, L^{4} e^{\\left(3 \\, t\\right)} + 6 \\, L^{4} e^{\\left(2 \\, t\\right)} - 4 \\, L^{4} e^{t}\\right)} e^{\\left(-t\\right)}}{4 \\, L} + \\frac{5 \\, {\\left(L^{3} e^{\\left(3 \\, t\\right)} - 3 \\, L^{3} e^{\\left(2 \\, t\\right)} + 3 \\, L^{3} e^{t}\\right)} e^{\\left(-t\\right)}}{18 \\, L} + \\frac{{\\left(\\frac{6 \\, {\\left(L^{4} e^{\\left(4 \\, t\\right)} - 4 \\, L^{4} e^{\\left(3 \\, t\\right)} + 6 \\, L^{4} e^{\\left(2 \\, t\\right)} - 4 \\, L^{4} e^{t}\\right)} e^{\\left(-t\\right)}}{L} - \\frac{8 \\, {\\left(L^{3} e^{\\left(3 \\, t\\right)} - 3 \\, L^{3} e^{\\left(2 \\, t\\right)} + 3 \\, L^{3} e^{t}\\right)} {\\left(L^{2} e^{\\left(2 \\, t\\right)} - 2 \\, L^{2} e^{t}\\right)} e^{\\left(-2 \\, t\\right)}}{L^{2}} + \\frac{3 \\, {\\left(L^{2} e^{\\left(2 \\, t\\right)} - 2 \\, L^{2} e^{t}\\right)}^{3} e^{\\left(-3 \\, t\\right)}}{L^{3}}\\right)} e^{\\left(-t\\right)}}{48 \\, L} + \\frac{{\\left(L^{3} e^{\\left(3 \\, t\\right)} - 3 \\, L^{3} e^{\\left(2 \\, t\\right)} + 3 \\, L^{3} e^{t}\\right)} {\\left(L^{2} e^{\\left(2 \\, t\\right)} - 2 \\, L^{2} e^{t}\\right)} e^{\\left(-2 \\, t\\right)}}{6 \\, L^{2}} - \\frac{5 \\, {\\left(L^{2} e^{\\left(2 \\, t\\right)} - 2 \\, L^{2} e^{t}\\right)}^{2} e^{\\left(-2 \\, t\\right)}}{48 \\, L^{2}} - \\frac{{\\left(L^{2} e^{\\left(2 \\, t\\right)} - 2 \\, L^{2} e^{t}\\right)}^{3} e^{\\left(-3 \\, t\\right)}}{24 \\, L^{3}}\\right) n^{-2} + \\left(\\frac{1}{10} \\, L^{5} e^{\\left(5 \\, t\\right)} - \\frac{1}{2} \\, L^{5} e^{\\left(4 \\, t\\right)} + L^{5} e^{\\left(3 \\, t\\right)} - L^{5} e^{\\left(2 \\, t\\right)} + \\frac{1}{2} \\, L^{5} e^{t} - \\frac{1}{10} \\, L^{5} - \\frac{251}{2880} \\, L^{4} - \\frac{131}{1440} \\, L^{3} + \\frac{{\\left(L^{5} e^{\\left(5 \\, t\\right)} - 5 \\, L^{5} e^{\\left(4 \\, t\\right)} + 10 \\, L^{5} e^{\\left(3 \\, t\\right)} - 10 \\, L^{5} e^{\\left(2 \\, t\\right)} + 5 \\, L^{5} e^{t}\\right)} e^{\\left(-t\\right)}}{5 \\, L} - \\frac{5 \\, {\\left(L^{4} e^{\\left(4 \\, t\\right)} - 4 \\, L^{4} e^{\\left(3 \\, t\\right)} + 6 \\, L^{4} e^{\\left(2 \\, t\\right)} - 4 \\, L^{4} e^{t}\\right)} e^{\\left(-t\\right)}}{24 \\, L} - \\frac{{\\left(\\frac{144 \\, {\\left(L^{5} e^{\\left(5 \\, t\\right)} - 5 \\, L^{5} e^{\\left(4 \\, t\\right)} + 10 \\, L^{5} e^{\\left(3 \\, t\\right)} - 10 \\, L^{5} e^{\\left(2 \\, t\\right)} + 5 \\, L^{5} e^{t}\\right)} e^{\\left(-t\\right)}}{L} - \\frac{80 \\, {\\left(L^{3} e^{\\left(3 \\, t\\right)} - 3 \\, L^{3} e^{\\left(2 \\, t\\right)} + 3 \\, L^{3} e^{t}\\right)}^{2} e^{\\left(-2 \\, t\\right)}}{L^{2}} - \\frac{180 \\, {\\left(L^{4} e^{\\left(4 \\, t\\right)} - 4 \\, L^{4} e^{\\left(3 \\, t\\right)} + 6 \\, L^{4} e^{\\left(2 \\, t\\right)} - 4 \\, L^{4} e^{t}\\right)} {\\left(L^{2} e^{\\left(2 \\, t\\right)} - 2 \\, L^{2} e^{t}\\right)} e^{\\left(-2 \\, t\\right)}}{L^{2}} + \\frac{180 \\, {\\left(L^{3} e^{\\left(3 \\, t\\right)} - 3 \\, L^{3} e^{\\left(2 \\, t\\right)} + 3 \\, L^{3} e^{t}\\right)} {\\left(L^{2} e^{\\left(2 \\, t\\right)} - 2 \\, L^{2} e^{t}\\right)}^{2} e^{\\left(-3 \\, t\\right)}}{L^{3}} - \\frac{45 \\, {\\left(L^{2} e^{\\left(2 \\, t\\right)} - 2 \\, L^{2} e^{t}\\right)}^{4} e^{\\left(-4 \\, t\\right)}}{L^{4}}\\right)} e^{\\left(-t\\right)}}{1440 \\, L} - \\frac{{\\left(L^{3} e^{\\left(3 \\, t\\right)} - 3 \\, L^{3} e^{\\left(2 \\, t\\right)} + 3 \\, L^{3} e^{t}\\right)}^{2} e^{\\left(-2 \\, t\\right)}}{18 \\, L^{2}} - \\frac{{\\left(L^{4} e^{\\left(4 \\, t\\right)} - 4 \\, L^{4} e^{\\left(3 \\, t\\right)} + 6 \\, L^{4} e^{\\left(2 \\, t\\right)} - 4 \\, L^{4} e^{t}\\right)} {\\left(L^{2} e^{\\left(2 \\, t\\right)} - 2 \\, L^{2} e^{t}\\right)} e^{\\left(-2 \\, t\\right)}}{8 \\, L^{2}} + \\frac{5 \\, {\\left(L^{3} e^{\\left(3 \\, t\\right)} - 3 \\, L^{3} e^{\\left(2 \\, t\\right)} + 3 \\, L^{3} e^{t}\\right)} {\\left(L^{2} e^{\\left(2 \\, t\\right)} - 2 \\, L^{2} e^{t}\\right)} e^{\\left(-2 \\, t\\right)}}{36 \\, L^{2}} + \\frac{{\\left(L^{3} e^{\\left(3 \\, t\\right)} - 3 \\, L^{3} e^{\\left(2 \\, t\\right)} + 3 \\, L^{3} e^{t}\\right)} {\\left(L^{2} e^{\\left(2 \\, t\\right)} - 2 \\, L^{2} e^{t}\\right)}^{2} e^{\\left(-3 \\, t\\right)}}{12 \\, L^{3}} - \\frac{5 \\, {\\left(L^{2} e^{\\left(2 \\, t\\right)} - 2 \\, L^{2} e^{t}\\right)}^{3} e^{\\left(-3 \\, t\\right)}}{144 \\, L^{3}} - \\frac{{\\left(L^{2} e^{\\left(2 \\, t\\right)} - 2 \\, L^{2} e^{t}\\right)}^{4} e^{\\left(-4 \\, t\\right)}}{64 \\, L^{4}}\\right) n^{-3} + O\\!\\left(n^{-4}\\right)</script></html>"
      ],
      "text/latex": [
       "$$\\newcommand{\\Bold}[1]{\\mathbf{#1}}\\left(\\frac{1}{2} \\, L e^{t} - \\frac{1}{2} \\, L + \\frac{e^{\\left(-t\\right)}}{2 \\, L} - \\frac{1}{2 \\, L} + \\log\\left(L e^{t}\\right) - \\log\\left(L\\right)\\right) n - \\frac{1}{4} \\, L^{2} e^{\\left(2 \\, t\\right)} + \\frac{1}{2} \\, L^{2} e^{t} - \\frac{1}{4} \\, L^{2} - \\frac{1}{2} \\, L - \\frac{{\\left(L^{2} e^{\\left(2 \\, t\\right)} - 2 \\, L^{2} e^{t}\\right)} e^{\\left(-t\\right)}}{2 \\, L} + \\frac{{\\left(L^{2} e^{\\left(2 \\, t\\right)} - 2 \\, L^{2} e^{t}\\right)} e^{\\left(-2 \\, t\\right)}}{4 \\, L^{2}} + \\frac{5}{6} \\, \\log\\left(L e^{t}\\right) - \\frac{5}{6} \\, \\log\\left(L\\right) + \\frac{1}{4} + \\left(\\frac{1}{6} \\, L^{3} e^{\\left(3 \\, t\\right)} - \\frac{1}{2} \\, L^{3} e^{\\left(2 \\, t\\right)} + \\frac{1}{2} \\, L^{3} e^{t} - \\frac{1}{6} \\, L^{3} - \\frac{5}{24} \\, L^{2} - \\frac{3}{8} \\, L + \\frac{{\\left(L^{3} e^{\\left(3 \\, t\\right)} - 3 \\, L^{3} e^{\\left(2 \\, t\\right)} + 3 \\, L^{3} e^{t}\\right)} e^{\\left(-t\\right)}}{3 \\, L} - \\frac{5 \\, {\\left(L^{2} e^{\\left(2 \\, t\\right)} - 2 \\, L^{2} e^{t}\\right)} e^{\\left(-t\\right)}}{12 \\, L} - \\frac{{\\left(\\frac{4 \\, {\\left(L^{3} e^{\\left(3 \\, t\\right)} - 3 \\, L^{3} e^{\\left(2 \\, t\\right)} + 3 \\, L^{3} e^{t}\\right)} e^{\\left(-t\\right)}}{L} - \\frac{3 \\, {\\left(L^{2} e^{\\left(2 \\, t\\right)} - 2 \\, L^{2} e^{t}\\right)}^{2} e^{\\left(-2 \\, t\\right)}}{L^{2}}\\right)} e^{\\left(-t\\right)}}{24 \\, L} - \\frac{{\\left(L^{2} e^{\\left(2 \\, t\\right)} - 2 \\, L^{2} e^{t}\\right)}^{2} e^{\\left(-2 \\, t\\right)}}{8 \\, L^{2}}\\right) n^{-1} + \\left(-\\frac{1}{8} \\, L^{4} e^{\\left(4 \\, t\\right)} + \\frac{1}{2} \\, L^{4} e^{\\left(3 \\, t\\right)} - \\frac{3}{4} \\, L^{4} e^{\\left(2 \\, t\\right)} + \\frac{1}{2} \\, L^{4} e^{t} - \\frac{1}{8} \\, L^{4} - \\frac{1}{8} \\, L^{3} - \\frac{11}{72} \\, L^{2} - \\frac{{\\left(L^{4} e^{\\left(4 \\, t\\right)} - 4 \\, L^{4} e^{\\left(3 \\, t\\right)} + 6 \\, L^{4} e^{\\left(2 \\, t\\right)} - 4 \\, L^{4} e^{t}\\right)} e^{\\left(-t\\right)}}{4 \\, L} + \\frac{5 \\, {\\left(L^{3} e^{\\left(3 \\, t\\right)} - 3 \\, L^{3} e^{\\left(2 \\, t\\right)} + 3 \\, L^{3} e^{t}\\right)} e^{\\left(-t\\right)}}{18 \\, L} + \\frac{{\\left(\\frac{6 \\, {\\left(L^{4} e^{\\left(4 \\, t\\right)} - 4 \\, L^{4} e^{\\left(3 \\, t\\right)} + 6 \\, L^{4} e^{\\left(2 \\, t\\right)} - 4 \\, L^{4} e^{t}\\right)} e^{\\left(-t\\right)}}{L} - \\frac{8 \\, {\\left(L^{3} e^{\\left(3 \\, t\\right)} - 3 \\, L^{3} e^{\\left(2 \\, t\\right)} + 3 \\, L^{3} e^{t}\\right)} {\\left(L^{2} e^{\\left(2 \\, t\\right)} - 2 \\, L^{2} e^{t}\\right)} e^{\\left(-2 \\, t\\right)}}{L^{2}} + \\frac{3 \\, {\\left(L^{2} e^{\\left(2 \\, t\\right)} - 2 \\, L^{2} e^{t}\\right)}^{3} e^{\\left(-3 \\, t\\right)}}{L^{3}}\\right)} e^{\\left(-t\\right)}}{48 \\, L} + \\frac{{\\left(L^{3} e^{\\left(3 \\, t\\right)} - 3 \\, L^{3} e^{\\left(2 \\, t\\right)} + 3 \\, L^{3} e^{t}\\right)} {\\left(L^{2} e^{\\left(2 \\, t\\right)} - 2 \\, L^{2} e^{t}\\right)} e^{\\left(-2 \\, t\\right)}}{6 \\, L^{2}} - \\frac{5 \\, {\\left(L^{2} e^{\\left(2 \\, t\\right)} - 2 \\, L^{2} e^{t}\\right)}^{2} e^{\\left(-2 \\, t\\right)}}{48 \\, L^{2}} - \\frac{{\\left(L^{2} e^{\\left(2 \\, t\\right)} - 2 \\, L^{2} e^{t}\\right)}^{3} e^{\\left(-3 \\, t\\right)}}{24 \\, L^{3}}\\right) n^{-2} + \\left(\\frac{1}{10} \\, L^{5} e^{\\left(5 \\, t\\right)} - \\frac{1}{2} \\, L^{5} e^{\\left(4 \\, t\\right)} + L^{5} e^{\\left(3 \\, t\\right)} - L^{5} e^{\\left(2 \\, t\\right)} + \\frac{1}{2} \\, L^{5} e^{t} - \\frac{1}{10} \\, L^{5} - \\frac{251}{2880} \\, L^{4} - \\frac{131}{1440} \\, L^{3} + \\frac{{\\left(L^{5} e^{\\left(5 \\, t\\right)} - 5 \\, L^{5} e^{\\left(4 \\, t\\right)} + 10 \\, L^{5} e^{\\left(3 \\, t\\right)} - 10 \\, L^{5} e^{\\left(2 \\, t\\right)} + 5 \\, L^{5} e^{t}\\right)} e^{\\left(-t\\right)}}{5 \\, L} - \\frac{5 \\, {\\left(L^{4} e^{\\left(4 \\, t\\right)} - 4 \\, L^{4} e^{\\left(3 \\, t\\right)} + 6 \\, L^{4} e^{\\left(2 \\, t\\right)} - 4 \\, L^{4} e^{t}\\right)} e^{\\left(-t\\right)}}{24 \\, L} - \\frac{{\\left(\\frac{144 \\, {\\left(L^{5} e^{\\left(5 \\, t\\right)} - 5 \\, L^{5} e^{\\left(4 \\, t\\right)} + 10 \\, L^{5} e^{\\left(3 \\, t\\right)} - 10 \\, L^{5} e^{\\left(2 \\, t\\right)} + 5 \\, L^{5} e^{t}\\right)} e^{\\left(-t\\right)}}{L} - \\frac{80 \\, {\\left(L^{3} e^{\\left(3 \\, t\\right)} - 3 \\, L^{3} e^{\\left(2 \\, t\\right)} + 3 \\, L^{3} e^{t}\\right)}^{2} e^{\\left(-2 \\, t\\right)}}{L^{2}} - \\frac{180 \\, {\\left(L^{4} e^{\\left(4 \\, t\\right)} - 4 \\, L^{4} e^{\\left(3 \\, t\\right)} + 6 \\, L^{4} e^{\\left(2 \\, t\\right)} - 4 \\, L^{4} e^{t}\\right)} {\\left(L^{2} e^{\\left(2 \\, t\\right)} - 2 \\, L^{2} e^{t}\\right)} e^{\\left(-2 \\, t\\right)}}{L^{2}} + \\frac{180 \\, {\\left(L^{3} e^{\\left(3 \\, t\\right)} - 3 \\, L^{3} e^{\\left(2 \\, t\\right)} + 3 \\, L^{3} e^{t}\\right)} {\\left(L^{2} e^{\\left(2 \\, t\\right)} - 2 \\, L^{2} e^{t}\\right)}^{2} e^{\\left(-3 \\, t\\right)}}{L^{3}} - \\frac{45 \\, {\\left(L^{2} e^{\\left(2 \\, t\\right)} - 2 \\, L^{2} e^{t}\\right)}^{4} e^{\\left(-4 \\, t\\right)}}{L^{4}}\\right)} e^{\\left(-t\\right)}}{1440 \\, L} - \\frac{{\\left(L^{3} e^{\\left(3 \\, t\\right)} - 3 \\, L^{3} e^{\\left(2 \\, t\\right)} + 3 \\, L^{3} e^{t}\\right)}^{2} e^{\\left(-2 \\, t\\right)}}{18 \\, L^{2}} - \\frac{{\\left(L^{4} e^{\\left(4 \\, t\\right)} - 4 \\, L^{4} e^{\\left(3 \\, t\\right)} + 6 \\, L^{4} e^{\\left(2 \\, t\\right)} - 4 \\, L^{4} e^{t}\\right)} {\\left(L^{2} e^{\\left(2 \\, t\\right)} - 2 \\, L^{2} e^{t}\\right)} e^{\\left(-2 \\, t\\right)}}{8 \\, L^{2}} + \\frac{5 \\, {\\left(L^{3} e^{\\left(3 \\, t\\right)} - 3 \\, L^{3} e^{\\left(2 \\, t\\right)} + 3 \\, L^{3} e^{t}\\right)} {\\left(L^{2} e^{\\left(2 \\, t\\right)} - 2 \\, L^{2} e^{t}\\right)} e^{\\left(-2 \\, t\\right)}}{36 \\, L^{2}} + \\frac{{\\left(L^{3} e^{\\left(3 \\, t\\right)} - 3 \\, L^{3} e^{\\left(2 \\, t\\right)} + 3 \\, L^{3} e^{t}\\right)} {\\left(L^{2} e^{\\left(2 \\, t\\right)} - 2 \\, L^{2} e^{t}\\right)}^{2} e^{\\left(-3 \\, t\\right)}}{12 \\, L^{3}} - \\frac{5 \\, {\\left(L^{2} e^{\\left(2 \\, t\\right)} - 2 \\, L^{2} e^{t}\\right)}^{3} e^{\\left(-3 \\, t\\right)}}{144 \\, L^{3}} - \\frac{{\\left(L^{2} e^{\\left(2 \\, t\\right)} - 2 \\, L^{2} e^{t}\\right)}^{4} e^{\\left(-4 \\, t\\right)}}{64 \\, L^{4}}\\right) n^{-3} + O\\!\\left(n^{-4}\\right)$$"
      ],
      "text/plain": [
       "(1/2*L*e^t - 1/2*L + 1/2*e^(-t)/L - 1/2/L + log(L*e^t) - log(L))*n - 1/4*L^2*e^(2*t) + 1/2*L^2*e^t - 1/4*L^2 - 1/2*L - 1/2*(L^2*e^(2*t) - 2*L^2*e^t)*e^(-t)/L + 1/4*(L^2*e^(2*t) - 2*L^2*e^t)*e^(-2*t)/L^2 + 5/6*log(L*e^t) - 5/6*log(L) + 1/4 + (1/6*L^3*e^(3*t) - 1/2*L^3*e^(2*t) + 1/2*L^3*e^t - 1/6*L^3 - 5/24*L^2 - 3/8*L + 1/3*(L^3*e^(3*t) - 3*L^3*e^(2*t) + 3*L^3*e^t)*e^(-t)/L - 5/12*(L^2*e^(2*t) - 2*L^2*e^t)*e^(-t)/L - 1/24*(4*(L^3*e^(3*t) - 3*L^3*e^(2*t) + 3*L^3*e^t)*e^(-t)/L - 3*(L^2*e^(2*t) - 2*L^2*e^t)^2*e^(-2*t)/L^2)*e^(-t)/L - 1/8*(L^2*e^(2*t) - 2*L^2*e^t)^2*e^(-2*t)/L^2)*n^(-1) + (-1/8*L^4*e^(4*t) + 1/2*L^4*e^(3*t) - 3/4*L^4*e^(2*t) + 1/2*L^4*e^t - 1/8*L^4 - 1/8*L^3 - 11/72*L^2 - 1/4*(L^4*e^(4*t) - 4*L^4*e^(3*t) + 6*L^4*e^(2*t) - 4*L^4*e^t)*e^(-t)/L + 5/18*(L^3*e^(3*t) - 3*L^3*e^(2*t) + 3*L^3*e^t)*e^(-t)/L + 1/48*(6*(L^4*e^(4*t) - 4*L^4*e^(3*t) + 6*L^4*e^(2*t) - 4*L^4*e^t)*e^(-t)/L - 8*(L^3*e^(3*t) - 3*L^3*e^(2*t) + 3*L^3*e^t)*(L^2*e^(2*t) - 2*L^2*e^t)*e^(-2*t)/L^2 + 3*(L^2*e^(2*t) - 2*L^2*e^t)^3*e^(-3*t)/L^3)*e^(-t)/L + 1/6*(L^3*e^(3*t) - 3*L^3*e^(2*t) + 3*L^3*e^t)*(L^2*e^(2*t) - 2*L^2*e^t)*e^(-2*t)/L^2 - 5/48*(L^2*e^(2*t) - 2*L^2*e^t)^2*e^(-2*t)/L^2 - 1/24*(L^2*e^(2*t) - 2*L^2*e^t)^3*e^(-3*t)/L^3)*n^(-2) + (1/10*L^5*e^(5*t) - 1/2*L^5*e^(4*t) + L^5*e^(3*t) - L^5*e^(2*t) + 1/2*L^5*e^t - 1/10*L^5 - 251/2880*L^4 - 131/1440*L^3 + 1/5*(L^5*e^(5*t) - 5*L^5*e^(4*t) + 10*L^5*e^(3*t) - 10*L^5*e^(2*t) + 5*L^5*e^t)*e^(-t)/L - 5/24*(L^4*e^(4*t) - 4*L^4*e^(3*t) + 6*L^4*e^(2*t) - 4*L^4*e^t)*e^(-t)/L - 1/1440*(144*(L^5*e^(5*t) - 5*L^5*e^(4*t) + 10*L^5*e^(3*t) - 10*L^5*e^(2*t) + 5*L^5*e^t)*e^(-t)/L - 80*(L^3*e^(3*t) - 3*L^3*e^(2*t) + 3*L^3*e^t)^2*e^(-2*t)/L^2 - 180*(L^4*e^(4*t) - 4*L^4*e^(3*t) + 6*L^4*e^(2*t) - 4*L^4*e^t)*(L^2*e^(2*t) - 2*L^2*e^t)*e^(-2*t)/L^2 + 180*(L^3*e^(3*t) - 3*L^3*e^(2*t) + 3*L^3*e^t)*(L^2*e^(2*t) - 2*L^2*e^t)^2*e^(-3*t)/L^3 - 45*(L^2*e^(2*t) - 2*L^2*e^t)^4*e^(-4*t)/L^4)*e^(-t)/L - 1/18*(L^3*e^(3*t) - 3*L^3*e^(2*t) + 3*L^3*e^t)^2*e^(-2*t)/L^2 - 1/8*(L^4*e^(4*t) - 4*L^4*e^(3*t) + 6*L^4*e^(2*t) - 4*L^4*e^t)*(L^2*e^(2*t) - 2*L^2*e^t)*e^(-2*t)/L^2 + 5/36*(L^3*e^(3*t) - 3*L^3*e^(2*t) + 3*L^3*e^t)*(L^2*e^(2*t) - 2*L^2*e^t)*e^(-2*t)/L^2 + 1/12*(L^3*e^(3*t) - 3*L^3*e^(2*t) + 3*L^3*e^t)*(L^2*e^(2*t) - 2*L^2*e^t)^2*e^(-3*t)/L^3 - 5/144*(L^2*e^(2*t) - 2*L^2*e^t)^3*e^(-3*t)/L^3 - 1/64*(L^2*e^(2*t) - 2*L^2*e^t)^4*e^(-4*t)/L^4)*n^(-3) + O(n^(-4))"
      ]
     },
     "execution_count": 6,
     "metadata": {},
     "output_type": "execute_result"
    }
   ],
   "source": [
    "%display latex\n",
    "S-S2"
   ]
  },
  {
   "cell_type": "code",
   "execution_count": 7,
   "metadata": {},
   "outputs": [
    {
     "data": {
      "text/html": [
       "<html><script type=\"math/tex; mode=display\">\\newcommand{\\Bold}[1]{\\mathbf{#1}}\\left(\\frac{1}{2} \\, e^{\\left(-t\\right)} + \\frac{1}{2} \\, e^{t} + \\log\\left(e^{t}\\right) - 1\\right) n - \\frac{1}{2} \\, {\\left(e^{\\left(2 \\, t\\right)} - 2 \\, e^{t}\\right)} e^{\\left(-t\\right)} + \\frac{1}{4} \\, {\\left(e^{\\left(2 \\, t\\right)} - 2 \\, e^{t}\\right)} e^{\\left(-2 \\, t\\right)} - \\frac{1}{4} \\, e^{\\left(2 \\, t\\right)} + \\frac{1}{2} \\, e^{t} + \\frac{5}{6} \\, \\log\\left(e^{t}\\right) - \\frac{1}{2}</script></html>"
      ],
      "text/latex": [
       "$$\\newcommand{\\Bold}[1]{\\mathbf{#1}}\\left(\\frac{1}{2} \\, e^{\\left(-t\\right)} + \\frac{1}{2} \\, e^{t} + \\log\\left(e^{t}\\right) - 1\\right) n - \\frac{1}{2} \\, {\\left(e^{\\left(2 \\, t\\right)} - 2 \\, e^{t}\\right)} e^{\\left(-t\\right)} + \\frac{1}{4} \\, {\\left(e^{\\left(2 \\, t\\right)} - 2 \\, e^{t}\\right)} e^{\\left(-2 \\, t\\right)} - \\frac{1}{4} \\, e^{\\left(2 \\, t\\right)} + \\frac{1}{2} \\, e^{t} + \\frac{5}{6} \\, \\log\\left(e^{t}\\right) - \\frac{1}{2}$$"
      ],
      "text/plain": [
       "(1/2*e^(-t) + 1/2*e^t + log(e^t) - 1)*n - 1/2*(e^(2*t) - 2*e^t)*e^(-t) + 1/4*(e^(2*t) - 2*e^t)*e^(-2*t) - 1/4*e^(2*t) + 1/2*e^t + 5/6*log(e^t) - 1/2"
      ]
     },
     "execution_count": 7,
     "metadata": {},
     "output_type": "execute_result"
    }
   ],
   "source": [
    "# Put L = 1\n",
    "(1/2*L*e^t - 1/2*L + 1/2*e^(-t)/L - 1/2/L + log(L*e^t) - log(L))*n - 1/4*L^2*e^(2*t) + 1/2*L^2*e^t - 1/4*L^2 - 1/2*L - 1/2*(L^2*e^(2*t) - 2*L^2*e^t)*e^(-t)/L + 1/4*(L^2*e^(2*t) - 2*L^2*e^t)*e^(-2*t)/L^2 + 5/6*log(L*e^t) - 5/6*log(L) + 1/4"
   ]
  },
  {
   "cell_type": "code",
   "execution_count": 8,
   "metadata": {
    "scrolled": true
   },
   "outputs": [
    {
     "data": {
      "text/html": [
       "<html><script type=\"math/tex; mode=display\">\\newcommand{\\Bold}[1]{\\mathbf{#1}}\\frac{1}{4} \\, {\\left(2 \\, n - 3\\right)} t^{2} - \\frac{1}{4} \\, t^{3} + \\frac{1}{6} \\, {\\left(6 \\, n + 5\\right)} t</script></html>"
      ],
      "text/latex": [
       "$$\\newcommand{\\Bold}[1]{\\mathbf{#1}}\\frac{1}{4} \\, {\\left(2 \\, n - 3\\right)} t^{2} - \\frac{1}{4} \\, t^{3} + \\frac{1}{6} \\, {\\left(6 \\, n + 5\\right)} t$$"
      ],
      "text/plain": [
       "1/4*(2*n - 3)*t^2 - 1/4*t^3 + 1/6*(6*n + 5)*t"
      ]
     },
     "execution_count": 8,
     "metadata": {},
     "output_type": "execute_result"
    }
   ],
   "source": [
    "taylor((1/2*e^(-t) + 1/2*e^t + log(e^t) - 1)*n - 1/2*(e^(2*t) - 2*e^t)*e^(-t) + 1/4*(e^(2*t) - 2*e^t)*e^(-2*t) - 1/4*e^(2*t) + 1/2*e^t + 5/6*log(e^t) - 1/2, t, 0, 3)"
   ]
  },
  {
   "cell_type": "code",
   "execution_count": null,
   "metadata": {},
   "outputs": [],
   "source": []
  }
 ],
 "metadata": {
  "kernelspec": {
   "display_name": "SageMath 9.3",
   "language": "sage",
   "name": "sagemath"
  },
  "language_info": {
   "codemirror_mode": {
    "name": "ipython",
    "version": 3
   },
   "file_extension": ".py",
   "mimetype": "text/x-python",
   "name": "python",
   "nbconvert_exporter": "python",
   "pygments_lexer": "ipython3",
   "version": "3.7.10"
  }
 },
 "nbformat": 4,
 "nbformat_minor": 4
}
