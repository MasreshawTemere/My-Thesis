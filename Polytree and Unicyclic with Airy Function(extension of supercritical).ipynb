{
 "cells": [
  {
   "cell_type": "code",
   "execution_count": 7,
   "metadata": {},
   "outputs": [
    {
     "data": {
      "text/html": [
       "<html><script type=\"math/tex; mode=display\">\\newcommand{\\Bold}[1]{\\mathbf{#1}}\\left(L, k, x, \\theta, \\mu\\right)</script></html>"
      ],
      "text/latex": [
       "$$\\newcommand{\\Bold}[1]{\\mathbf{#1}}\\left(L, k, x, \\theta, \\mu\\right)$$"
      ],
      "text/plain": [
       "(L, k, x, theta, mu)"
      ]
     },
     "execution_count": 7,
     "metadata": {},
     "output_type": "execute_result"
    }
   ],
   "source": [
    "#Declaration of the variables.\n",
    "var('L,k, x , theta, mu')"
   ]
  },
  {
   "cell_type": "code",
   "execution_count": 8,
   "metadata": {},
   "outputs": [
    {
     "data": {
      "text/html": [
       "<html><script type=\"math/tex; mode=display\">\\newcommand{\\Bold}[1]{\\mathbf{#1}}n^{\\frac{3}{2}} \\log\\left(n\\right)^{3} + O\\!\\left(n^{\\frac{1}{2}} \\log\\left(n\\right)\\right)</script></html>"
      ],
      "text/latex": [
       "$$\\newcommand{\\Bold}[1]{\\mathbf{#1}}n^{\\frac{3}{2}} \\log\\left(n\\right)^{3} + O\\!\\left(n^{\\frac{1}{2}} \\log\\left(n\\right)\\right)$$"
      ],
      "text/plain": [
       "n^(3/2)*log(n)^3 + O(n^(1/2)*log(n))"
      ]
     },
     "execution_count": 8,
     "metadata": {},
     "output_type": "execute_result"
    }
   ],
   "source": [
    "#initiate asymptotic ring\n",
    "K.<n> = AsymptoticRing(growth_group='n^QQ*log(n)^ZZ', coefficient_ring=ZZ,default_prec=5);\n",
    "K.an_element()"
   ]
  },
  {
   "cell_type": "code",
   "execution_count": 9,
   "metadata": {},
   "outputs": [],
   "source": [
    "#Definitions\n",
    "p=L/n\n",
    "y=p/(1-p)\n",
    "al=log(1+y)\n",
    "be=sqrt(1+y)\n"
   ]
  },
  {
   "cell_type": "code",
   "execution_count": 11,
   "metadata": {
    "scrolled": false
   },
   "outputs": [],
   "source": [
    "# The saddle point of f\n",
    "%display default \n",
    "\n",
    "t = sqrt(4*y*(n+1)/(2+ y))"
   ]
  },
  {
   "cell_type": "code",
   "execution_count": 13,
   "metadata": {},
   "outputs": [
    {
     "data": {
      "text/html": [
       "<html><script type=\"math/tex; mode=display\">\\newcommand{\\Bold}[1]{\\mathbf{#1}}\\sqrt{2} \\sqrt{L} + \\left(\\frac{\\sqrt{2} {\\left(L^{2} + 2 \\, L\\right)}}{4 \\, \\sqrt{L}}\\right) n^{-1}</script></html>"
      ],
      "text/latex": [
       "$$\\newcommand{\\Bold}[1]{\\mathbf{#1}}\\sqrt{2} \\sqrt{L} + \\left(\\frac{\\sqrt{2} {\\left(L^{2} + 2 \\, L\\right)}}{4 \\, \\sqrt{L}}\\right) n^{-1}$$"
      ],
      "text/plain": [
       "sqrt(2)*sqrt(L) + (1/4*sqrt(2)*(L^2 + 2*L)/sqrt(L))*n^(-1)"
      ]
     },
     "execution_count": 13,
     "metadata": {},
     "output_type": "execute_result"
    }
   ],
   "source": [
    "%display latex\n",
    "t1 = sqrt(2)*sqrt(L) + (1/4*sqrt(2)*(L^2 + 2*L)/sqrt(L))*n^(-1); t1"
   ]
  },
  {
   "cell_type": "code",
   "execution_count": 14,
   "metadata": {
    "scrolled": true
   },
   "outputs": [
    {
     "data": {
      "text/html": [
       "<html><script type=\"math/tex; mode=display\">\\newcommand{\\Bold}[1]{\\mathbf{#1}}\\left(\\sqrt{2} \\sqrt{L} + \\frac{\\sqrt{2} \\sqrt{L} - L}{2 \\, L} - \\log\\left(\\sqrt{2} \\sqrt{L}\\right)\\right) n + \\frac{\\sqrt{2} {\\left(L^{2} + 2 \\, L\\right)}}{4 \\, \\sqrt{L}} - \\frac{1}{2} \\, \\sqrt{2} \\sqrt{L} + \\frac{1}{4} \\, L - \\frac{2 \\, L^{2} - \\frac{\\sqrt{2} {\\left(L^{2} + 2 \\, L\\right)}}{\\sqrt{L}} + 4 \\, L}{8 \\, L} - \\frac{L^{2} + 2 \\, L}{4 \\, L} - \\log\\left(\\sqrt{2} \\sqrt{L}\\right) + \\left(\\frac{1}{8} \\, L^{2} - \\frac{\\sqrt{2} {\\left(L^{2} + 2 \\, L\\right)}}{8 \\, \\sqrt{L}} + \\frac{1}{4} \\, L - \\frac{L^{2} + 2 \\, L}{4 \\, L}\\right) n^{-1} + \\left(\\frac{{\\left(L^{2} + 2 \\, L\\right)}^{2}}{64 \\, L} - \\frac{{\\left(L^{2} + 2 \\, L\\right)}^{3}}{192 \\, L^{3}} + \\frac{{\\left(L^{2} + 2 \\, L\\right)}^{2}}{32 \\, L^{2}}\\right) n^{-2} + \\left(\\frac{{\\left(L^{2} + 2 \\, L\\right)}^{4}}{1024 \\, L^{4}} - \\frac{{\\left(L^{2} + 2 \\, L\\right)}^{3}}{192 \\, L^{3}}\\right) n^{-3} + O\\!\\left(n^{-4}\\right)</script></html>"
      ],
      "text/latex": [
       "$$\\newcommand{\\Bold}[1]{\\mathbf{#1}}\\left(\\sqrt{2} \\sqrt{L} + \\frac{\\sqrt{2} \\sqrt{L} - L}{2 \\, L} - \\log\\left(\\sqrt{2} \\sqrt{L}\\right)\\right) n + \\frac{\\sqrt{2} {\\left(L^{2} + 2 \\, L\\right)}}{4 \\, \\sqrt{L}} - \\frac{1}{2} \\, \\sqrt{2} \\sqrt{L} + \\frac{1}{4} \\, L - \\frac{2 \\, L^{2} - \\frac{\\sqrt{2} {\\left(L^{2} + 2 \\, L\\right)}}{\\sqrt{L}} + 4 \\, L}{8 \\, L} - \\frac{L^{2} + 2 \\, L}{4 \\, L} - \\log\\left(\\sqrt{2} \\sqrt{L}\\right) + \\left(\\frac{1}{8} \\, L^{2} - \\frac{\\sqrt{2} {\\left(L^{2} + 2 \\, L\\right)}}{8 \\, \\sqrt{L}} + \\frac{1}{4} \\, L - \\frac{L^{2} + 2 \\, L}{4 \\, L}\\right) n^{-1} + \\left(\\frac{{\\left(L^{2} + 2 \\, L\\right)}^{2}}{64 \\, L} - \\frac{{\\left(L^{2} + 2 \\, L\\right)}^{3}}{192 \\, L^{3}} + \\frac{{\\left(L^{2} + 2 \\, L\\right)}^{2}}{32 \\, L^{2}}\\right) n^{-2} + \\left(\\frac{{\\left(L^{2} + 2 \\, L\\right)}^{4}}{1024 \\, L^{4}} - \\frac{{\\left(L^{2} + 2 \\, L\\right)}^{3}}{192 \\, L^{3}}\\right) n^{-3} + O\\!\\left(n^{-4}\\right)$$"
      ],
      "text/plain": [
       "(sqrt(2)*sqrt(L) + 1/2*(sqrt(2)*sqrt(L) - L)/L - log(sqrt(2)*sqrt(L)))*n + 1/4*sqrt(2)*(L^2 + 2*L)/sqrt(L) - 1/2*sqrt(2)*sqrt(L) + 1/4*L - 1/8*(2*L^2 - sqrt(2)*(L^2 + 2*L)/sqrt(L) + 4*L)/L - 1/4*(L^2 + 2*L)/L - log(sqrt(2)*sqrt(L)) + (1/8*L^2 - 1/8*sqrt(2)*(L^2 + 2*L)/sqrt(L) + 1/4*L - 1/4*(L^2 + 2*L)/L)*n^(-1) + (1/64*(L^2 + 2*L)^2/L - 1/192*(L^2 + 2*L)^3/L^3 + 1/32*(L^2 + 2*L)^2/L^2)*n^(-2) + (1/1024*(L^2 + 2*L)^4/L^4 - 1/192*(L^2 + 2*L)^3/L^3)*n^(-3) + O(n^(-4))"
      ]
     },
     "execution_count": 14,
     "metadata": {},
     "output_type": "execute_result"
    }
   ],
   "source": [
    "# f at the saddle point \n",
    "\n",
    "f3=1/2/y*(t1 - t1^2/2)- 1/8*t1^2 + n*t1 - (n + 1)*log(t1); f3"
   ]
  },
  {
   "cell_type": "code",
   "execution_count": 23,
   "metadata": {},
   "outputs": [
    {
     "data": {
      "text/html": [
       "<html><script type=\"math/tex; mode=display\">\\newcommand{\\Bold}[1]{\\mathbf{#1}}\\left(-\\frac{\\sqrt{2} \\sqrt{L} - 1}{2 \\, L} - \\frac{\\sqrt{2}}{2 \\, \\sqrt{L}} + 1\\right) n + \\frac{1}{4} \\, \\sqrt{2} \\sqrt{L} - \\frac{\\sqrt{2}}{2 \\, \\sqrt{L}} - \\frac{1}{2} + O\\!\\left(n^{-4}\\right)</script></html>"
      ],
      "text/latex": [
       "$$\\newcommand{\\Bold}[1]{\\mathbf{#1}}\\left(-\\frac{\\sqrt{2} \\sqrt{L} - 1}{2 \\, L} - \\frac{\\sqrt{2}}{2 \\, \\sqrt{L}} + 1\\right) n + \\frac{1}{4} \\, \\sqrt{2} \\sqrt{L} - \\frac{\\sqrt{2}}{2 \\, \\sqrt{L}} - \\frac{1}{2} + O\\!\\left(n^{-4}\\right)$$"
      ],
      "text/plain": [
       "(-1/2*(sqrt(2)*sqrt(L) - 1)/L - 1/2*sqrt(2)/sqrt(L) + 1)*n + 1/4*sqrt(2)*sqrt(L) - 1/2*sqrt(2)/sqrt(L) - 1/2 + O(n^(-4))"
      ]
     },
     "execution_count": 23,
     "metadata": {},
     "output_type": "execute_result"
    }
   ],
   "source": [
    "# f' at the saddle point \n",
    "\n",
    "f2= (1/2/y*(1-t1)-1/4*t1 + n - (n + 1)/t1);f2"
   ]
  },
  {
   "cell_type": "code",
   "execution_count": 15,
   "metadata": {
    "scrolled": false
   },
   "outputs": [
    {
     "data": {
      "text/html": [
       "<html><script type=\"math/tex; mode=display\">\\newcommand{\\Bold}[1]{\\mathbf{#1}}-2 n - \\frac{\\sqrt{2} {\\left(3 \\, \\sqrt{2} {\\left(L^{2} + 2 \\, L\\right)} \\sqrt{L} + 4 \\, \\sqrt{2} L^{\\frac{3}{2}}\\right)}}{4 \\, L^{\\frac{3}{2}}} + \\frac{3 \\, {\\left(L^{2} + 2 \\, L\\right)}}{2 \\, L} + O\\!\\left(n^{-4}\\right)</script></html>"
      ],
      "text/latex": [
       "$$\\newcommand{\\Bold}[1]{\\mathbf{#1}}-2 n - \\frac{\\sqrt{2} {\\left(3 \\, \\sqrt{2} {\\left(L^{2} + 2 \\, L\\right)} \\sqrt{L} + 4 \\, \\sqrt{2} L^{\\frac{3}{2}}\\right)}}{4 \\, L^{\\frac{3}{2}}} + \\frac{3 \\, {\\left(L^{2} + 2 \\, L\\right)}}{2 \\, L} + O\\!\\left(n^{-4}\\right)$$"
      ],
      "text/plain": [
       "-2*n - 1/4*sqrt(2)*(3*sqrt(2)*(L^2 + 2*L)*sqrt(L) + 4*sqrt(2)*L^(3/2))/L^(3/2) + 3/2*(L^2 + 2*L)/L + O(n^(-4))"
      ]
     },
     "execution_count": 15,
     "metadata": {},
     "output_type": "execute_result"
    }
   ],
   "source": [
    "# f ''' at the saddle point \n",
    "\n",
    "f1=-2*t1^3*(n + 1)/t1^3; f1"
   ]
  },
  {
   "cell_type": "code",
   "execution_count": 22,
   "metadata": {},
   "outputs": [
    {
     "data": {
      "text/html": [
       "<html><script type=\"math/tex; mode=display\">\\newcommand{\\Bold}[1]{\\mathbf{#1}}\\left(\\frac{1}{2} i \\, \\sqrt{2} \\sqrt{L} {\\left(\\frac{\\sqrt{2} \\sqrt{L} - 1}{L} + \\frac{\\sqrt{2}}{\\sqrt{L}} - 2\\right)} + 2 i\\right) n - \\frac{1}{4} i \\, \\sqrt{2} {\\left(\\sqrt{2} \\sqrt{L} - \\frac{2 \\, \\sqrt{2}}{\\sqrt{L}} - 2\\right)} \\sqrt{L} + 2 i + O\\!\\left(n^{-4}\\right)</script></html>"
      ],
      "text/latex": [
       "$$\\newcommand{\\Bold}[1]{\\mathbf{#1}}\\left(\\frac{1}{2} i \\, \\sqrt{2} \\sqrt{L} {\\left(\\frac{\\sqrt{2} \\sqrt{L} - 1}{L} + \\frac{\\sqrt{2}}{\\sqrt{L}} - 2\\right)} + 2 i\\right) n - \\frac{1}{4} i \\, \\sqrt{2} {\\left(\\sqrt{2} \\sqrt{L} - \\frac{2 \\, \\sqrt{2}}{\\sqrt{L}} - 2\\right)} \\sqrt{L} + 2 i + O\\!\\left(n^{-4}\\right)$$"
      ],
      "text/plain": [
       "(1/2*I*sqrt(2)*sqrt(L)*((sqrt(2)*sqrt(L) - 1)/L + sqrt(2)/sqrt(L) - 2) + 2*I)*n - 1/4*I*sqrt(2)*(sqrt(2)*sqrt(L) - 2*sqrt(2)/sqrt(L) - 2)*sqrt(L) + 2*I + O(n^(-4))"
      ]
     },
     "execution_count": 22,
     "metadata": {},
     "output_type": "execute_result"
    }
   ],
   "source": [
    "f5 = -i*f2 - i*f1; f5"
   ]
  },
  {
   "cell_type": "code",
   "execution_count": 11,
   "metadata": {},
   "outputs": [],
   "source": [
    "f4 = 6*(n + 1)/t^4"
   ]
  },
  {
   "cell_type": "markdown",
   "metadata": {},
   "source": [
    "\n",
    "The Airy function  \n",
    "$$U =  Ai\\left(\\sqrt{2\\lambda}n^{2/3}\\left(1 - \\frac{(\\sqrt{2\\lambda}- 1)}{2\\lambda}- \\frac{\\sqrt{2}}{2\\sqrt{\\lambda}}\\right)\\right)$$"
   ]
  },
  {
   "cell_type": "markdown",
   "metadata": {},
   "source": [
    " The coeffient $B_n(y)$ interms of Airy Function\n",
    "$$B_n(y) = -\\frac{n! (2y)^n}{n^{1/3}} \\sqrt{2\\lambda} e^{n\\left(\\sqrt{2\\lambda} + \\frac{\\sqrt{2\\lambda}- \\lambda}{2\\lambda} - \\log(\\sqrt{2\\lambda})\\right)} U$$"
   ]
  },
  {
   "cell_type": "markdown",
   "metadata": {},
   "source": [
    "$$Ai(z) = \\frac{e^{-2/3 z^{3/2}}}{2\\sqrt{\\pi}z^{1/4}}$$"
   ]
  },
  {
   "cell_type": "markdown",
   "metadata": {},
   "source": [
    "$$Ai\\left(\\sqrt(2\\lambda)n^{2/3}\\left(1 - \\frac{(\\sqrt{2\\lambda}- 1)}{2\\lambda}- \\frac{\\sqrt{2}}{2\\sqrt{\\lambda}}\\right)\\right) =  \\frac{e^{-2/3\\left(\\sqrt{2\\lambda}n^{2/3}\\left(1 - \\frac{(\\sqrt{2\\lambda}- 1)}{2\\lambda}- \\frac{\\sqrt{2}}{2\\sqrt{\\lambda}}\\right)\\right)^{3/2}}}{2\\sqrt{\\pi}\\left(\\sqrt{2\\lambda}n^{2/3}\\left(1 - \\frac{(\\sqrt{2\\lambda}- 1)}{2\\lambda}- \\frac{\\sqrt{2}}{2\\sqrt{\\lambda}}\\right)\\right)^{1/4}} =  \\frac{e^{-2/3\\left(\\sqrt{2\\lambda}n^{2/3}\\left(1 - \\frac{(\\sqrt{2\\lambda}- 1)}{2\\lambda}- \\frac{\\sqrt{2}}{2\\sqrt{\\lambda}}\\right)\\right)^{3/2}}}{e^{log\\left(2\\sqrt{\\pi}\\left(\\sqrt(2\\lambda)n^{2/3}\\left(1 - \\frac{(\\sqrt{2\\lambda}- 1)}{2\\lambda}- \\frac{\\sqrt{2}}{2\\sqrt{\\lambda}}\\right)\\right)^{1/4}\\right)}}  $$"
   ]
  },
  {
   "cell_type": "code",
   "execution_count": 12,
   "metadata": {
    "scrolled": false
   },
   "outputs": [
    {
     "data": {
      "text/html": [
       "<html><script type=\"math/tex; mode=display\">\\newcommand{\\Bold}[1]{\\mathbf{#1}}\\left(-\\frac{1}{3} \\, \\sqrt{\\frac{1}{2}} \\left(-\\sqrt{2} \\sqrt{L} {\\left(\\frac{\\sqrt{2} \\sqrt{L} - 1}{L} + \\frac{\\sqrt{2}}{\\sqrt{L}} - 2\\right)}\\right)^{\\frac{3}{2}}\\right) n</script></html>"
      ],
      "text/latex": [
       "$$\\newcommand{\\Bold}[1]{\\mathbf{#1}}\\left(-\\frac{1}{3} \\, \\sqrt{\\frac{1}{2}} \\left(-\\sqrt{2} \\sqrt{L} {\\left(\\frac{\\sqrt{2} \\sqrt{L} - 1}{L} + \\frac{\\sqrt{2}}{\\sqrt{L}} - 2\\right)}\\right)^{\\frac{3}{2}}\\right) n$$"
      ],
      "text/plain": [
       "(-1/3*sqrt(1/2)*(-sqrt(2)*sqrt(L)*((sqrt(2)*sqrt(L) - 1)/L + sqrt(2)/sqrt(L) - 2))^(3/2))*n"
      ]
     },
     "execution_count": 12,
     "metadata": {},
     "output_type": "execute_result"
    }
   ],
   "source": [
    "A = -2/3*(sqrt(2*L)*n^(2/3)*(1 - (sqrt(2*L)-1)/(2*L) - sqrt(2)/(2*sqrt(L))))^(3/2); A"
   ]
  },
  {
   "cell_type": "code",
   "execution_count": 13,
   "metadata": {
    "scrolled": true
   },
   "outputs": [
    {
     "data": {
      "text/html": [
       "<html><script type=\"math/tex; mode=display\">\\newcommand{\\Bold}[1]{\\mathbf{#1}}\\frac{1}{6} \\log\\left(n\\right) + \\log\\left(2 \\, \\left(\\frac{1}{2}\\right)^{\\frac{1}{4}} \\sqrt{\\pi} \\left(-\\sqrt{2} \\sqrt{L} {\\left(\\frac{\\sqrt{2} \\sqrt{L} - 1}{L} + \\frac{\\sqrt{2}}{\\sqrt{L}} - 2\\right)}\\right)^{\\frac{1}{4}}\\right)</script></html>"
      ],
      "text/latex": [
       "$$\\newcommand{\\Bold}[1]{\\mathbf{#1}}\\frac{1}{6} \\log\\left(n\\right) + \\log\\left(2 \\, \\left(\\frac{1}{2}\\right)^{\\frac{1}{4}} \\sqrt{\\pi} \\left(-\\sqrt{2} \\sqrt{L} {\\left(\\frac{\\sqrt{2} \\sqrt{L} - 1}{L} + \\frac{\\sqrt{2}}{\\sqrt{L}} - 2\\right)}\\right)^{\\frac{1}{4}}\\right)$$"
      ],
      "text/plain": [
       "1/6*log(n) + log(2*(1/2)^(1/4)*sqrt(pi)*(-sqrt(2)*sqrt(L)*((sqrt(2)*sqrt(L) - 1)/L + sqrt(2)/sqrt(L) - 2))^(1/4))"
      ]
     },
     "execution_count": 13,
     "metadata": {},
     "output_type": "execute_result"
    }
   ],
   "source": [
    "B = log(2*sqrt(pi)*(sqrt(2*L)*n^(2/3)*(1 - (sqrt(2*L)-1)/(2*L) - sqrt(2)/(2*sqrt(L))))^(1/4)); B"
   ]
  },
  {
   "cell_type": "code",
   "execution_count": 14,
   "metadata": {},
   "outputs": [
    {
     "data": {
      "text/html": [
       "<html><script type=\"math/tex; mode=display\">\\newcommand{\\Bold}[1]{\\mathbf{#1}}\\left(\\sqrt{2} \\sqrt{L} + \\frac{\\sqrt{2} \\sqrt{L} - L}{2 \\, L} - \\log\\left(\\sqrt{2} \\sqrt{L}\\right) + \\log\\left(2 \\, L\\right)\\right) n - \\frac{1}{3} \\log\\left(n\\right) + \\log\\left(-\\sqrt{2} \\sqrt{L}\\right)</script></html>"
      ],
      "text/latex": [
       "$$\\newcommand{\\Bold}[1]{\\mathbf{#1}}\\left(\\sqrt{2} \\sqrt{L} + \\frac{\\sqrt{2} \\sqrt{L} - L}{2 \\, L} - \\log\\left(\\sqrt{2} \\sqrt{L}\\right) + \\log\\left(2 \\, L\\right)\\right) n - \\frac{1}{3} \\log\\left(n\\right) + \\log\\left(-\\sqrt{2} \\sqrt{L}\\right)$$"
      ],
      "text/plain": [
       "(sqrt(2)*sqrt(L) + 1/2*(sqrt(2)*sqrt(L) - L)/L - log(sqrt(2)*sqrt(L)) + log(2*L))*n - 1/3*log(n) + log(-sqrt(2)*sqrt(L))"
      ]
     },
     "execution_count": 14,
     "metadata": {},
     "output_type": "execute_result"
    }
   ],
   "source": [
    "C = n*log(2*L) + log(-(sqrt(2*L))/n^(1/3)) + n * ( sqrt(2*L)+ (sqrt(2*L)- L)/(2*L)- log(sqrt(2*L))); C"
   ]
  },
  {
   "cell_type": "markdown",
   "metadata": {},
   "source": [
    "$$B_n(y) = -\\frac{n! (2y)^n}{n^{1/3}} \\sqrt{2\\lambda} (A + C - B)$$"
   ]
  },
  {
   "cell_type": "markdown",
   "metadata": {},
   "source": [
    "We have $A_n(y)$ \n",
    "  $$A_n(y) = n!(1 + y)^{\\binom{n}{2}} \\frac{1-\\alpha n}{\\sqrt{2\\pi n}}\\rho^{-n} e^{-\\frac{1}{2\\alpha}(\\alpha^2 n^2 -2\\alpha n)}$$\n",
    "  \n",
    " Where $\\alpha =\\log(1 + y)$, $\\beta = \\sqrt{1 + y}$, $\\rho = \\frac{n}{\\beta}e^{-\\alpha n}$"
   ]
  },
  {
   "cell_type": "markdown",
   "metadata": {},
   "source": [
    "We can rewrite $A_n(y)$  as follows\n",
    "\n",
    "$$A_n(y) = \\frac{n!}{n^{-n}} e^{(\\alpha n^2 - \\frac{\\alpha n}{2} + n)+ \\log(1-\\alpha n) - 1/2 \\log(2\\pi n) + n\\log(\\beta)}$$"
   ]
  },
  {
   "cell_type": "code",
   "execution_count": 15,
   "metadata": {
    "scrolled": true
   },
   "outputs": [
    {
     "data": {
      "text/html": [
       "<html><script type=\"math/tex; mode=display\">\\newcommand{\\Bold}[1]{\\mathbf{#1}}\\left(L + 1\\right) n - \\frac{1}{2} \\log\\left(n\\right) + \\frac{1}{2} \\, L^{2} - \\frac{1}{2} \\, \\log\\left(2 \\, \\pi\\right) + \\log\\left(-L + 1\\right) + \\left(\\frac{1}{3} \\, L^{3} + \\frac{L^{2}}{2 \\, {\\left(L - 1\\right)}}\\right) n^{-1} + \\left(\\frac{1}{4} \\, L^{4} + \\frac{L^{3}}{3 \\, {\\left(L - 1\\right)}} - \\frac{L^{4}}{8 \\, {\\left(L - 1\\right)}^{2}}\\right) n^{-2} + \\left(\\frac{1}{5} \\, L^{5} + \\frac{L^{4}}{4 \\, {\\left(L - 1\\right)}} - \\frac{L^{5}}{6 \\, {\\left(L - 1\\right)}^{2}} + \\frac{L^{6}}{24 \\, {\\left(L - 1\\right)}^{3}}\\right) n^{-3} + O\\!\\left(n^{-4}\\right)</script></html>"
      ],
      "text/latex": [
       "$$\\newcommand{\\Bold}[1]{\\mathbf{#1}}\\left(L + 1\\right) n - \\frac{1}{2} \\log\\left(n\\right) + \\frac{1}{2} \\, L^{2} - \\frac{1}{2} \\, \\log\\left(2 \\, \\pi\\right) + \\log\\left(-L + 1\\right) + \\left(\\frac{1}{3} \\, L^{3} + \\frac{L^{2}}{2 \\, {\\left(L - 1\\right)}}\\right) n^{-1} + \\left(\\frac{1}{4} \\, L^{4} + \\frac{L^{3}}{3 \\, {\\left(L - 1\\right)}} - \\frac{L^{4}}{8 \\, {\\left(L - 1\\right)}^{2}}\\right) n^{-2} + \\left(\\frac{1}{5} \\, L^{5} + \\frac{L^{4}}{4 \\, {\\left(L - 1\\right)}} - \\frac{L^{5}}{6 \\, {\\left(L - 1\\right)}^{2}} + \\frac{L^{6}}{24 \\, {\\left(L - 1\\right)}^{3}}\\right) n^{-3} + O\\!\\left(n^{-4}\\right)$$"
      ],
      "text/plain": [
       "(L + 1)*n - 1/2*log(n) + 1/2*L^2 - 1/2*log(2*pi) + log(-L + 1) + (1/3*L^3 + 1/2*L^2/(L - 1))*n^(-1) + (1/4*L^4 + 1/3*L^3/(L - 1) - 1/8*L^4/(L - 1)^2)*n^(-2) + (1/5*L^5 + 1/4*L^4/(L - 1) - 1/6*L^5/(L - 1)^2 + 1/24*L^6/(L - 1)^3)*n^(-3) + O(n^(-4))"
      ]
     },
     "execution_count": 15,
     "metadata": {},
     "output_type": "execute_result"
    }
   ],
   "source": [
    "D = al*n^2 - al*n/2 + n + log(1-al*n) - 1/2*log(2*pi*n) + n*log(be);D"
   ]
  },
  {
   "cell_type": "markdown",
   "metadata": {},
   "source": [
    "The probability of a directed acyclic graph which contain polytree and unicyclic \n",
    "\n",
    "$$P =  A + C - B - D$$"
   ]
  },
  {
   "cell_type": "code",
   "execution_count": 16,
   "metadata": {
    "scrolled": false
   },
   "outputs": [
    {
     "data": {
      "text/html": [
       "<html><script type=\"math/tex; mode=display\">\\newcommand{\\Bold}[1]{\\mathbf{#1}}\\left(-\\frac{1}{3} \\, \\sqrt{\\frac{1}{2}} \\left(-\\sqrt{2} \\sqrt{L} {\\left(\\frac{\\sqrt{2} \\sqrt{L} - 1}{L} + \\frac{\\sqrt{2}}{\\sqrt{L}} - 2\\right)}\\right)^{\\frac{3}{2}} + \\sqrt{2} \\sqrt{L} - L + \\frac{\\sqrt{2} \\sqrt{L} - L}{2 \\, L} - \\log\\left(\\sqrt{2} \\sqrt{L}\\right) + \\log\\left(2 \\, L\\right) - 1\\right) n - \\frac{1}{2} \\, L^{2} + \\frac{1}{2} \\, \\log\\left(2 \\, \\pi\\right) - \\log\\left(2 \\, \\left(\\frac{1}{2}\\right)^{\\frac{1}{4}} \\sqrt{\\pi} \\left(-\\sqrt{2} \\sqrt{L} {\\left(\\frac{\\sqrt{2} \\sqrt{L} - 1}{L} + \\frac{\\sqrt{2}}{\\sqrt{L}} - 2\\right)}\\right)^{\\frac{1}{4}}\\right) + \\log\\left(-\\sqrt{2} \\sqrt{L}\\right) - \\log\\left(-L + 1\\right) + \\left(-\\frac{1}{3} \\, L^{3} - \\frac{L^{2}}{2 \\, {\\left(L - 1\\right)}}\\right) n^{-1} + \\left(-\\frac{1}{4} \\, L^{4} - \\frac{L^{3}}{3 \\, {\\left(L - 1\\right)}} + \\frac{L^{4}}{8 \\, {\\left(L - 1\\right)}^{2}}\\right) n^{-2} + \\left(-\\frac{1}{5} \\, L^{5} - \\frac{L^{4}}{4 \\, {\\left(L - 1\\right)}} + \\frac{L^{5}}{6 \\, {\\left(L - 1\\right)}^{2}} - \\frac{L^{6}}{24 \\, {\\left(L - 1\\right)}^{3}}\\right) n^{-3} + O\\!\\left(n^{-4}\\right)</script></html>"
      ],
      "text/latex": [
       "$$\\newcommand{\\Bold}[1]{\\mathbf{#1}}\\left(-\\frac{1}{3} \\, \\sqrt{\\frac{1}{2}} \\left(-\\sqrt{2} \\sqrt{L} {\\left(\\frac{\\sqrt{2} \\sqrt{L} - 1}{L} + \\frac{\\sqrt{2}}{\\sqrt{L}} - 2\\right)}\\right)^{\\frac{3}{2}} + \\sqrt{2} \\sqrt{L} - L + \\frac{\\sqrt{2} \\sqrt{L} - L}{2 \\, L} - \\log\\left(\\sqrt{2} \\sqrt{L}\\right) + \\log\\left(2 \\, L\\right) - 1\\right) n - \\frac{1}{2} \\, L^{2} + \\frac{1}{2} \\, \\log\\left(2 \\, \\pi\\right) - \\log\\left(2 \\, \\left(\\frac{1}{2}\\right)^{\\frac{1}{4}} \\sqrt{\\pi} \\left(-\\sqrt{2} \\sqrt{L} {\\left(\\frac{\\sqrt{2} \\sqrt{L} - 1}{L} + \\frac{\\sqrt{2}}{\\sqrt{L}} - 2\\right)}\\right)^{\\frac{1}{4}}\\right) + \\log\\left(-\\sqrt{2} \\sqrt{L}\\right) - \\log\\left(-L + 1\\right) + \\left(-\\frac{1}{3} \\, L^{3} - \\frac{L^{2}}{2 \\, {\\left(L - 1\\right)}}\\right) n^{-1} + \\left(-\\frac{1}{4} \\, L^{4} - \\frac{L^{3}}{3 \\, {\\left(L - 1\\right)}} + \\frac{L^{4}}{8 \\, {\\left(L - 1\\right)}^{2}}\\right) n^{-2} + \\left(-\\frac{1}{5} \\, L^{5} - \\frac{L^{4}}{4 \\, {\\left(L - 1\\right)}} + \\frac{L^{5}}{6 \\, {\\left(L - 1\\right)}^{2}} - \\frac{L^{6}}{24 \\, {\\left(L - 1\\right)}^{3}}\\right) n^{-3} + O\\!\\left(n^{-4}\\right)$$"
      ],
      "text/plain": [
       "(-1/3*sqrt(1/2)*(-sqrt(2)*sqrt(L)*((sqrt(2)*sqrt(L) - 1)/L + sqrt(2)/sqrt(L) - 2))^(3/2) + sqrt(2)*sqrt(L) - L + 1/2*(sqrt(2)*sqrt(L) - L)/L - log(sqrt(2)*sqrt(L)) + log(2*L) - 1)*n - 1/2*L^2 + 1/2*log(2*pi) - log(2*(1/2)^(1/4)*sqrt(pi)*(-sqrt(2)*sqrt(L)*((sqrt(2)*sqrt(L) - 1)/L + sqrt(2)/sqrt(L) - 2))^(1/4)) + log(-sqrt(2)*sqrt(L)) - log(-L + 1) + (-1/3*L^3 - 1/2*L^2/(L - 1))*n^(-1) + (-1/4*L^4 - 1/3*L^3/(L - 1) + 1/8*L^4/(L - 1)^2)*n^(-2) + (-1/5*L^5 - 1/4*L^4/(L - 1) + 1/6*L^5/(L - 1)^2 - 1/24*L^6/(L - 1)^3)*n^(-3) + O(n^(-4))"
      ]
     },
     "execution_count": 16,
     "metadata": {},
     "output_type": "execute_result"
    }
   ],
   "source": [
    "%display latex\n",
    "A + C - B - D"
   ]
  },
  {
   "cell_type": "code",
   "execution_count": 17,
   "metadata": {
    "scrolled": true
   },
   "outputs": [
    {
     "data": {
      "text/html": [
       "<html><script type=\"math/tex; mode=display\">\\newcommand{\\Bold}[1]{\\mathbf{#1}}\\left(-\\frac{1}{3} \\, \\sqrt{\\frac{1}{2}} \\left(-\\sqrt{2} {\\left(2 \\, \\sqrt{2} - 3\\right)}\\right)^{\\frac{3}{2}} + \\frac{3}{2} \\, \\sqrt{2} + \\log\\left(\\frac{1}{2}\\right) - \\log\\left(\\frac{1}{2} \\, \\sqrt{2}\\right) - \\frac{7}{4}\\right) n - \\log\\left(\\frac{3}{4}\\right) + \\frac{1}{2} \\, \\log\\left(2 \\, \\pi\\right) - \\log\\left(2 \\, \\left(\\frac{1}{2}\\right)^{\\frac{1}{4}} \\sqrt{\\pi} \\left(-\\sqrt{2} {\\left(2 \\, \\sqrt{2} - 3\\right)}\\right)^{\\frac{1}{4}}\\right) + \\log\\left(-\\frac{1}{2} \\, \\sqrt{2}\\right) - \\frac{1}{32} + \\frac{7}{192} n^{-1} + \\frac{7}{1024} n^{-2} + \\frac{589}{414720} n^{-3} + O\\!\\left(n^{-4}\\right)</script></html>"
      ],
      "text/latex": [
       "$$\\newcommand{\\Bold}[1]{\\mathbf{#1}}\\left(-\\frac{1}{3} \\, \\sqrt{\\frac{1}{2}} \\left(-\\sqrt{2} {\\left(2 \\, \\sqrt{2} - 3\\right)}\\right)^{\\frac{3}{2}} + \\frac{3}{2} \\, \\sqrt{2} + \\log\\left(\\frac{1}{2}\\right) - \\log\\left(\\frac{1}{2} \\, \\sqrt{2}\\right) - \\frac{7}{4}\\right) n - \\log\\left(\\frac{3}{4}\\right) + \\frac{1}{2} \\, \\log\\left(2 \\, \\pi\\right) - \\log\\left(2 \\, \\left(\\frac{1}{2}\\right)^{\\frac{1}{4}} \\sqrt{\\pi} \\left(-\\sqrt{2} {\\left(2 \\, \\sqrt{2} - 3\\right)}\\right)^{\\frac{1}{4}}\\right) + \\log\\left(-\\frac{1}{2} \\, \\sqrt{2}\\right) - \\frac{1}{32} + \\frac{7}{192} n^{-1} + \\frac{7}{1024} n^{-2} + \\frac{589}{414720} n^{-3} + O\\!\\left(n^{-4}\\right)$$"
      ],
      "text/plain": [
       "(-1/3*sqrt(1/2)*(-sqrt(2)*(2*sqrt(2) - 3))^(3/2) + 3/2*sqrt(2) + log(1/2) - log(1/2*sqrt(2)) - 7/4)*n - log(3/4) + 1/2*log(2*pi) - log(2*(1/2)^(1/4)*sqrt(pi)*(-sqrt(2)*(2*sqrt(2) - 3))^(1/4)) + log(-1/2*sqrt(2)) - 1/32 + 7/192*n^(-1) + 7/1024*n^(-2) + 589/414720*n^(-3) + O(n^(-4))"
      ]
     },
     "execution_count": 17,
     "metadata": {},
     "output_type": "execute_result"
    }
   ],
   "source": [
    "%display latex\n",
    "(-1/3*sqrt(1/2)*(-sqrt(2)*sqrt(1/4)*((sqrt(2)*sqrt(1/4) - 1)/(1/4) + sqrt(2)/sqrt(1/4) - 2))^(3/2) + sqrt(2)*sqrt(1/4) - 1/4 + 1/2*(sqrt(2)*sqrt(1/4) - 1/4)/(1/4) - log(sqrt(2)*sqrt(1/4)) + log(2*1/4) - 1)*n - 1/2*(1/4)^2 + 1/2*log(2*pi) - log(2*(1/2)^(1/4)*sqrt(pi)*(-sqrt(2)*sqrt(1/4)*((sqrt(2)*sqrt(1/4) - 1)/(1/4) + sqrt(2)/sqrt(1/4) - 2))^(1/4)) + log(-sqrt(2)*sqrt(1/4)) - log(-1/4 + 1) + (-1/3*(1/4)^3 - 1/2*(1/4)^2/(1/4 - 1))*n^(-1) + (-1/4*(1/4)^4 - 1/3*(1/4)^3/(1/4 - 1) + 1/8*(1/4)^4/(1/4 - 1)^2)*n^(-2) + (-1/5*(1/4)^5 - 1/4*(1/4)^4/(1/4 - 1) + 1/6*(1/4)^5/(1/4 - 1)^2 - 1/24*(1/4)^6/(1/4 - 1)^3)*n^(-3) + O(n^(-4))"
   ]
  },
  {
   "cell_type": "code",
   "execution_count": 18,
   "metadata": {},
   "outputs": [
    {
     "name": "stdout",
     "output_type": "stream",
     "text": [
      "verbose 0 (3839: plot.py, generate_plot_points) WARNING: When plotting, failed to evaluate function at 200 points.\n",
      "verbose 0 (3839: plot.py, generate_plot_points) Last error message: 'unable to simplify to float approximation'\n"
     ]
    },
    {
     "data": {
      "image/png": "[encoded data removed]",
      "text/plain": [
       "Graphics object consisting of 0 graphics primitives"
      ]
     },
     "execution_count": 18,
     "metadata": {},
     "output_type": "execute_result"
    }
   ],
   "source": [
    "plot((-1/3*sqrt(1/2)*(-sqrt(2)*(2*sqrt(2) - 3))^(3/2) + 3/2*sqrt(2) + log(1/2) - log(1/2*sqrt(2)) - 7/4)*n - log(3/4) + 1/2*log(2*pi) - log(2*(1/2)^(1/4)*sqrt(pi)*(-sqrt(2)*(2*sqrt(2) - 3))^(1/4)) + log(-1/2*sqrt(2)) - 1/32 + 7/192*n^(-1) + 7/1024*n^(-2) + 589/414720*n^(-3) + O(n^(-4)), n, 0.6, 0.7)"
   ]
  },
  {
   "cell_type": "code",
   "execution_count": 19,
   "metadata": {
    "scrolled": true
   },
   "outputs": [],
   "source": [
    "x= n*(1 - 2*L^2)/(4*L) - (L^2 + L + 1/4)/4 + n*(L/2 + 1) - (n + 1)"
   ]
  },
  {
   "cell_type": "code",
   "execution_count": 20,
   "metadata": {
    "scrolled": true
   },
   "outputs": [],
   "source": [
    "x1=n*(L/2 + 1)^2 / (2*L) + (L/2 + 1)^2 / 4"
   ]
  },
  {
   "cell_type": "code",
   "execution_count": 21,
   "metadata": {
    "scrolled": true
   },
   "outputs": [],
   "source": [
    "x2=1/2/y*( L/2 + 1 -1/2 *(L/2 + 1)^2) - 1/8 * (L/2 + 1)^2 - n*(L/2 + 1) - log(L/2 + 1)"
   ]
  },
  {
   "cell_type": "code",
   "execution_count": 22,
   "metadata": {},
   "outputs": [],
   "source": [
    "x3= (L + 1/2)*(1/2/y*(1 - (L + 1/2))- (L + 1/2)/4 + n - (n + 1)/(L+1/2))"
   ]
  },
  {
   "cell_type": "code",
   "execution_count": 23,
   "metadata": {
    "scrolled": true
   },
   "outputs": [],
   "source": [
    "x4 = (n + 1) - 3*(n + 1) - 3*(L + 1/2)^2*(-1/2/y - 1/4)"
   ]
  },
  {
   "cell_type": "code",
   "execution_count": 25,
   "metadata": {},
   "outputs": [],
   "source": [
    "x5 =1/2/y*(L + 1/2 - 1/2 *(L + 1/2)^2) - 1/8 * (L + 1/2)^2 - n*(L + 1/2)- (n + 1)*log(L + 1/2)"
   ]
  },
  {
   "cell_type": "code",
   "execution_count": 26,
   "metadata": {
    "scrolled": true
   },
   "outputs": [],
   "source": [
    "x6= (1 - (L + 1/2)/2)*sqrt(1 - ( L + 1/2))"
   ]
  },
  {
   "cell_type": "code",
   "execution_count": 27,
   "metadata": {},
   "outputs": [],
   "source": [
    "x7= (-2 + 3/2*(L + 1/2))/(2*sqrt(1 - (L + 1/2)))"
   ]
  },
  {
   "cell_type": "code",
   "execution_count": 28,
   "metadata": {
    "scrolled": true
   },
   "outputs": [],
   "source": [
    "x8 = (5- 9/2*(L + 1/2))/(4*(1-(L + 1/2))^(3/2))"
   ]
  },
  {
   "cell_type": "code",
   "execution_count": null,
   "metadata": {},
   "outputs": [],
   "source": []
  },
  {
   "cell_type": "code",
   "execution_count": 29,
   "metadata": {},
   "outputs": [],
   "source": [
    "x9= (-18*(1-(L + 1/2))^(3/2) + 6*(5 - 9/2*(L + 1/2))*sqrt(1 - (L + 1/2)))/(16*(1 - (L + 1/2))^3)"
   ]
  },
  {
   "cell_type": "code",
   "execution_count": 30,
   "metadata": {},
   "outputs": [
    {
     "data": {
      "image/png": "[encoded data removed]",
      "text/plain": [
       "Graphics object consisting of 1 graphics primitive"
      ]
     },
     "execution_count": 30,
     "metadata": {},
     "output_type": "execute_result"
    }
   ],
   "source": [
    "plot(e^(1*(-1/3*sqrt(1/2)*(-sqrt(2)*sqrt(L)*((sqrt(2)*sqrt(L) - 1)/L + sqrt(2)/sqrt(L) - 2))^(3/2) + sqrt(2)*sqrt(L) - L + 1/2*(sqrt(2)*sqrt(L) - L)/L - log(sqrt(2)*sqrt(L)) + log(2*L) - 1)),L,0.5,1)"
   ]
  },
  {
   "cell_type": "code",
   "execution_count": 44,
   "metadata": {},
   "outputs": [
    {
     "data": {
      "text/plain": [
       "-171/640*(2*L - 1)^5 + 15/64*(2*L - 1)^4 - 1/6*(2*L - 1)^3"
      ]
     },
     "execution_count": 44,
     "metadata": {},
     "output_type": "execute_result"
    }
   ],
   "source": [
    "taylor((-1/3*sqrt(1/2)*(-sqrt(2)*sqrt(L)*((sqrt(2)*sqrt(L) - 1)/L + sqrt(2)/sqrt(L) - 2))^(3/2) + sqrt(2)*sqrt(L) - L + 1/2*(sqrt(2)*sqrt(L) - L)/L - log(sqrt(2)*sqrt(L)) + log(2*L) - 1),L,1/2,5)"
   ]
  },
  {
   "cell_type": "code",
   "execution_count": 2,
   "metadata": {
    "scrolled": true
   },
   "outputs": [
    {
     "ename": "NameError",
     "evalue": "name 'mu' is not defined",
     "output_type": "error",
     "traceback": [
      "\u001b[0;31m---------------------------------------------------------------------------\u001b[0m",
      "\u001b[0;31mNameError\u001b[0m                                 Traceback (most recent call last)",
      "\u001b[0;32m<ipython-input-2-fb613c929b17>\u001b[0m in \u001b[0;36m<module>\u001b[0;34m\u001b[0m\n\u001b[1;32m      1\u001b[0m \u001b[0;31m# when  L = 1/2 + mu *n^{-1/3}\u001b[0m\u001b[0;34m\u001b[0m\u001b[0;34m\u001b[0m\u001b[0;34m\u001b[0m\u001b[0m\n\u001b[1;32m      2\u001b[0m \u001b[0mget_ipython\u001b[0m\u001b[0;34m(\u001b[0m\u001b[0;34m)\u001b[0m\u001b[0;34m.\u001b[0m\u001b[0mrun_line_magic\u001b[0m\u001b[0;34m(\u001b[0m\u001b[0;34m'display'\u001b[0m\u001b[0;34m,\u001b[0m \u001b[0;34m'latex '\u001b[0m\u001b[0;34m)\u001b[0m\u001b[0;34m\u001b[0m\u001b[0;34m\u001b[0m\u001b[0m\n\u001b[0;32m----> 3\u001b[0;31m \u001b[0;34m(\u001b[0m\u001b[0;34m-\u001b[0m\u001b[0mInteger\u001b[0m\u001b[0;34m(\u001b[0m\u001b[0;36m1\u001b[0m\u001b[0;34m)\u001b[0m\u001b[0;34m/\u001b[0m\u001b[0mInteger\u001b[0m\u001b[0;34m(\u001b[0m\u001b[0;36m3\u001b[0m\u001b[0;34m)\u001b[0m\u001b[0;34m*\u001b[0m\u001b[0msqrt\u001b[0m\u001b[0;34m(\u001b[0m\u001b[0mInteger\u001b[0m\u001b[0;34m(\u001b[0m\u001b[0;36m1\u001b[0m\u001b[0;34m)\u001b[0m\u001b[0;34m/\u001b[0m\u001b[0mInteger\u001b[0m\u001b[0;34m(\u001b[0m\u001b[0;36m2\u001b[0m\u001b[0;34m)\u001b[0m\u001b[0;34m)\u001b[0m\u001b[0;34m*\u001b[0m\u001b[0;34m(\u001b[0m\u001b[0;34m-\u001b[0m\u001b[0msqrt\u001b[0m\u001b[0;34m(\u001b[0m\u001b[0mInteger\u001b[0m\u001b[0;34m(\u001b[0m\u001b[0;36m2\u001b[0m\u001b[0;34m)\u001b[0m\u001b[0;34m)\u001b[0m\u001b[0;34m*\u001b[0m\u001b[0msqrt\u001b[0m\u001b[0;34m(\u001b[0m\u001b[0mInteger\u001b[0m\u001b[0;34m(\u001b[0m\u001b[0;36m1\u001b[0m\u001b[0;34m)\u001b[0m\u001b[0;34m/\u001b[0m\u001b[0mInteger\u001b[0m\u001b[0;34m(\u001b[0m\u001b[0;36m2\u001b[0m\u001b[0;34m)\u001b[0m \u001b[0;34m+\u001b[0m \u001b[0mmu\u001b[0m \u001b[0;34m*\u001b[0m\u001b[0mn\u001b[0m\u001b[0;34m**\u001b[0m\u001b[0;34m(\u001b[0m\u001b[0;34m-\u001b[0m\u001b[0mInteger\u001b[0m\u001b[0;34m(\u001b[0m\u001b[0;36m1\u001b[0m\u001b[0;34m)\u001b[0m\u001b[0;34m/\u001b[0m\u001b[0mInteger\u001b[0m\u001b[0;34m(\u001b[0m\u001b[0;36m3\u001b[0m\u001b[0;34m)\u001b[0m\u001b[0;34m)\u001b[0m\u001b[0;34m)\u001b[0m\u001b[0;34m*\u001b[0m\u001b[0;34m(\u001b[0m\u001b[0;34m(\u001b[0m\u001b[0msqrt\u001b[0m\u001b[0;34m(\u001b[0m\u001b[0mInteger\u001b[0m\u001b[0;34m(\u001b[0m\u001b[0;36m2\u001b[0m\u001b[0;34m)\u001b[0m\u001b[0;34m)\u001b[0m\u001b[0;34m*\u001b[0m\u001b[0msqrt\u001b[0m\u001b[0;34m(\u001b[0m\u001b[0mInteger\u001b[0m\u001b[0;34m(\u001b[0m\u001b[0;36m1\u001b[0m\u001b[0;34m)\u001b[0m\u001b[0;34m/\u001b[0m\u001b[0mInteger\u001b[0m\u001b[0;34m(\u001b[0m\u001b[0;36m2\u001b[0m\u001b[0;34m)\u001b[0m \u001b[0;34m+\u001b[0m \u001b[0mmu\u001b[0m\u001b[0;34m*\u001b[0m\u001b[0mn\u001b[0m\u001b[0;34m**\u001b[0m\u001b[0;34m(\u001b[0m\u001b[0;34m-\u001b[0m\u001b[0mInteger\u001b[0m\u001b[0;34m(\u001b[0m\u001b[0;36m1\u001b[0m\u001b[0;34m)\u001b[0m\u001b[0;34m/\u001b[0m\u001b[0mInteger\u001b[0m\u001b[0;34m(\u001b[0m\u001b[0;36m3\u001b[0m\u001b[0;34m)\u001b[0m\u001b[0;34m)\u001b[0m\u001b[0;34m)\u001b[0m \u001b[0;34m-\u001b[0m \u001b[0mInteger\u001b[0m\u001b[0;34m(\u001b[0m\u001b[0;36m1\u001b[0m\u001b[0;34m)\u001b[0m\u001b[0;34m)\u001b[0m\u001b[0;34m/\u001b[0m\u001b[0;34m(\u001b[0m\u001b[0mInteger\u001b[0m\u001b[0;34m(\u001b[0m\u001b[0;36m1\u001b[0m\u001b[0;34m)\u001b[0m\u001b[0;34m/\u001b[0m\u001b[0mInteger\u001b[0m\u001b[0;34m(\u001b[0m\u001b[0;36m2\u001b[0m\u001b[0;34m)\u001b[0m \u001b[0;34m+\u001b[0m \u001b[0mmu\u001b[0m\u001b[0;34m*\u001b[0m\u001b[0mn\u001b[0m\u001b[0;34m**\u001b[0m\u001b[0;34m(\u001b[0m\u001b[0;34m-\u001b[0m\u001b[0mInteger\u001b[0m\u001b[0;34m(\u001b[0m\u001b[0;36m1\u001b[0m\u001b[0;34m)\u001b[0m\u001b[0;34m/\u001b[0m\u001b[0mInteger\u001b[0m\u001b[0;34m(\u001b[0m\u001b[0;36m3\u001b[0m\u001b[0;34m)\u001b[0m\u001b[0;34m)\u001b[0m\u001b[0;34m)\u001b[0m \u001b[0;34m+\u001b[0m \u001b[0msqrt\u001b[0m\u001b[0;34m(\u001b[0m\u001b[0mInteger\u001b[0m\u001b[0;34m(\u001b[0m\u001b[0;36m2\u001b[0m\u001b[0;34m)\u001b[0m\u001b[0;34m)\u001b[0m\u001b[0;34m/\u001b[0m\u001b[0msqrt\u001b[0m\u001b[0;34m(\u001b[0m\u001b[0mInteger\u001b[0m\u001b[0;34m(\u001b[0m\u001b[0;36m1\u001b[0m\u001b[0;34m)\u001b[0m\u001b[0;34m/\u001b[0m\u001b[0mInteger\u001b[0m\u001b[0;34m(\u001b[0m\u001b[0;36m2\u001b[0m\u001b[0;34m)\u001b[0m \u001b[0;34m+\u001b[0m \u001b[0mmu\u001b[0m \u001b[0;34m*\u001b[0m \u001b[0mn\u001b[0m\u001b[0;34m**\u001b[0m\u001b[0;34m(\u001b[0m\u001b[0;34m-\u001b[0m\u001b[0mInteger\u001b[0m\u001b[0;34m(\u001b[0m\u001b[0;36m1\u001b[0m\u001b[0;34m)\u001b[0m\u001b[0;34m/\u001b[0m\u001b[0mInteger\u001b[0m\u001b[0;34m(\u001b[0m\u001b[0;36m3\u001b[0m\u001b[0;34m)\u001b[0m\u001b[0;34m)\u001b[0m\u001b[0;34m)\u001b[0m \u001b[0;34m-\u001b[0m \u001b[0mInteger\u001b[0m\u001b[0;34m(\u001b[0m\u001b[0;36m2\u001b[0m\u001b[0;34m)\u001b[0m\u001b[0;34m)\u001b[0m\u001b[0;34m)\u001b[0m\u001b[0;34m**\u001b[0m\u001b[0;34m(\u001b[0m\u001b[0mInteger\u001b[0m\u001b[0;34m(\u001b[0m\u001b[0;36m3\u001b[0m\u001b[0;34m)\u001b[0m\u001b[0;34m/\u001b[0m\u001b[0mInteger\u001b[0m\u001b[0;34m(\u001b[0m\u001b[0;36m2\u001b[0m\u001b[0;34m)\u001b[0m\u001b[0;34m)\u001b[0m \u001b[0;34m+\u001b[0m \u001b[0msqrt\u001b[0m\u001b[0;34m(\u001b[0m\u001b[0mInteger\u001b[0m\u001b[0;34m(\u001b[0m\u001b[0;36m2\u001b[0m\u001b[0;34m)\u001b[0m\u001b[0;34m)\u001b[0m\u001b[0;34m*\u001b[0m\u001b[0msqrt\u001b[0m\u001b[0;34m(\u001b[0m\u001b[0mInteger\u001b[0m\u001b[0;34m(\u001b[0m\u001b[0;36m1\u001b[0m\u001b[0;34m)\u001b[0m\u001b[0;34m/\u001b[0m\u001b[0mInteger\u001b[0m\u001b[0;34m(\u001b[0m\u001b[0;36m2\u001b[0m\u001b[0;34m)\u001b[0m \u001b[0;34m+\u001b[0m \u001b[0mmu\u001b[0m\u001b[0;34m*\u001b[0m\u001b[0mn\u001b[0m\u001b[0;34m**\u001b[0m\u001b[0;34m(\u001b[0m\u001b[0;34m-\u001b[0m\u001b[0mInteger\u001b[0m\u001b[0;34m(\u001b[0m\u001b[0;36m1\u001b[0m\u001b[0;34m)\u001b[0m\u001b[0;34m/\u001b[0m\u001b[0mInteger\u001b[0m\u001b[0;34m(\u001b[0m\u001b[0;36m3\u001b[0m\u001b[0;34m)\u001b[0m\u001b[0;34m)\u001b[0m\u001b[0;34m)\u001b[0m \u001b[0;34m-\u001b[0m \u001b[0;34m(\u001b[0m\u001b[0mInteger\u001b[0m\u001b[0;34m(\u001b[0m\u001b[0;36m1\u001b[0m\u001b[0;34m)\u001b[0m\u001b[0;34m/\u001b[0m\u001b[0mInteger\u001b[0m\u001b[0;34m(\u001b[0m\u001b[0;36m2\u001b[0m\u001b[0;34m)\u001b[0m\u001b[0;34m+\u001b[0m \u001b[0mmu\u001b[0m\u001b[0;34m*\u001b[0m\u001b[0mn\u001b[0m\u001b[0;34m**\u001b[0m\u001b[0;34m(\u001b[0m\u001b[0;34m-\u001b[0m\u001b[0mInteger\u001b[0m\u001b[0;34m(\u001b[0m\u001b[0;36m1\u001b[0m\u001b[0;34m)\u001b[0m\u001b[0;34m/\u001b[0m\u001b[0mInteger\u001b[0m\u001b[0;34m(\u001b[0m\u001b[0;36m3\u001b[0m\u001b[0;34m)\u001b[0m\u001b[0;34m)\u001b[0m\u001b[0;34m)\u001b[0m \u001b[0;34m+\u001b[0m \u001b[0mInteger\u001b[0m\u001b[0;34m(\u001b[0m\u001b[0;36m1\u001b[0m\u001b[0;34m)\u001b[0m\u001b[0;34m/\u001b[0m\u001b[0mInteger\u001b[0m\u001b[0;34m(\u001b[0m\u001b[0;36m2\u001b[0m\u001b[0;34m)\u001b[0m\u001b[0;34m*\u001b[0m\u001b[0;34m(\u001b[0m\u001b[0msqrt\u001b[0m\u001b[0;34m(\u001b[0m\u001b[0mInteger\u001b[0m\u001b[0;34m(\u001b[0m\u001b[0;36m2\u001b[0m\u001b[0;34m)\u001b[0m\u001b[0;34m)\u001b[0m\u001b[0;34m*\u001b[0m\u001b[0msqrt\u001b[0m\u001b[0;34m(\u001b[0m\u001b[0mInteger\u001b[0m\u001b[0;34m(\u001b[0m\u001b[0;36m1\u001b[0m\u001b[0;34m)\u001b[0m\u001b[0;34m/\u001b[0m\u001b[0mInteger\u001b[0m\u001b[0;34m(\u001b[0m\u001b[0;36m2\u001b[0m\u001b[0;34m)\u001b[0m\u001b[0;34m+\u001b[0m \u001b[0mmu\u001b[0m\u001b[0;34m*\u001b[0m\u001b[0mn\u001b[0m\u001b[0;34m**\u001b[0m\u001b[0;34m(\u001b[0m\u001b[0;34m-\u001b[0m\u001b[0mInteger\u001b[0m\u001b[0;34m(\u001b[0m\u001b[0;36m1\u001b[0m\u001b[0;34m)\u001b[0m\u001b[0;34m/\u001b[0m\u001b[0mInteger\u001b[0m\u001b[0;34m(\u001b[0m\u001b[0;36m3\u001b[0m\u001b[0;34m)\u001b[0m\u001b[0;34m)\u001b[0m\u001b[0;34m)\u001b[0m \u001b[0;34m-\u001b[0m \u001b[0;34m(\u001b[0m\u001b[0mInteger\u001b[0m\u001b[0;34m(\u001b[0m\u001b[0;36m1\u001b[0m\u001b[0;34m)\u001b[0m\u001b[0;34m/\u001b[0m\u001b[0mInteger\u001b[0m\u001b[0;34m(\u001b[0m\u001b[0;36m2\u001b[0m\u001b[0;34m)\u001b[0m \u001b[0;34m+\u001b[0m \u001b[0mmu\u001b[0m\u001b[0;34m*\u001b[0m\u001b[0mn\u001b[0m\u001b[0;34m**\u001b[0m\u001b[0;34m(\u001b[0m\u001b[0;34m-\u001b[0m\u001b[0mInteger\u001b[0m\u001b[0;34m(\u001b[0m\u001b[0;36m1\u001b[0m\u001b[0;34m)\u001b[0m\u001b[0;34m/\u001b[0m\u001b[0mInteger\u001b[0m\u001b[0;34m(\u001b[0m\u001b[0;36m3\u001b[0m\u001b[0;34m)\u001b[0m\u001b[0;34m)\u001b[0m\u001b[0;34m)\u001b[0m\u001b[0;34m)\u001b[0m\u001b[0;34m/\u001b[0m\u001b[0;34m(\u001b[0m\u001b[0mInteger\u001b[0m\u001b[0;34m(\u001b[0m\u001b[0;36m1\u001b[0m\u001b[0;34m)\u001b[0m\u001b[0;34m/\u001b[0m\u001b[0mInteger\u001b[0m\u001b[0;34m(\u001b[0m\u001b[0;36m2\u001b[0m\u001b[0;34m)\u001b[0m \u001b[0;34m+\u001b[0m \u001b[0mmu\u001b[0m\u001b[0;34m*\u001b[0m\u001b[0mn\u001b[0m\u001b[0;34m**\u001b[0m\u001b[0;34m(\u001b[0m\u001b[0;34m-\u001b[0m\u001b[0mInteger\u001b[0m\u001b[0;34m(\u001b[0m\u001b[0;36m1\u001b[0m\u001b[0;34m)\u001b[0m\u001b[0;34m/\u001b[0m\u001b[0mInteger\u001b[0m\u001b[0;34m(\u001b[0m\u001b[0;36m3\u001b[0m\u001b[0;34m)\u001b[0m\u001b[0;34m)\u001b[0m\u001b[0;34m)\u001b[0m \u001b[0;34m-\u001b[0m \u001b[0mlog\u001b[0m\u001b[0;34m(\u001b[0m\u001b[0msqrt\u001b[0m\u001b[0;34m(\u001b[0m\u001b[0mInteger\u001b[0m\u001b[0;34m(\u001b[0m\u001b[0;36m2\u001b[0m\u001b[0;34m)\u001b[0m\u001b[0;34m)\u001b[0m\u001b[0;34m*\u001b[0m\u001b[0msqrt\u001b[0m\u001b[0;34m(\u001b[0m\u001b[0mInteger\u001b[0m\u001b[0;34m(\u001b[0m\u001b[0;36m1\u001b[0m\u001b[0;34m)\u001b[0m\u001b[0;34m/\u001b[0m\u001b[0mInteger\u001b[0m\u001b[0;34m(\u001b[0m\u001b[0;36m2\u001b[0m\u001b[0;34m)\u001b[0m\u001b[0;34m+\u001b[0m \u001b[0mmu\u001b[0m\u001b[0;34m*\u001b[0m\u001b[0mn\u001b[0m\u001b[0;34m**\u001b[0m\u001b[0;34m(\u001b[0m\u001b[0;34m-\u001b[0m\u001b[0mInteger\u001b[0m\u001b[0;34m(\u001b[0m\u001b[0;36m1\u001b[0m\u001b[0;34m)\u001b[0m\u001b[0;34m/\u001b[0m\u001b[0mInteger\u001b[0m\u001b[0;34m(\u001b[0m\u001b[0;36m3\u001b[0m\u001b[0;34m)\u001b[0m\u001b[0;34m)\u001b[0m\u001b[0;34m)\u001b[0m\u001b[0;34m)\u001b[0m \u001b[0;34m+\u001b[0m \u001b[0mlog\u001b[0m\u001b[0;34m(\u001b[0m\u001b[0mInteger\u001b[0m\u001b[0;34m(\u001b[0m\u001b[0;36m2\u001b[0m\u001b[0;34m)\u001b[0m\u001b[0;34m*\u001b[0m\u001b[0;34m(\u001b[0m\u001b[0mInteger\u001b[0m\u001b[0;34m(\u001b[0m\u001b[0;36m1\u001b[0m\u001b[0;34m)\u001b[0m\u001b[0;34m/\u001b[0m\u001b[0mInteger\u001b[0m\u001b[0;34m(\u001b[0m\u001b[0;36m2\u001b[0m\u001b[0;34m)\u001b[0m \u001b[0;34m+\u001b[0m \u001b[0mmu\u001b[0m\u001b[0;34m*\u001b[0m\u001b[0mn\u001b[0m\u001b[0;34m**\u001b[0m\u001b[0;34m(\u001b[0m\u001b[0;34m-\u001b[0m\u001b[0mInteger\u001b[0m\u001b[0;34m(\u001b[0m\u001b[0;36m1\u001b[0m\u001b[0;34m)\u001b[0m\u001b[0;34m/\u001b[0m\u001b[0mInteger\u001b[0m\u001b[0;34m(\u001b[0m\u001b[0;36m3\u001b[0m\u001b[0;34m)\u001b[0m\u001b[0;34m)\u001b[0m\u001b[0;34m)\u001b[0m\u001b[0;34m)\u001b[0m \u001b[0;34m-\u001b[0m \u001b[0mInteger\u001b[0m\u001b[0;34m(\u001b[0m\u001b[0;36m1\u001b[0m\u001b[0;34m)\u001b[0m\u001b[0;34m)\u001b[0m\u001b[0;34m*\u001b[0m\u001b[0mn\u001b[0m \u001b[0;34m-\u001b[0m \u001b[0mInteger\u001b[0m\u001b[0;34m(\u001b[0m\u001b[0;36m1\u001b[0m\u001b[0;34m)\u001b[0m\u001b[0;34m/\u001b[0m\u001b[0mInteger\u001b[0m\u001b[0;34m(\u001b[0m\u001b[0;36m2\u001b[0m\u001b[0;34m)\u001b[0m\u001b[0;34m*\u001b[0m\u001b[0;34m(\u001b[0m\u001b[0mInteger\u001b[0m\u001b[0;34m(\u001b[0m\u001b[0;36m1\u001b[0m\u001b[0;34m)\u001b[0m\u001b[0;34m/\u001b[0m\u001b[0mInteger\u001b[0m\u001b[0;34m(\u001b[0m\u001b[0;36m2\u001b[0m\u001b[0;34m)\u001b[0m \u001b[0;34m+\u001b[0m\u001b[0mmu\u001b[0m\u001b[0;34m*\u001b[0m\u001b[0mn\u001b[0m\u001b[0;34m**\u001b[0m\u001b[0;34m(\u001b[0m\u001b[0;34m-\u001b[0m\u001b[0mInteger\u001b[0m\u001b[0;34m(\u001b[0m\u001b[0;36m1\u001b[0m\u001b[0;34m)\u001b[0m\u001b[0;34m/\u001b[0m\u001b[0mInteger\u001b[0m\u001b[0;34m(\u001b[0m\u001b[0;36m3\u001b[0m\u001b[0;34m)\u001b[0m\u001b[0;34m)\u001b[0m\u001b[0;34m)\u001b[0m\u001b[0;34m**\u001b[0m\u001b[0mInteger\u001b[0m\u001b[0;34m(\u001b[0m\u001b[0;36m2\u001b[0m\u001b[0;34m)\u001b[0m \u001b[0;34m+\u001b[0m \u001b[0mInteger\u001b[0m\u001b[0;34m(\u001b[0m\u001b[0;36m1\u001b[0m\u001b[0;34m)\u001b[0m\u001b[0;34m/\u001b[0m\u001b[0mInteger\u001b[0m\u001b[0;34m(\u001b[0m\u001b[0;36m2\u001b[0m\u001b[0;34m)\u001b[0m\u001b[0;34m*\u001b[0m\u001b[0mlog\u001b[0m\u001b[0;34m(\u001b[0m\u001b[0mInteger\u001b[0m\u001b[0;34m(\u001b[0m\u001b[0;36m2\u001b[0m\u001b[0;34m)\u001b[0m\u001b[0;34m*\u001b[0m\u001b[0mpi\u001b[0m\u001b[0;34m)\u001b[0m \u001b[0;34m-\u001b[0m \u001b[0mlog\u001b[0m\u001b[0;34m(\u001b[0m\u001b[0mInteger\u001b[0m\u001b[0;34m(\u001b[0m\u001b[0;36m2\u001b[0m\u001b[0;34m)\u001b[0m\u001b[0;34m*\u001b[0m\u001b[0;34m(\u001b[0m\u001b[0mInteger\u001b[0m\u001b[0;34m(\u001b[0m\u001b[0;36m1\u001b[0m\u001b[0;34m)\u001b[0m\u001b[0;34m/\u001b[0m\u001b[0mInteger\u001b[0m\u001b[0;34m(\u001b[0m\u001b[0;36m2\u001b[0m\u001b[0;34m)\u001b[0m\u001b[0;34m)\u001b[0m\u001b[0;34m**\u001b[0m\u001b[0;34m(\u001b[0m\u001b[0mInteger\u001b[0m\u001b[0;34m(\u001b[0m\u001b[0;36m1\u001b[0m\u001b[0;34m)\u001b[0m\u001b[0;34m/\u001b[0m\u001b[0mInteger\u001b[0m\u001b[0;34m(\u001b[0m\u001b[0;36m4\u001b[0m\u001b[0;34m)\u001b[0m\u001b[0;34m)\u001b[0m\u001b[0;34m*\u001b[0m\u001b[0msqrt\u001b[0m\u001b[0;34m(\u001b[0m\u001b[0mpi\u001b[0m\u001b[0;34m)\u001b[0m\u001b[0;34m*\u001b[0m\u001b[0;34m(\u001b[0m\u001b[0;34m-\u001b[0m\u001b[0msqrt\u001b[0m\u001b[0;34m(\u001b[0m\u001b[0mInteger\u001b[0m\u001b[0;34m(\u001b[0m\u001b[0;36m2\u001b[0m\u001b[0;34m)\u001b[0m\u001b[0;34m)\u001b[0m\u001b[0;34m*\u001b[0m\u001b[0msqrt\u001b[0m\u001b[0;34m(\u001b[0m\u001b[0mInteger\u001b[0m\u001b[0;34m(\u001b[0m\u001b[0;36m1\u001b[0m\u001b[0;34m)\u001b[0m\u001b[0;34m/\u001b[0m\u001b[0mInteger\u001b[0m\u001b[0;34m(\u001b[0m\u001b[0;36m2\u001b[0m\u001b[0;34m)\u001b[0m \u001b[0;34m+\u001b[0m \u001b[0mmu\u001b[0m\u001b[0;34m*\u001b[0m\u001b[0mn\u001b[0m\u001b[0;34m**\u001b[0m\u001b[0;34m(\u001b[0m\u001b[0;34m-\u001b[0m\u001b[0mInteger\u001b[0m\u001b[0;34m(\u001b[0m\u001b[0;36m1\u001b[0m\u001b[0;34m)\u001b[0m\u001b[0;34m/\u001b[0m\u001b[0mInteger\u001b[0m\u001b[0;34m(\u001b[0m\u001b[0;36m3\u001b[0m\u001b[0;34m)\u001b[0m\u001b[0;34m)\u001b[0m\u001b[0;34m)\u001b[0m\u001b[0;34m*\u001b[0m\u001b[0;34m(\u001b[0m\u001b[0;34m(\u001b[0m\u001b[0msqrt\u001b[0m\u001b[0;34m(\u001b[0m\u001b[0mInteger\u001b[0m\u001b[0;34m(\u001b[0m\u001b[0;36m2\u001b[0m\u001b[0;34m)\u001b[0m\u001b[0;34m)\u001b[0m\u001b[0;34m*\u001b[0m\u001b[0msqrt\u001b[0m\u001b[0;34m(\u001b[0m\u001b[0mInteger\u001b[0m\u001b[0;34m(\u001b[0m\u001b[0;36m1\u001b[0m\u001b[0;34m)\u001b[0m\u001b[0;34m/\u001b[0m\u001b[0mInteger\u001b[0m\u001b[0;34m(\u001b[0m\u001b[0;36m2\u001b[0m\u001b[0;34m)\u001b[0m \u001b[0;34m+\u001b[0m \u001b[0mmu\u001b[0m\u001b[0;34m*\u001b[0m\u001b[0mn\u001b[0m\u001b[0;34m**\u001b[0m\u001b[0;34m(\u001b[0m\u001b[0;34m-\u001b[0m\u001b[0mInteger\u001b[0m\u001b[0;34m(\u001b[0m\u001b[0;36m1\u001b[0m\u001b[0;34m)\u001b[0m\u001b[0;34m/\u001b[0m\u001b[0mInteger\u001b[0m\u001b[0;34m(\u001b[0m\u001b[0;36m3\u001b[0m\u001b[0;34m)\u001b[0m\u001b[0;34m)\u001b[0m\u001b[0;34m)\u001b[0m \u001b[0;34m-\u001b[0m \u001b[0mInteger\u001b[0m\u001b[0;34m(\u001b[0m\u001b[0;36m1\u001b[0m\u001b[0;34m)\u001b[0m\u001b[0;34m)\u001b[0m\u001b[0;34m/\u001b[0m\u001b[0;34m(\u001b[0m\u001b[0mInteger\u001b[0m\u001b[0;34m(\u001b[0m\u001b[0;36m1\u001b[0m\u001b[0;34m)\u001b[0m\u001b[0;34m/\u001b[0m\u001b[0mInteger\u001b[0m\u001b[0;34m(\u001b[0m\u001b[0;36m2\u001b[0m\u001b[0;34m)\u001b[0m \u001b[0;34m+\u001b[0m \u001b[0mmu\u001b[0m\u001b[0;34m*\u001b[0m\u001b[0mn\u001b[0m\u001b[0;34m**\u001b[0m\u001b[0;34m(\u001b[0m\u001b[0;34m-\u001b[0m\u001b[0mInteger\u001b[0m\u001b[0;34m(\u001b[0m\u001b[0;36m1\u001b[0m\u001b[0;34m)\u001b[0m\u001b[0;34m/\u001b[0m\u001b[0mInteger\u001b[0m\u001b[0;34m(\u001b[0m\u001b[0;36m3\u001b[0m\u001b[0;34m)\u001b[0m\u001b[0;34m)\u001b[0m\u001b[0;34m)\u001b[0m \u001b[0;34m+\u001b[0m \u001b[0msqrt\u001b[0m\u001b[0;34m(\u001b[0m\u001b[0mInteger\u001b[0m\u001b[0;34m(\u001b[0m\u001b[0;36m2\u001b[0m\u001b[0;34m)\u001b[0m\u001b[0;34m)\u001b[0m\u001b[0;34m/\u001b[0m\u001b[0msqrt\u001b[0m\u001b[0;34m(\u001b[0m\u001b[0mInteger\u001b[0m\u001b[0;34m(\u001b[0m\u001b[0;36m1\u001b[0m\u001b[0;34m)\u001b[0m\u001b[0;34m/\u001b[0m\u001b[0mInteger\u001b[0m\u001b[0;34m(\u001b[0m\u001b[0;36m2\u001b[0m\u001b[0;34m)\u001b[0m \u001b[0;34m+\u001b[0m \u001b[0mmu\u001b[0m\u001b[0;34m*\u001b[0m\u001b[0mn\u001b[0m\u001b[0;34m**\u001b[0m\u001b[0;34m(\u001b[0m\u001b[0;34m-\u001b[0m\u001b[0mInteger\u001b[0m\u001b[0;34m(\u001b[0m\u001b[0;36m1\u001b[0m\u001b[0;34m)\u001b[0m\u001b[0;34m/\u001b[0m\u001b[0mInteger\u001b[0m\u001b[0;34m(\u001b[0m\u001b[0;36m3\u001b[0m\u001b[0;34m)\u001b[0m\u001b[0;34m)\u001b[0m\u001b[0;34m)\u001b[0m \u001b[0;34m-\u001b[0m \u001b[0mInteger\u001b[0m\u001b[0;34m(\u001b[0m\u001b[0;36m2\u001b[0m\u001b[0;34m)\u001b[0m\u001b[0;34m)\u001b[0m\u001b[0;34m)\u001b[0m\u001b[0;34m**\u001b[0m\u001b[0;34m(\u001b[0m\u001b[0mInteger\u001b[0m\u001b[0;34m(\u001b[0m\u001b[0;36m1\u001b[0m\u001b[0;34m)\u001b[0m\u001b[0;34m/\u001b[0m\u001b[0mInteger\u001b[0m\u001b[0;34m(\u001b[0m\u001b[0;36m4\u001b[0m\u001b[0;34m)\u001b[0m\u001b[0;34m)\u001b[0m\u001b[0;34m)\u001b[0m\u001b[0;34m\u001b[0m\u001b[0;34m\u001b[0m\u001b[0m\n\u001b[0m",
      "\u001b[0;31mNameError\u001b[0m: name 'mu' is not defined"
     ]
    }
   ],
   "source": [
    "# when  L = 1/2 + mu *n^{-1/3}\n",
    "%display latex \n",
    "(-1/3*sqrt(1/2)*(-sqrt(2)*sqrt(1/2 + mu *n^(-1/3))*((sqrt(2)*sqrt(1/2 + mu*n^(-1/3)) - 1)/(1/2 + mu*n^(-1/3)) + sqrt(2)/sqrt(1/2 + mu * n^(-1/3)) - 2))^(3/2) + sqrt(2)*sqrt(1/2 + mu*n^(-1/3)) - (1/2+ mu*n^(-1/3)) + 1/2*(sqrt(2)*sqrt(1/2+ mu*n^(-1/3)) - (1/2 + mu*n^(-1/3)))/(1/2 + mu*n^(-1/3)) - log(sqrt(2)*sqrt(1/2+ mu*n^(-1/3))) + log(2*(1/2 + mu*n^(-1/3))) - 1)*n - 1/2*(1/2 +mu*n^(-1/3))^2 + 1/2*log(2*pi) - log(2*(1/2)^(1/4)*sqrt(pi)*(-sqrt(2)*sqrt(*((sqrt(2)*sqrt(L - 1)/(1/2 + L + sqrt(2)/sqrt(L) - 2))^(1/4))"
   ]
  },
  {
   "cell_type": "code",
   "execution_count": 135,
   "metadata": {
    "scrolled": false
   },
   "outputs": [
    {
     "data": {
      "image/png": "[encoded data removed]",
      "text/plain": [
       "Graphics object consisting of 1 graphics primitive"
      ]
     },
     "execution_count": 135,
     "metadata": {},
     "output_type": "execute_result"
    }
   ],
   "source": [
    "plot(e^(1/6*log(10)+ 2*sqrt(2)*sqrt(1/2)*mu^3 - 4*(2*sqrt(2)*sqrt(1/2) - 1)*mu^3 + 4/3*mu^3 - 2/3*sqrt(2)*sqrt(1/2)*(mu^2)^(3/2) - log(2*2^(1/4)*(1/2)^(1/4)*sqrt(pi)*(mu^2)^(1/4)) + 1/2*log(2*pi) - 1/8), mu, 0.5, 1)"
   ]
  },
  {
   "cell_type": "code",
   "execution_count": 138,
   "metadata": {
    "scrolled": false
   },
   "outputs": [
    {
     "data": {
      "image/png": "[encoded data removed]",
      "text/plain": [
       "Graphics object consisting of 1 graphics primitive"
      ]
     },
     "execution_count": 138,
     "metadata": {},
     "output_type": "execute_result"
    }
   ],
   "source": [
    "plot(e^(1/6*log(10)- 4/3*mu^3 - log(2*sqrt(pi*mu)) + 1/2 * log(2*pi)- 1/8),mu, 0.5, 1)"
   ]
  },
  {
   "cell_type": "code",
   "execution_count": 7,
   "metadata": {},
   "outputs": [
    {
     "data": {
      "image/png": "[encoded data removed]",
      "text/plain": [
       "Graphics object consisting of 1 graphics primitive"
      ]
     },
     "execution_count": 7,
     "metadata": {},
     "output_type": "execute_result"
    }
   ],
   "source": [
    "plot(e^(-x), x, 0.5, 2)"
   ]
  },
  {
   "cell_type": "code",
   "execution_count": 8,
   "metadata": {},
   "outputs": [
    {
     "data": {
      "text/html": [
       "<html><script type=\"math/tex; mode=display\">\\newcommand{\\Bold}[1]{\\mathbf{#1}}s</script></html>"
      ],
      "text/latex": [
       "$$\\newcommand{\\Bold}[1]{\\mathbf{#1}}s$$"
      ],
      "text/plain": [
       "s"
      ]
     },
     "execution_count": 8,
     "metadata": {},
     "output_type": "execute_result"
    }
   ],
   "source": [
    "var('s')"
   ]
  },
  {
   "cell_type": "code",
   "execution_count": 28,
   "metadata": {},
   "outputs": [],
   "source": [
    "# The function g(t)\n",
    "g(s) = 1/(2*y)*(s - 1/2*s^2) - 1/8 * s^2 + n*s - 2*(n + 1)*log(s)"
   ]
  },
  {
   "cell_type": "code",
   "execution_count": 29,
   "metadata": {
    "scrolled": true
   },
   "outputs": [
    {
     "data": {
      "text/html": [
       "<html><script type=\"math/tex; mode=display\">\\newcommand{\\Bold}[1]{\\mathbf{#1}}-\\frac{1}{2} \\, n {\\left(\\frac{s - 1}{L} + \\frac{4}{s} - 2\\right)} + \\frac{1}{4} \\, s - \\frac{2}{s} - \\frac{1}{2}</script></html>"
      ],
      "text/latex": [
       "$$\\newcommand{\\Bold}[1]{\\mathbf{#1}}-\\frac{1}{2} \\, n {\\left(\\frac{s - 1}{L} + \\frac{4}{s} - 2\\right)} + \\frac{1}{4} \\, s - \\frac{2}{s} - \\frac{1}{2}$$"
      ],
      "text/plain": [
       "-1/2*n*((s - 1)/L + 4/s - 2) + 1/4*s - 2/s - 1/2"
      ]
     },
     "execution_count": 29,
     "metadata": {},
     "output_type": "execute_result"
    }
   ],
   "source": [
    " H = diff(g(s), s); H"
   ]
  },
  {
   "cell_type": "code",
   "execution_count": 31,
   "metadata": {
    "scrolled": true
   },
   "outputs": [
    {
     "data": {
      "text/html": [
       "<html><script type=\"math/tex; mode=display\">\\newcommand{\\Bold}[1]{\\mathbf{#1}}-\\frac{1}{2} \\, n {\\left(\\frac{1}{L} - \\frac{4}{s^{2}}\\right)} + \\frac{2}{s^{2}} + \\frac{1}{4}</script></html>"
      ],
      "text/latex": [
       "$$\\newcommand{\\Bold}[1]{\\mathbf{#1}}-\\frac{1}{2} \\, n {\\left(\\frac{1}{L} - \\frac{4}{s^{2}}\\right)} + \\frac{2}{s^{2}} + \\frac{1}{4}$$"
      ],
      "text/plain": [
       "-1/2*n*(1/L - 4/s^2) + 2/s^2 + 1/4"
      ]
     },
     "execution_count": 31,
     "metadata": {},
     "output_type": "execute_result"
    }
   ],
   "source": [
    "U = diff(H , s); U"
   ]
  },
  {
   "cell_type": "code",
   "execution_count": 32,
   "metadata": {},
   "outputs": [
    {
     "data": {
      "text/html": [
       "<html><script type=\"math/tex; mode=display\">\\newcommand{\\Bold}[1]{\\mathbf{#1}}\\left[\\left(\\frac{2 \\, n s^{2}}{s^{2} + 8 \\, n + 8}, 1\\right)\\right]</script></html>"
      ],
      "text/latex": [
       "$$\\newcommand{\\Bold}[1]{\\mathbf{#1}}\\left[\\left(\\frac{2 \\, n s^{2}}{s^{2} + 8 \\, n + 8}, 1\\right)\\right]$$"
      ],
      "text/plain": [
       "[(2*n*s^2/(s^2 + 8*n + 8), 1)]"
      ]
     },
     "execution_count": 32,
     "metadata": {},
     "output_type": "execute_result"
    }
   ],
   "source": [
    "U.roots()"
   ]
  }
 ],
 "metadata": {
  "kernelspec": {
   "display_name": "SageMath 9.3",
   "language": "sage",
   "name": "sagemath"
  },
  "language_info": {
   "codemirror_mode": {
    "name": "ipython",
    "version": 3
   },
   "file_extension": ".py",
   "mimetype": "text/x-python",
   "name": "python",
   "nbconvert_exporter": "python",
   "pygments_lexer": "ipython3",
   "version": "3.7.10"
  }
 },
 "nbformat": 4,
 "nbformat_minor": 4
}
