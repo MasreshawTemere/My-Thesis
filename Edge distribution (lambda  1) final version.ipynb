{
 "cells": [
  {
   "cell_type": "code",
   "execution_count": 1,
   "metadata": {},
   "outputs": [
    {
     "data": {
      "text/plain": [
       "(t, L, a1)"
      ]
     },
     "execution_count": 1,
     "metadata": {},
     "output_type": "execute_result"
    }
   ],
   "source": [
    "# The number of edges of DAG where L<1\n",
    "#Declaration of the variables.\n",
    "var('t, L, a1')"
   ]
  },
  {
   "cell_type": "code",
   "execution_count": 2,
   "metadata": {},
   "outputs": [
    {
     "data": {
      "text/plain": [
       "n^(3/2)*log(n)^3 + O(n^(1/2)*log(n))"
      ]
     },
     "execution_count": 2,
     "metadata": {},
     "output_type": "execute_result"
    }
   ],
   "source": [
    "#initiate asymptotic ring\n",
    "K.<n> = AsymptoticRing(growth_group='n^QQ*log(n)^ZZ', coefficient_ring=ZZ,default_prec=5);\n",
    "K.an_element()"
   ]
  },
  {
   "cell_type": "code",
   "execution_count": 3,
   "metadata": {},
   "outputs": [],
   "source": [
    "#Definitions\n",
    "p=L/n\n",
    "y=p/(1-p)\n",
    "al=log(1+y)\n",
    "be=sqrt(1+y)"
   ]
  },
  {
   "cell_type": "markdown",
   "metadata": {},
   "source": [
    "# Edge Distribution for 0 \\leq \\lambda < 1"
   ]
  },
  {
   "cell_type": "code",
   "execution_count": 4,
   "metadata": {
    "scrolled": true
   },
   "outputs": [
    {
     "data": {
      "text/html": [
       "<html><script type=\"math/tex; mode=display\">\\newcommand{\\Bold}[1]{\\mathbf{#1}}L e^{t} n - \\frac{1}{2} \\, L^{2} e^{\\left(2 \\, t\\right)} + L^{2} e^{t} + \\log\\left(-L e^{t} + 1\\right) + \\left(\\frac{1}{3} \\, L^{3} e^{\\left(3 \\, t\\right)} - L^{3} e^{\\left(2 \\, t\\right)} + L^{3} e^{t} - \\frac{L^{2} e^{\\left(2 \\, t\\right)} - 2 \\, L^{2} e^{t}}{2 \\, {\\left(L e^{t} - 1\\right)}}\\right) n^{-1} + \\left(-\\frac{1}{4} \\, L^{4} e^{\\left(4 \\, t\\right)} + L^{4} e^{\\left(3 \\, t\\right)} - \\frac{3}{2} \\, L^{4} e^{\\left(2 \\, t\\right)} + L^{4} e^{t} - \\frac{{\\left(L^{2} e^{\\left(2 \\, t\\right)} - 2 \\, L^{2} e^{t}\\right)}^{2}}{8 \\, {\\left(L e^{t} - 1\\right)}^{2}} + \\frac{L^{3} e^{\\left(3 \\, t\\right)} - 3 \\, L^{3} e^{\\left(2 \\, t\\right)} + 3 \\, L^{3} e^{t}}{3 \\, {\\left(L e^{t} - 1\\right)}}\\right) n^{-2} + \\left(\\frac{1}{5} \\, L^{5} e^{\\left(5 \\, t\\right)} - L^{5} e^{\\left(4 \\, t\\right)} + 2 \\, L^{5} e^{\\left(3 \\, t\\right)} - 2 \\, L^{5} e^{\\left(2 \\, t\\right)} + L^{5} e^{t} - \\frac{{\\left(L^{2} e^{\\left(2 \\, t\\right)} - 2 \\, L^{2} e^{t}\\right)}^{3}}{24 \\, {\\left(L e^{t} - 1\\right)}^{3}} + \\frac{{\\left(L^{3} e^{\\left(3 \\, t\\right)} - 3 \\, L^{3} e^{\\left(2 \\, t\\right)} + 3 \\, L^{3} e^{t}\\right)} {\\left(L^{2} e^{\\left(2 \\, t\\right)} - 2 \\, L^{2} e^{t}\\right)}}{6 \\, {\\left(L e^{t} - 1\\right)}^{2}} - \\frac{L^{4} e^{\\left(4 \\, t\\right)} - 4 \\, L^{4} e^{\\left(3 \\, t\\right)} + 6 \\, L^{4} e^{\\left(2 \\, t\\right)} - 4 \\, L^{4} e^{t}}{4 \\, {\\left(L e^{t} - 1\\right)}}\\right) n^{-3} + O\\!\\left(n^{-4}\\right)</script></html>"
      ],
      "text/latex": [
       "$$\\newcommand{\\Bold}[1]{\\mathbf{#1}}L e^{t} n - \\frac{1}{2} \\, L^{2} e^{\\left(2 \\, t\\right)} + L^{2} e^{t} + \\log\\left(-L e^{t} + 1\\right) + \\left(\\frac{1}{3} \\, L^{3} e^{\\left(3 \\, t\\right)} - L^{3} e^{\\left(2 \\, t\\right)} + L^{3} e^{t} - \\frac{L^{2} e^{\\left(2 \\, t\\right)} - 2 \\, L^{2} e^{t}}{2 \\, {\\left(L e^{t} - 1\\right)}}\\right) n^{-1} + \\left(-\\frac{1}{4} \\, L^{4} e^{\\left(4 \\, t\\right)} + L^{4} e^{\\left(3 \\, t\\right)} - \\frac{3}{2} \\, L^{4} e^{\\left(2 \\, t\\right)} + L^{4} e^{t} - \\frac{{\\left(L^{2} e^{\\left(2 \\, t\\right)} - 2 \\, L^{2} e^{t}\\right)}^{2}}{8 \\, {\\left(L e^{t} - 1\\right)}^{2}} + \\frac{L^{3} e^{\\left(3 \\, t\\right)} - 3 \\, L^{3} e^{\\left(2 \\, t\\right)} + 3 \\, L^{3} e^{t}}{3 \\, {\\left(L e^{t} - 1\\right)}}\\right) n^{-2} + \\left(\\frac{1}{5} \\, L^{5} e^{\\left(5 \\, t\\right)} - L^{5} e^{\\left(4 \\, t\\right)} + 2 \\, L^{5} e^{\\left(3 \\, t\\right)} - 2 \\, L^{5} e^{\\left(2 \\, t\\right)} + L^{5} e^{t} - \\frac{{\\left(L^{2} e^{\\left(2 \\, t\\right)} - 2 \\, L^{2} e^{t}\\right)}^{3}}{24 \\, {\\left(L e^{t} - 1\\right)}^{3}} + \\frac{{\\left(L^{3} e^{\\left(3 \\, t\\right)} - 3 \\, L^{3} e^{\\left(2 \\, t\\right)} + 3 \\, L^{3} e^{t}\\right)} {\\left(L^{2} e^{\\left(2 \\, t\\right)} - 2 \\, L^{2} e^{t}\\right)}}{6 \\, {\\left(L e^{t} - 1\\right)}^{2}} - \\frac{L^{4} e^{\\left(4 \\, t\\right)} - 4 \\, L^{4} e^{\\left(3 \\, t\\right)} + 6 \\, L^{4} e^{\\left(2 \\, t\\right)} - 4 \\, L^{4} e^{t}}{4 \\, {\\left(L e^{t} - 1\\right)}}\\right) n^{-3} + O\\!\\left(n^{-4}\\right)$$"
      ],
      "text/plain": [
       "L*e^t*n - 1/2*L^2*e^(2*t) + L^2*e^t + log(-L*e^t + 1) + (1/3*L^3*e^(3*t) - L^3*e^(2*t) + L^3*e^t - 1/2*(L^2*e^(2*t) - 2*L^2*e^t)/(L*e^t - 1))*n^(-1) + (-1/4*L^4*e^(4*t) + L^4*e^(3*t) - 3/2*L^4*e^(2*t) + L^4*e^t - 1/8*(L^2*e^(2*t) - 2*L^2*e^t)^2/(L*e^t - 1)^2 + 1/3*(L^3*e^(3*t) - 3*L^3*e^(2*t) + 3*L^3*e^t)/(L*e^t - 1))*n^(-2) + (1/5*L^5*e^(5*t) - L^5*e^(4*t) + 2*L^5*e^(3*t) - 2*L^5*e^(2*t) + L^5*e^t - 1/24*(L^2*e^(2*t) - 2*L^2*e^t)^3/(L*e^t - 1)^3 + 1/6*(L^3*e^(3*t) - 3*L^3*e^(2*t) + 3*L^3*e^t)*(L^2*e^(2*t) - 2*L^2*e^t)/(L*e^t - 1)^2 - 1/4*(L^4*e^(4*t) - 4*L^4*e^(3*t) + 6*L^4*e^(2*t) - 4*L^4*e^t)/(L*e^t - 1))*n^(-3) + O(n^(-4))"
      ]
     },
     "execution_count": 4,
     "metadata": {},
     "output_type": "execute_result"
    }
   ],
   "source": [
    "%display latex\n",
    "T = n^2 *log(1 + e^t*y) + log(1 - n*log(1 + e^t*y)); T"
   ]
  },
  {
   "cell_type": "code",
   "execution_count": 7,
   "metadata": {
    "scrolled": true
   },
   "outputs": [
    {
     "data": {
      "text/html": [
       "<html><script type=\"math/tex; mode=display\">\\newcommand{\\Bold}[1]{\\mathbf{#1}}L n + \\frac{1}{2} \\, L^{2} + \\log\\left(-L + 1\\right) + \\left(\\frac{1}{3} \\, L^{3} + \\frac{L^{2}}{2 \\, {\\left(L - 1\\right)}}\\right) n^{-1} + \\left(\\frac{1}{4} \\, L^{4} + \\frac{L^{3}}{3 \\, {\\left(L - 1\\right)}} - \\frac{L^{4}}{8 \\, {\\left(L - 1\\right)}^{2}}\\right) n^{-2} + \\left(\\frac{1}{5} \\, L^{5} + \\frac{L^{4}}{4 \\, {\\left(L - 1\\right)}} - \\frac{L^{5}}{6 \\, {\\left(L - 1\\right)}^{2}} + \\frac{L^{6}}{24 \\, {\\left(L - 1\\right)}^{3}}\\right) n^{-3} + O\\!\\left(n^{-4}\\right)</script></html>"
      ],
      "text/latex": [
       "$$\\newcommand{\\Bold}[1]{\\mathbf{#1}}L n + \\frac{1}{2} \\, L^{2} + \\log\\left(-L + 1\\right) + \\left(\\frac{1}{3} \\, L^{3} + \\frac{L^{2}}{2 \\, {\\left(L - 1\\right)}}\\right) n^{-1} + \\left(\\frac{1}{4} \\, L^{4} + \\frac{L^{3}}{3 \\, {\\left(L - 1\\right)}} - \\frac{L^{4}}{8 \\, {\\left(L - 1\\right)}^{2}}\\right) n^{-2} + \\left(\\frac{1}{5} \\, L^{5} + \\frac{L^{4}}{4 \\, {\\left(L - 1\\right)}} - \\frac{L^{5}}{6 \\, {\\left(L - 1\\right)}^{2}} + \\frac{L^{6}}{24 \\, {\\left(L - 1\\right)}^{3}}\\right) n^{-3} + O\\!\\left(n^{-4}\\right)$$"
      ],
      "text/plain": [
       "L*n + 1/2*L^2 + log(-L + 1) + (1/3*L^3 + 1/2*L^2/(L - 1))*n^(-1) + (1/4*L^4 + 1/3*L^3/(L - 1) - 1/8*L^4/(L - 1)^2)*n^(-2) + (1/5*L^5 + 1/4*L^4/(L - 1) - 1/6*L^5/(L - 1)^2 + 1/24*L^6/(L - 1)^3)*n^(-3) + O(n^(-4))"
      ]
     },
     "execution_count": 7,
     "metadata": {},
     "output_type": "execute_result"
    }
   ],
   "source": [
    "T1 = n^2 *log(1 + y) + log(1 - n*log(1 + y)); T1"
   ]
  },
  {
   "cell_type": "code",
   "execution_count": 8,
   "metadata": {
    "scrolled": true
   },
   "outputs": [
    {
     "data": {
      "text/html": [
       "<html><script type=\"math/tex; mode=display\">\\newcommand{\\Bold}[1]{\\mathbf{#1}}\\left(L e^{t} - L\\right) n - \\frac{1}{2} \\, L^{2} e^{\\left(2 \\, t\\right)} + L^{2} e^{t} - \\frac{1}{2} \\, L^{2} + \\log\\left(-L e^{t} + 1\\right) - \\log\\left(-L + 1\\right) + \\left(\\frac{1}{3} \\, L^{3} e^{\\left(3 \\, t\\right)} - L^{3} e^{\\left(2 \\, t\\right)} + L^{3} e^{t} - \\frac{1}{3} \\, L^{3} - \\frac{L^{2}}{2 \\, {\\left(L - 1\\right)}} - \\frac{L^{2} e^{\\left(2 \\, t\\right)} - 2 \\, L^{2} e^{t}}{2 \\, {\\left(L e^{t} - 1\\right)}}\\right) n^{-1} + \\left(-\\frac{1}{4} \\, L^{4} e^{\\left(4 \\, t\\right)} + L^{4} e^{\\left(3 \\, t\\right)} - \\frac{3}{2} \\, L^{4} e^{\\left(2 \\, t\\right)} + L^{4} e^{t} - \\frac{1}{4} \\, L^{4} - \\frac{L^{3}}{3 \\, {\\left(L - 1\\right)}} + \\frac{L^{4}}{8 \\, {\\left(L - 1\\right)}^{2}} - \\frac{{\\left(L^{2} e^{\\left(2 \\, t\\right)} - 2 \\, L^{2} e^{t}\\right)}^{2}}{8 \\, {\\left(L e^{t} - 1\\right)}^{2}} + \\frac{L^{3} e^{\\left(3 \\, t\\right)} - 3 \\, L^{3} e^{\\left(2 \\, t\\right)} + 3 \\, L^{3} e^{t}}{3 \\, {\\left(L e^{t} - 1\\right)}}\\right) n^{-2} + \\left(\\frac{1}{5} \\, L^{5} e^{\\left(5 \\, t\\right)} - L^{5} e^{\\left(4 \\, t\\right)} + 2 \\, L^{5} e^{\\left(3 \\, t\\right)} - 2 \\, L^{5} e^{\\left(2 \\, t\\right)} + L^{5} e^{t} - \\frac{1}{5} \\, L^{5} - \\frac{L^{4}}{4 \\, {\\left(L - 1\\right)}} + \\frac{L^{5}}{6 \\, {\\left(L - 1\\right)}^{2}} - \\frac{L^{6}}{24 \\, {\\left(L - 1\\right)}^{3}} - \\frac{{\\left(L^{2} e^{\\left(2 \\, t\\right)} - 2 \\, L^{2} e^{t}\\right)}^{3}}{24 \\, {\\left(L e^{t} - 1\\right)}^{3}} + \\frac{{\\left(L^{3} e^{\\left(3 \\, t\\right)} - 3 \\, L^{3} e^{\\left(2 \\, t\\right)} + 3 \\, L^{3} e^{t}\\right)} {\\left(L^{2} e^{\\left(2 \\, t\\right)} - 2 \\, L^{2} e^{t}\\right)}}{6 \\, {\\left(L e^{t} - 1\\right)}^{2}} - \\frac{L^{4} e^{\\left(4 \\, t\\right)} - 4 \\, L^{4} e^{\\left(3 \\, t\\right)} + 6 \\, L^{4} e^{\\left(2 \\, t\\right)} - 4 \\, L^{4} e^{t}}{4 \\, {\\left(L e^{t} - 1\\right)}}\\right) n^{-3} + O\\!\\left(n^{-4}\\right)</script></html>"
      ],
      "text/latex": [
       "$$\\newcommand{\\Bold}[1]{\\mathbf{#1}}\\left(L e^{t} - L\\right) n - \\frac{1}{2} \\, L^{2} e^{\\left(2 \\, t\\right)} + L^{2} e^{t} - \\frac{1}{2} \\, L^{2} + \\log\\left(-L e^{t} + 1\\right) - \\log\\left(-L + 1\\right) + \\left(\\frac{1}{3} \\, L^{3} e^{\\left(3 \\, t\\right)} - L^{3} e^{\\left(2 \\, t\\right)} + L^{3} e^{t} - \\frac{1}{3} \\, L^{3} - \\frac{L^{2}}{2 \\, {\\left(L - 1\\right)}} - \\frac{L^{2} e^{\\left(2 \\, t\\right)} - 2 \\, L^{2} e^{t}}{2 \\, {\\left(L e^{t} - 1\\right)}}\\right) n^{-1} + \\left(-\\frac{1}{4} \\, L^{4} e^{\\left(4 \\, t\\right)} + L^{4} e^{\\left(3 \\, t\\right)} - \\frac{3}{2} \\, L^{4} e^{\\left(2 \\, t\\right)} + L^{4} e^{t} - \\frac{1}{4} \\, L^{4} - \\frac{L^{3}}{3 \\, {\\left(L - 1\\right)}} + \\frac{L^{4}}{8 \\, {\\left(L - 1\\right)}^{2}} - \\frac{{\\left(L^{2} e^{\\left(2 \\, t\\right)} - 2 \\, L^{2} e^{t}\\right)}^{2}}{8 \\, {\\left(L e^{t} - 1\\right)}^{2}} + \\frac{L^{3} e^{\\left(3 \\, t\\right)} - 3 \\, L^{3} e^{\\left(2 \\, t\\right)} + 3 \\, L^{3} e^{t}}{3 \\, {\\left(L e^{t} - 1\\right)}}\\right) n^{-2} + \\left(\\frac{1}{5} \\, L^{5} e^{\\left(5 \\, t\\right)} - L^{5} e^{\\left(4 \\, t\\right)} + 2 \\, L^{5} e^{\\left(3 \\, t\\right)} - 2 \\, L^{5} e^{\\left(2 \\, t\\right)} + L^{5} e^{t} - \\frac{1}{5} \\, L^{5} - \\frac{L^{4}}{4 \\, {\\left(L - 1\\right)}} + \\frac{L^{5}}{6 \\, {\\left(L - 1\\right)}^{2}} - \\frac{L^{6}}{24 \\, {\\left(L - 1\\right)}^{3}} - \\frac{{\\left(L^{2} e^{\\left(2 \\, t\\right)} - 2 \\, L^{2} e^{t}\\right)}^{3}}{24 \\, {\\left(L e^{t} - 1\\right)}^{3}} + \\frac{{\\left(L^{3} e^{\\left(3 \\, t\\right)} - 3 \\, L^{3} e^{\\left(2 \\, t\\right)} + 3 \\, L^{3} e^{t}\\right)} {\\left(L^{2} e^{\\left(2 \\, t\\right)} - 2 \\, L^{2} e^{t}\\right)}}{6 \\, {\\left(L e^{t} - 1\\right)}^{2}} - \\frac{L^{4} e^{\\left(4 \\, t\\right)} - 4 \\, L^{4} e^{\\left(3 \\, t\\right)} + 6 \\, L^{4} e^{\\left(2 \\, t\\right)} - 4 \\, L^{4} e^{t}}{4 \\, {\\left(L e^{t} - 1\\right)}}\\right) n^{-3} + O\\!\\left(n^{-4}\\right)$$"
      ],
      "text/plain": [
       "(L*e^t - L)*n - 1/2*L^2*e^(2*t) + L^2*e^t - 1/2*L^2 + log(-L*e^t + 1) - log(-L + 1) + (1/3*L^3*e^(3*t) - L^3*e^(2*t) + L^3*e^t - 1/3*L^3 - 1/2*L^2/(L - 1) - 1/2*(L^2*e^(2*t) - 2*L^2*e^t)/(L*e^t - 1))*n^(-1) + (-1/4*L^4*e^(4*t) + L^4*e^(3*t) - 3/2*L^4*e^(2*t) + L^4*e^t - 1/4*L^4 - 1/3*L^3/(L - 1) + 1/8*L^4/(L - 1)^2 - 1/8*(L^2*e^(2*t) - 2*L^2*e^t)^2/(L*e^t - 1)^2 + 1/3*(L^3*e^(3*t) - 3*L^3*e^(2*t) + 3*L^3*e^t)/(L*e^t - 1))*n^(-2) + (1/5*L^5*e^(5*t) - L^5*e^(4*t) + 2*L^5*e^(3*t) - 2*L^5*e^(2*t) + L^5*e^t - 1/5*L^5 - 1/4*L^4/(L - 1) + 1/6*L^5/(L - 1)^2 - 1/24*L^6/(L - 1)^3 - 1/24*(L^2*e^(2*t) - 2*L^2*e^t)^3/(L*e^t - 1)^3 + 1/6*(L^3*e^(3*t) - 3*L^3*e^(2*t) + 3*L^3*e^t)*(L^2*e^(2*t) - 2*L^2*e^t)/(L*e^t - 1)^2 - 1/4*(L^4*e^(4*t) - 4*L^4*e^(3*t) + 6*L^4*e^(2*t) - 4*L^4*e^t)/(L*e^t - 1))*n^(-3) + O(n^(-4))"
      ]
     },
     "execution_count": 8,
     "metadata": {},
     "output_type": "execute_result"
    }
   ],
   "source": [
    "%display latex\n",
    "T- T1"
   ]
  },
  {
   "cell_type": "code",
   "execution_count": 9,
   "metadata": {},
   "outputs": [
    {
     "data": {
      "text/html": [
       "<html><script type=\"math/tex; mode=display\">\\newcommand{\\Bold}[1]{\\mathbf{#1}}\\left(L e^{t} - L\\right) n - \\frac{1}{2} \\, L^{2} e^{\\left(2 \\, t\\right)} + L^{2} e^{t} - \\frac{1}{2} \\, L^{2} + \\log\\left(-L e^{t} + 1\\right) - \\log\\left(-L + 1\\right)</script></html>"
      ],
      "text/latex": [
       "$$\\newcommand{\\Bold}[1]{\\mathbf{#1}}\\left(L e^{t} - L\\right) n - \\frac{1}{2} \\, L^{2} e^{\\left(2 \\, t\\right)} + L^{2} e^{t} - \\frac{1}{2} \\, L^{2} + \\log\\left(-L e^{t} + 1\\right) - \\log\\left(-L + 1\\right)$$"
      ],
      "text/plain": [
       "(L*e^t - L)*n - 1/2*L^2*e^(2*t) + L^2*e^t - 1/2*L^2 + log(-L*e^t + 1) - log(-L + 1)"
      ]
     },
     "execution_count": 9,
     "metadata": {},
     "output_type": "execute_result"
    }
   ],
   "source": [
    "%display latex\n",
    "simplify((L*e^t - L)*n - 1/2*L^2*e^(2*t) + L^2*e^t - 1/2*L^2 + log(-L*e^t + 1) - log(-L + 1))"
   ]
  },
  {
   "cell_type": "code",
   "execution_count": 10,
   "metadata": {},
   "outputs": [
    {
     "data": {
      "text/html": [
       "<html><script type=\"math/tex; mode=display\">\\newcommand{\\Bold}[1]{\\mathbf{#1}}-\\frac{{\\left(3 \\, L^{5} - 9 \\, L^{4} + 9 \\, L^{3} - 4 \\, L^{2} - {\\left(L^{4} - 3 \\, L^{3} + 3 \\, L^{2} - L\\right)} n - L\\right)} t^{3}}{6 \\, {\\left(L^{3} - 3 \\, L^{2} + 3 \\, L - 1\\right)}} - \\frac{{\\left(L^{4} - 2 \\, L^{3} + L^{2} - {\\left(L^{3} - 2 \\, L^{2} + L\\right)} n + L\\right)} t^{2}}{2 \\, {\\left(L^{2} - 2 \\, L + 1\\right)}} + \\frac{{\\left({\\left(L^{2} - L\\right)} n + L\\right)} t}{L - 1}</script></html>"
      ],
      "text/latex": [
       "$$\\newcommand{\\Bold}[1]{\\mathbf{#1}}-\\frac{{\\left(3 \\, L^{5} - 9 \\, L^{4} + 9 \\, L^{3} - 4 \\, L^{2} - {\\left(L^{4} - 3 \\, L^{3} + 3 \\, L^{2} - L\\right)} n - L\\right)} t^{3}}{6 \\, {\\left(L^{3} - 3 \\, L^{2} + 3 \\, L - 1\\right)}} - \\frac{{\\left(L^{4} - 2 \\, L^{3} + L^{2} - {\\left(L^{3} - 2 \\, L^{2} + L\\right)} n + L\\right)} t^{2}}{2 \\, {\\left(L^{2} - 2 \\, L + 1\\right)}} + \\frac{{\\left({\\left(L^{2} - L\\right)} n + L\\right)} t}{L - 1}$$"
      ],
      "text/plain": [
       "-1/6*(3*L^5 - 9*L^4 + 9*L^3 - 4*L^2 - (L^4 - 3*L^3 + 3*L^2 - L)*n - L)*t^3/(L^3 - 3*L^2 + 3*L - 1) - 1/2*(L^4 - 2*L^3 + L^2 - (L^3 - 2*L^2 + L)*n + L)*t^2/(L^2 - 2*L + 1) + ((L^2 - L)*n + L)*t/(L - 1)"
      ]
     },
     "execution_count": 10,
     "metadata": {},
     "output_type": "execute_result"
    }
   ],
   "source": [
    "#Taylor expansion at t = 0 \n",
    "%display latex\n",
    "taylor((L*e^t - L)*n - 1/2*L^2*e^(2*t) + L^2*e^t - 1/2*L^2 + log(-L*e^t + 1) - log(-L + 1), t, 0, 3)"
   ]
  },
  {
   "cell_type": "markdown",
   "metadata": {},
   "source": [
    "# Edge Distribution for \\lambda > 1"
   ]
  },
  {
   "cell_type": "code",
   "execution_count": 11,
   "metadata": {},
   "outputs": [
    {
     "data": {
      "text/html": [
       "<html><script type=\"math/tex; mode=display\">\\newcommand{\\Bold}[1]{\\mathbf{#1}}n \\log\\left(n\\right) + \\left(\\frac{1}{2} \\, L e^{t} - \\frac{1}{2 \\, L} + \\log\\left(\\frac{e^{\\left(-1\\right)}}{L}\\right)\\right) n + \\left(-\\frac{1}{2} \\cdot 2^{\\frac{2}{3}} L^{\\frac{2}{3}} a_{1} + \\frac{2^{\\frac{2}{3}} a_{1}}{2 \\, L^{\\frac{1}{3}}}\\right) n^{\\frac{1}{3}} + \\log\\left(n\\right) - \\frac{1}{4} \\, L^{2} e^{\\left(2 \\, t\\right)} + \\frac{1}{2} \\, L^{2} e^{t} - \\frac{1}{2} \\, L e^{t} - \\frac{7}{6} \\, L + \\log\\left(\\frac{e^{\\left(-1\\right)}}{L}\\right) + \\frac{1}{2} - \\frac{1}{4} \\cdot 2^{\\frac{1}{3}} L^{\\frac{4}{3}} a_{1}^{2} n^{-\\frac{1}{3}} + \\left(-\\frac{5}{12} \\cdot 2^{\\frac{2}{3}} L^{\\frac{5}{3}} a_{1} - \\frac{2}{3} \\cdot 2^{\\frac{2}{3}} L^{\\frac{2}{3}} a_{1}\\right) n^{-\\frac{2}{3}} + \\left(-\\frac{1}{6} \\, L^{2} a_{1}^{3} + \\frac{1}{6} \\, L^{3} e^{\\left(3 \\, t\\right)} - \\frac{1}{2} \\, L^{3} e^{\\left(2 \\, t\\right)} + \\frac{1}{2} \\, L^{3} e^{t} + \\frac{1}{4} \\, L^{2} e^{\\left(2 \\, t\\right)} - \\frac{1}{2} \\, L^{2} e^{t} - \\frac{49}{72} \\, L^{2} - \\frac{7}{6} \\, L\\right) n^{-1} + O\\!\\left(n^{-\\frac{4}{3}}\\right)</script></html>"
      ],
      "text/latex": [
       "$$\\newcommand{\\Bold}[1]{\\mathbf{#1}}n \\log\\left(n\\right) + \\left(\\frac{1}{2} \\, L e^{t} - \\frac{1}{2 \\, L} + \\log\\left(\\frac{e^{\\left(-1\\right)}}{L}\\right)\\right) n + \\left(-\\frac{1}{2} \\cdot 2^{\\frac{2}{3}} L^{\\frac{2}{3}} a_{1} + \\frac{2^{\\frac{2}{3}} a_{1}}{2 \\, L^{\\frac{1}{3}}}\\right) n^{\\frac{1}{3}} + \\log\\left(n\\right) - \\frac{1}{4} \\, L^{2} e^{\\left(2 \\, t\\right)} + \\frac{1}{2} \\, L^{2} e^{t} - \\frac{1}{2} \\, L e^{t} - \\frac{7}{6} \\, L + \\log\\left(\\frac{e^{\\left(-1\\right)}}{L}\\right) + \\frac{1}{2} - \\frac{1}{4} \\cdot 2^{\\frac{1}{3}} L^{\\frac{4}{3}} a_{1}^{2} n^{-\\frac{1}{3}} + \\left(-\\frac{5}{12} \\cdot 2^{\\frac{2}{3}} L^{\\frac{5}{3}} a_{1} - \\frac{2}{3} \\cdot 2^{\\frac{2}{3}} L^{\\frac{2}{3}} a_{1}\\right) n^{-\\frac{2}{3}} + \\left(-\\frac{1}{6} \\, L^{2} a_{1}^{3} + \\frac{1}{6} \\, L^{3} e^{\\left(3 \\, t\\right)} - \\frac{1}{2} \\, L^{3} e^{\\left(2 \\, t\\right)} + \\frac{1}{2} \\, L^{3} e^{t} + \\frac{1}{4} \\, L^{2} e^{\\left(2 \\, t\\right)} - \\frac{1}{2} \\, L^{2} e^{t} - \\frac{49}{72} \\, L^{2} - \\frac{7}{6} \\, L\\right) n^{-1} + O\\!\\left(n^{-\\frac{4}{3}}\\right)$$"
      ],
      "text/plain": [
       "n*log(n) + (1/2*L*e^t - 1/2/L + log(e^(-1)/L))*n + (-1/2*2^(2/3)*L^(2/3)*a1 + 1/2*2^(2/3)*a1/L^(1/3))*n^(1/3) + log(n) - 1/4*L^2*e^(2*t) + 1/2*L^2*e^t - 1/2*L*e^t - 7/6*L + log(e^(-1)/L) + 1/2 - 1/4*2^(1/3)*L^(4/3)*a1^2*n^(-1/3) + (-5/12*2^(2/3)*L^(5/3)*a1 - 2/3*2^(2/3)*L^(2/3)*a1)*n^(-2/3) + (-1/6*L^2*a1^3 + 1/6*L^3*e^(3*t) - 1/2*L^3*e^(2*t) + 1/2*L^3*e^t + 1/4*L^2*e^(2*t) - 1/2*L^2*e^t - 49/72*L^2 - 7/6*L)*n^(-1) + O(n^(-4/3))"
      ]
     },
     "execution_count": 11,
     "metadata": {},
     "output_type": "execute_result"
    }
   ],
   "source": [
    "T2 = n*(n - 1)/2*log(1 + e^t*y) + (n + 1)*log(1/(e*y)- a1/((2*y)^(1/3)*e) - 1/(6*e))- 1/(2*y) + a1/(2*y)^(1/3); T2"
   ]
  },
  {
   "cell_type": "code",
   "execution_count": 46,
   "metadata": {
    "scrolled": true
   },
   "outputs": [
    {
     "data": {
      "text/html": [
       "<html><script type=\"math/tex; mode=display\">\\newcommand{\\Bold}[1]{\\mathbf{#1}}n \\log\\left(n\\right) + \\left(\\frac{1}{2} \\, L - \\frac{e^{\\left(-t\\right)}}{2 \\, L} + \\log\\left(\\frac{e^{\\left(-t - 1\\right)}}{L}\\right)\\right) n + \\left(-\\frac{1}{2} \\cdot 2^{\\frac{2}{3}} L^{\\frac{2}{3}} a_{1} e^{\\left(\\frac{2}{3} \\, t\\right)} + \\frac{2^{\\frac{2}{3}} a_{1} e^{\\left(-\\frac{1}{3} \\, t\\right)}}{2 \\, L^{\\frac{1}{3}}}\\right) n^{\\frac{1}{3}} + \\log\\left(n\\right) - \\frac{1}{6} \\, L {\\left(e^{\\left(-1\\right)} + 6 \\, e^{\\left(-t - 1\\right)}\\right)} e^{\\left(t + 1\\right)} + \\frac{1}{4} \\, L^{2} - \\frac{1}{2} \\, L + \\frac{1}{6} \\, t + \\frac{1}{2} \\, e^{\\left(-t\\right)} + \\log\\left(\\frac{e^{\\left(-t - 1\\right)}}{L}\\right) - \\frac{1}{4} \\cdot 2^{\\frac{1}{3}} L^{\\frac{4}{3}} a_{1}^{2} e^{\\left(\\frac{4}{3} \\, t\\right)} n^{-\\frac{1}{3}} + \\left(-\\frac{1}{12} \\cdot 2^{\\frac{2}{3}} L^{\\frac{5}{3}} a_{1} {\\left(e^{\\left(-1\\right)} + 6 \\, e^{\\left(-t - 1\\right)}\\right)} e^{\\left(\\frac{5}{3} \\, t + 1\\right)} + \\frac{1}{6} \\cdot 2^{\\frac{2}{3}} L^{\\frac{5}{3}} a_{1} e^{\\left(\\frac{2}{3} \\, t\\right)} - \\frac{1}{2} \\cdot 2^{\\frac{2}{3}} L^{\\frac{2}{3}} a_{1} e^{\\left(\\frac{2}{3} \\, t\\right)} - \\frac{1}{6} \\cdot 2^{\\frac{2}{3}} L^{\\frac{2}{3}} a_{1} e^{\\left(-\\frac{1}{3} \\, t\\right)}\\right) n^{-\\frac{2}{3}} + \\left(-\\frac{1}{6} \\, L^{2} a_{1}^{3} e^{\\left(2 \\, t\\right)} - \\frac{1}{72} \\, L^{2} {\\left(e^{\\left(-1\\right)} + 6 \\, e^{\\left(-t - 1\\right)}\\right)}^{2} e^{\\left(2 \\, t + 2\\right)} + \\frac{1}{6} \\, L^{3} - \\frac{1}{6} \\, L {\\left(e^{\\left(-1\\right)} + 6 \\, e^{\\left(-t - 1\\right)}\\right)} e^{\\left(t + 1\\right)} - \\frac{1}{4} \\, L^{2}\\right) n^{-1} + O\\!\\left(n^{-\\frac{4}{3}}\\right)</script></html>"
      ],
      "text/latex": [
       "$$\\newcommand{\\Bold}[1]{\\mathbf{#1}}n \\log\\left(n\\right) + \\left(\\frac{1}{2} \\, L - \\frac{e^{\\left(-t\\right)}}{2 \\, L} + \\log\\left(\\frac{e^{\\left(-t - 1\\right)}}{L}\\right)\\right) n + \\left(-\\frac{1}{2} \\cdot 2^{\\frac{2}{3}} L^{\\frac{2}{3}} a_{1} e^{\\left(\\frac{2}{3} \\, t\\right)} + \\frac{2^{\\frac{2}{3}} a_{1} e^{\\left(-\\frac{1}{3} \\, t\\right)}}{2 \\, L^{\\frac{1}{3}}}\\right) n^{\\frac{1}{3}} + \\log\\left(n\\right) - \\frac{1}{6} \\, L {\\left(e^{\\left(-1\\right)} + 6 \\, e^{\\left(-t - 1\\right)}\\right)} e^{\\left(t + 1\\right)} + \\frac{1}{4} \\, L^{2} - \\frac{1}{2} \\, L + \\frac{1}{6} \\, t + \\frac{1}{2} \\, e^{\\left(-t\\right)} + \\log\\left(\\frac{e^{\\left(-t - 1\\right)}}{L}\\right) - \\frac{1}{4} \\cdot 2^{\\frac{1}{3}} L^{\\frac{4}{3}} a_{1}^{2} e^{\\left(\\frac{4}{3} \\, t\\right)} n^{-\\frac{1}{3}} + \\left(-\\frac{1}{12} \\cdot 2^{\\frac{2}{3}} L^{\\frac{5}{3}} a_{1} {\\left(e^{\\left(-1\\right)} + 6 \\, e^{\\left(-t - 1\\right)}\\right)} e^{\\left(\\frac{5}{3} \\, t + 1\\right)} + \\frac{1}{6} \\cdot 2^{\\frac{2}{3}} L^{\\frac{5}{3}} a_{1} e^{\\left(\\frac{2}{3} \\, t\\right)} - \\frac{1}{2} \\cdot 2^{\\frac{2}{3}} L^{\\frac{2}{3}} a_{1} e^{\\left(\\frac{2}{3} \\, t\\right)} - \\frac{1}{6} \\cdot 2^{\\frac{2}{3}} L^{\\frac{2}{3}} a_{1} e^{\\left(-\\frac{1}{3} \\, t\\right)}\\right) n^{-\\frac{2}{3}} + \\left(-\\frac{1}{6} \\, L^{2} a_{1}^{3} e^{\\left(2 \\, t\\right)} - \\frac{1}{72} \\, L^{2} {\\left(e^{\\left(-1\\right)} + 6 \\, e^{\\left(-t - 1\\right)}\\right)}^{2} e^{\\left(2 \\, t + 2\\right)} + \\frac{1}{6} \\, L^{3} - \\frac{1}{6} \\, L {\\left(e^{\\left(-1\\right)} + 6 \\, e^{\\left(-t - 1\\right)}\\right)} e^{\\left(t + 1\\right)} - \\frac{1}{4} \\, L^{2}\\right) n^{-1} + O\\!\\left(n^{-\\frac{4}{3}}\\right)$$"
      ],
      "text/plain": [
       "n*log(n) + (1/2*L - 1/2*e^(-t)/L + log(e^(-t - 1)/L))*n + (-1/2*2^(2/3)*L^(2/3)*a1*e^(2/3*t) + 1/2*2^(2/3)*a1*e^(-1/3*t)/L^(1/3))*n^(1/3) + log(n) - 1/6*L*(e^(-1) + 6*e^(-t - 1))*e^(t + 1) + 1/4*L^2 - 1/2*L + 1/6*t + 1/2*e^(-t) + log(e^(-t - 1)/L) - 1/4*2^(1/3)*L^(4/3)*a1^2*e^(4/3*t)*n^(-1/3) + (-1/12*2^(2/3)*L^(5/3)*a1*(e^(-1) + 6*e^(-t - 1))*e^(5/3*t + 1) + 1/6*2^(2/3)*L^(5/3)*a1*e^(2/3*t) - 1/2*2^(2/3)*L^(2/3)*a1*e^(2/3*t) - 1/6*2^(2/3)*L^(2/3)*a1*e^(-1/3*t))*n^(-2/3) + (-1/6*L^2*a1^3*e^(2*t) - 1/72*L^2*(e^(-1) + 6*e^(-t - 1))^2*e^(2*t + 2) + 1/6*L^3 - 1/6*L*(e^(-1) + 6*e^(-t - 1))*e^(t + 1) - 1/4*L^2)*n^(-1) + O(n^(-4/3))"
      ]
     },
     "execution_count": 46,
     "metadata": {},
     "output_type": "execute_result"
    }
   ],
   "source": [
    "T3 = n*(n - 1)/2*log(1 + y) + (n + 1)*log(1/(e^(t + 1)*y)- a1/((2*y)^(1/3)*e^((t+3)/3)) - 1/(6*e)) + t/6 - 1/(2*e^t*y) + a1/(2*e^t*y)^(1/3); T3"
   ]
  },
  {
   "cell_type": "code",
   "execution_count": 12,
   "metadata": {
    "scrolled": true
   },
   "outputs": [
    {
     "ename": "NameError",
     "evalue": "name 'T3' is not defined",
     "output_type": "error",
     "traceback": [
      "\u001b[0;31m---------------------------------------------------------------------------\u001b[0m",
      "\u001b[0;31mNameError\u001b[0m                                 Traceback (most recent call last)",
      "\u001b[0;32m<ipython-input-12-7f9f5668e51b>\u001b[0m in \u001b[0;36m<module>\u001b[0;34m\u001b[0m\n\u001b[1;32m      1\u001b[0m \u001b[0mget_ipython\u001b[0m\u001b[0;34m(\u001b[0m\u001b[0;34m)\u001b[0m\u001b[0;34m.\u001b[0m\u001b[0mrun_line_magic\u001b[0m\u001b[0;34m(\u001b[0m\u001b[0;34m'display'\u001b[0m\u001b[0;34m,\u001b[0m \u001b[0;34m'latex'\u001b[0m\u001b[0;34m)\u001b[0m\u001b[0;34m\u001b[0m\u001b[0;34m\u001b[0m\u001b[0m\n\u001b[0;32m----> 2\u001b[0;31m \u001b[0mT2\u001b[0m \u001b[0;34m-\u001b[0m \u001b[0mT3\u001b[0m\u001b[0;34m\u001b[0m\u001b[0;34m\u001b[0m\u001b[0m\n\u001b[0m",
      "\u001b[0;31mNameError\u001b[0m: name 'T3' is not defined"
     ]
    }
   ],
   "source": [
    "%display latex\n",
    "T2 - T3"
   ]
  },
  {
   "cell_type": "code",
   "execution_count": 49,
   "metadata": {},
   "outputs": [
    {
     "data": {
      "text/html": [
       "<html><script type=\"math/tex; mode=display\">\\newcommand{\\Bold}[1]{\\mathbf{#1}}\\left(\\frac{1}{2} \\, L e^{t} - \\frac{1}{2} \\, L + \\frac{e^{\\left(-t\\right)}}{2 \\, L} - \\frac{1}{2 \\, L} + \\log\\left(\\frac{e^{\\left(-1\\right)}}{L}\\right) - \\log\\left(\\frac{e^{\\left(-t - 1\\right)}}{L}\\right)\\right) n + \\left(\\frac{1}{2} \\cdot 2^{\\frac{2}{3}} L^{\\frac{2}{3}} a_{1} e^{\\left(\\frac{2}{3} \\, t\\right)} - \\frac{1}{2} \\cdot 2^{\\frac{2}{3}} L^{\\frac{2}{3}} a_{1} - \\frac{2^{\\frac{2}{3}} a_{1} e^{\\left(-\\frac{1}{3} \\, t\\right)}}{2 \\, L^{\\frac{1}{3}}} + \\frac{2^{\\frac{2}{3}} a_{1}}{2 \\, L^{\\frac{1}{3}}}\\right) n^{\\frac{1}{3}} - \\frac{1}{4} \\, L^{2} e^{\\left(2 \\, t\\right)} + \\frac{1}{6} \\, L {\\left(e^{\\left(-1\\right)} + 6 \\, e^{\\left(-t - 1\\right)}\\right)} e^{\\left(t + 1\\right)} + \\frac{1}{2} \\, L^{2} e^{t} - \\frac{1}{4} \\, L^{2} - \\frac{1}{2} \\, L e^{t} - \\frac{2}{3} \\, L - \\frac{1}{6} \\, t - \\frac{1}{2} \\, e^{\\left(-t\\right)} + \\log\\left(\\frac{e^{\\left(-1\\right)}}{L}\\right) - \\log\\left(\\frac{e^{\\left(-t - 1\\right)}}{L}\\right) + \\frac{1}{2}</script></html>"
      ],
      "text/latex": [
       "$$\\newcommand{\\Bold}[1]{\\mathbf{#1}}\\left(\\frac{1}{2} \\, L e^{t} - \\frac{1}{2} \\, L + \\frac{e^{\\left(-t\\right)}}{2 \\, L} - \\frac{1}{2 \\, L} + \\log\\left(\\frac{e^{\\left(-1\\right)}}{L}\\right) - \\log\\left(\\frac{e^{\\left(-t - 1\\right)}}{L}\\right)\\right) n + \\left(\\frac{1}{2} \\cdot 2^{\\frac{2}{3}} L^{\\frac{2}{3}} a_{1} e^{\\left(\\frac{2}{3} \\, t\\right)} - \\frac{1}{2} \\cdot 2^{\\frac{2}{3}} L^{\\frac{2}{3}} a_{1} - \\frac{2^{\\frac{2}{3}} a_{1} e^{\\left(-\\frac{1}{3} \\, t\\right)}}{2 \\, L^{\\frac{1}{3}}} + \\frac{2^{\\frac{2}{3}} a_{1}}{2 \\, L^{\\frac{1}{3}}}\\right) n^{\\frac{1}{3}} - \\frac{1}{4} \\, L^{2} e^{\\left(2 \\, t\\right)} + \\frac{1}{6} \\, L {\\left(e^{\\left(-1\\right)} + 6 \\, e^{\\left(-t - 1\\right)}\\right)} e^{\\left(t + 1\\right)} + \\frac{1}{2} \\, L^{2} e^{t} - \\frac{1}{4} \\, L^{2} - \\frac{1}{2} \\, L e^{t} - \\frac{2}{3} \\, L - \\frac{1}{6} \\, t - \\frac{1}{2} \\, e^{\\left(-t\\right)} + \\log\\left(\\frac{e^{\\left(-1\\right)}}{L}\\right) - \\log\\left(\\frac{e^{\\left(-t - 1\\right)}}{L}\\right) + \\frac{1}{2}$$"
      ],
      "text/plain": [
       "(1/2*L*e^t - 1/2*L + 1/2*e^(-t)/L - 1/2/L + log(e^(-1)/L) - log(e^(-t - 1)/L))*n + (1/2*2^(2/3)*L^(2/3)*a1*e^(2/3*t) - 1/2*2^(2/3)*L^(2/3)*a1 - 1/2*2^(2/3)*a1*e^(-1/3*t)/L^(1/3) + 1/2*2^(2/3)*a1/L^(1/3))*n^(1/3) - 1/4*L^2*e^(2*t) + 1/6*L*(e^(-1) + 6*e^(-t - 1))*e^(t + 1) + 1/2*L^2*e^t - 1/4*L^2 - 1/2*L*e^t - 2/3*L - 1/6*t - 1/2*e^(-t) + log(e^(-1)/L) - log(e^(-t - 1)/L) + 1/2"
      ]
     },
     "execution_count": 49,
     "metadata": {},
     "output_type": "execute_result"
    }
   ],
   "source": [
    "(1/2*L*e^t - 1/2*L + 1/2*e^(-t)/L - 1/2/L + log(e^(-1)/L) - log(e^(-t - 1)/L))*n + (1/2*2^(2/3)*L^(2/3)*a1*e^(2/3*t) - 1/2*2^(2/3)*L^(2/3)*a1 - 1/2*2^(2/3)*a1*e^(-1/3*t)/L^(1/3) + 1/2*2^(2/3)*a1/L^(1/3))*n^(1/3) - 1/4*L^2*e^(2*t) + 1/6*L*(e^(-1) + 6*e^(-t - 1))*e^(t + 1) + 1/2*L^2*e^t - 1/4*L^2 - 1/2*L*e^t - 2/3*L - 1/6*t - 1/2*e^(-t) + log(e^(-1)/L) - log(e^(-t - 1)/L) + 1/2"
   ]
  },
  {
   "cell_type": "code",
   "execution_count": null,
   "metadata": {},
   "outputs": [],
   "source": [
    "taylor((1/2*L*e^t - 1/2*L + 1/2*e^(-t)/L - 1/2/L + log(e^(-1)/L) - log(e^(-t - 1)/L))*n + (1/2*2^(2/3)*L^(2/3)*a1*e^(2/3*t) - 1/2*2^(2/3)*L^(2/3)*a1 - 1/2*2^(2/3)*a1*e^(-1/3*t)/L^(1/3) + 1/2*2^(2/3)*a1/L^(1/3))*n^(1/3) - 1/4*L^2*e^(2*t) + 1/6*L*(e^(-1) + 6*e^(-t - 1))*e^(t + 1) + 1/2*L^2*e^t - 1/4*L^2 - 1/2*L*e^t - 2/3*L - 1/6*t - 1/2*e^(-t) + log(e^(-1)/L) - log(e^(-t - 1)/L) + 1/2, t,0, 3)"
   ]
  },
  {
   "cell_type": "code",
   "execution_count": null,
   "metadata": {},
   "outputs": [],
   "source": []
  }
 ],
 "metadata": {
  "kernelspec": {
   "display_name": "SageMath 9.3",
   "language": "sage",
   "name": "sagemath"
  },
  "language_info": {
   "codemirror_mode": {
    "name": "ipython",
    "version": 3
   },
   "file_extension": ".py",
   "mimetype": "text/x-python",
   "name": "python",
   "nbconvert_exporter": "python",
   "pygments_lexer": "ipython3",
   "version": "3.7.10"
  }
 },
 "nbformat": 4,
 "nbformat_minor": 4
}
