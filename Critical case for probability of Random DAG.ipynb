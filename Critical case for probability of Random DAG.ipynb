{
 "cells": [
  {
   "cell_type": "code",
   "execution_count": 22,
   "metadata": {},
   "outputs": [
    {
     "data": {
      "text/html": [
       "<html><script type=\"math/tex; mode=display\">\\newcommand{\\Bold}[1]{\\mathbf{#1}}\\left(L, \\mu, x\\right)</script></html>"
      ],
      "text/latex": [
       "$$\\newcommand{\\Bold}[1]{\\mathbf{#1}}\\left(L, \\mu, x\\right)$$"
      ],
      "text/plain": [
       "(L, mu, x)"
      ]
     },
     "execution_count": 22,
     "metadata": {},
     "output_type": "execute_result"
    }
   ],
   "source": [
    "#Declaration of the variables.\n",
    "var('L,mu,x')"
   ]
  },
  {
   "cell_type": "code",
   "execution_count": 23,
   "metadata": {},
   "outputs": [
    {
     "data": {
      "text/html": [
       "<html><script type=\"math/tex; mode=display\">\\newcommand{\\Bold}[1]{\\mathbf{#1}}n^{\\frac{3}{2}} \\log\\left(n\\right)^{3} + O\\!\\left(n^{\\frac{1}{2}} \\log\\left(n\\right)\\right)</script></html>"
      ],
      "text/latex": [
       "$$\\newcommand{\\Bold}[1]{\\mathbf{#1}}n^{\\frac{3}{2}} \\log\\left(n\\right)^{3} + O\\!\\left(n^{\\frac{1}{2}} \\log\\left(n\\right)\\right)$$"
      ],
      "text/plain": [
       "n^(3/2)*log(n)^3 + O(n^(1/2)*log(n))"
      ]
     },
     "execution_count": 23,
     "metadata": {},
     "output_type": "execute_result"
    }
   ],
   "source": [
    "#initiate asymptotic ring\n",
    "K.<n> = AsymptoticRing(growth_group='n^QQ*log(n)^ZZ', coefficient_ring=ZZ,default_prec=5);\n",
    "K.an_element()"
   ]
  },
  {
   "cell_type": "code",
   "execution_count": 26,
   "metadata": {},
   "outputs": [],
   "source": [
    "#Definitions\n",
    "p=L/n\n",
    "y=p/(1-p)\n",
    "al=log(1+y)\n",
    "be=sqrt(1+y)\n",
    "mu<0\n",
    "rho = L = 1/2 + mu*n^(-1/3)"
   ]
  },
  {
   "cell_type": "code",
   "execution_count": 27,
   "metadata": {},
   "outputs": [
    {
     "data": {
      "text/html": [
       "<html><script type=\"math/tex; mode=display\">\\newcommand{\\Bold}[1]{\\mathbf{#1}}1 + \\left(\\mu + \\sqrt{\\mu^{2}}\\right) n^{-\\frac{1}{3}} - \\frac{5 \\, \\sqrt{\\mu^{2}}}{8 \\, \\mu^{2}} n^{-\\frac{2}{3}} + \\left(-\\frac{5}{128} \\, \\sqrt{\\mu^{2}} {\\left(\\frac{32}{\\mu} + \\frac{5}{\\mu^{4}}\\right)}\\right) n^{-1} + \\left(-\\frac{1}{1024} \\, \\sqrt{\\mu^{2}} {\\left(\\frac{800}{\\mu^{3}} + \\frac{125}{\\mu^{6}} - 512\\right)} + \\frac{1}{4} \\, \\mu - \\frac{1}{4} \\, \\sqrt{\\mu^{2}}\\right) n^{-\\frac{4}{3}} + \\left(-\\frac{1}{2} \\, {\\left(\\mu + \\sqrt{\\mu^{2}}\\right)} \\mu + \\mu^{2} + \\frac{1}{32768} \\, \\sqrt{\\mu^{2}} {\\left(\\frac{1024 \\, {\\left(32 \\, \\mu^{3} - 15\\right)}}{\\mu^{2}} - \\frac{15360}{\\mu^{2}} - \\frac{24000}{\\mu^{5}} - \\frac{3125}{\\mu^{8}}\\right)} + \\frac{5 \\, \\sqrt{\\mu^{2}}}{32 \\, \\mu^{2}}\\right) n^{-\\frac{5}{3}} + O\\!\\left(n^{-2}\\right)</script></html>"
      ],
      "text/latex": [
       "$$\\newcommand{\\Bold}[1]{\\mathbf{#1}}1 + \\left(\\mu + \\sqrt{\\mu^{2}}\\right) n^{-\\frac{1}{3}} - \\frac{5 \\, \\sqrt{\\mu^{2}}}{8 \\, \\mu^{2}} n^{-\\frac{2}{3}} + \\left(-\\frac{5}{128} \\, \\sqrt{\\mu^{2}} {\\left(\\frac{32}{\\mu} + \\frac{5}{\\mu^{4}}\\right)}\\right) n^{-1} + \\left(-\\frac{1}{1024} \\, \\sqrt{\\mu^{2}} {\\left(\\frac{800}{\\mu^{3}} + \\frac{125}{\\mu^{6}} - 512\\right)} + \\frac{1}{4} \\, \\mu - \\frac{1}{4} \\, \\sqrt{\\mu^{2}}\\right) n^{-\\frac{4}{3}} + \\left(-\\frac{1}{2} \\, {\\left(\\mu + \\sqrt{\\mu^{2}}\\right)} \\mu + \\mu^{2} + \\frac{1}{32768} \\, \\sqrt{\\mu^{2}} {\\left(\\frac{1024 \\, {\\left(32 \\, \\mu^{3} - 15\\right)}}{\\mu^{2}} - \\frac{15360}{\\mu^{2}} - \\frac{24000}{\\mu^{5}} - \\frac{3125}{\\mu^{8}}\\right)} + \\frac{5 \\, \\sqrt{\\mu^{2}}}{32 \\, \\mu^{2}}\\right) n^{-\\frac{5}{3}} + O\\!\\left(n^{-2}\\right)$$"
      ],
      "text/plain": [
       "1 + (mu + sqrt(mu^2))*n^(-1/3) - 5/8*sqrt(mu^2)/mu^2*n^(-2/3) + (-5/128*sqrt(mu^2)*(32/mu + 5/mu^4))*n^(-1) + (-1/1024*sqrt(mu^2)*(800/mu^3 + 125/mu^6 - 512) + 1/4*mu - 1/4*sqrt(mu^2))*n^(-4/3) + (-1/2*(mu + sqrt(mu^2))*mu + mu^2 + 1/32768*sqrt(mu^2)*(1024*(32*mu^3 - 15)/mu^2 - 15360/mu^2 - 24000/mu^5 - 3125/mu^8) + 5/32*sqrt(mu^2)/mu^2)*n^(-5/3) + O(n^(-2))"
      ]
     },
     "execution_count": 27,
     "metadata": {},
     "output_type": "execute_result"
    }
   ],
   "source": [
    "%display latex\n",
    "t = (2*y*n + 1  + sqrt((2*y*n - 1)^2 -4*y*(y*n + y + 2)))/(2 + y); t"
   ]
  },
  {
   "cell_type": "code",
   "execution_count": 28,
   "metadata": {
    "scrolled": false
   },
   "outputs": [
    {
     "data": {
      "text/html": [
       "<html><script type=\"math/tex; mode=display\">\\newcommand{\\Bold}[1]{\\mathbf{#1}}1 + 2 \\, \\mu n^{-\\frac{1}{3}}</script></html>"
      ],
      "text/latex": [
       "$$\\newcommand{\\Bold}[1]{\\mathbf{#1}}1 + 2 \\, \\mu n^{-\\frac{1}{3}}$$"
      ],
      "text/plain": [
       "1 + 2*mu*n^(-1/3)"
      ]
     },
     "execution_count": 28,
     "metadata": {},
     "output_type": "execute_result"
    }
   ],
   "source": [
    "t1 = 1 + 2*mu *n^(-1/3); t1"
   ]
  },
  {
   "cell_type": "code",
   "execution_count": 29,
   "metadata": {},
   "outputs": [
    {
     "data": {
      "text/html": [
       "<html><script type=\"math/tex; mode=display\">\\newcommand{\\Bold}[1]{\\mathbf{#1}}-\\frac{1}{2} \\log\\left(n\\right) + \\log\\left(\\frac{1}{2} \\, \\sqrt{2} \\sqrt{-\\mu} \\operatorname{Ai}\\left(\\mu^{2}\\right)\\right) - 4 \\, \\mu^{2} n^{-\\frac{2}{3}} - 8 \\, \\mu^{4} n^{-\\frac{4}{3}} - \\frac{64}{3} \\, \\mu^{6} n^{-2} - 64 \\, \\mu^{8} n^{-\\frac{8}{3}} - \\frac{1024}{5} \\, \\mu^{10} n^{-\\frac{10}{3}} + O\\!\\left(n^{-4}\\right)</script></html>"
      ],
      "text/latex": [
       "$$\\newcommand{\\Bold}[1]{\\mathbf{#1}}-\\frac{1}{2} \\log\\left(n\\right) + \\log\\left(\\frac{1}{2} \\, \\sqrt{2} \\sqrt{-\\mu} \\operatorname{Ai}\\left(\\mu^{2}\\right)\\right) - 4 \\, \\mu^{2} n^{-\\frac{2}{3}} - 8 \\, \\mu^{4} n^{-\\frac{4}{3}} - \\frac{64}{3} \\, \\mu^{6} n^{-2} - 64 \\, \\mu^{8} n^{-\\frac{8}{3}} - \\frac{1024}{5} \\, \\mu^{10} n^{-\\frac{10}{3}} + O\\!\\left(n^{-4}\\right)$$"
      ],
      "text/plain": [
       "-1/2*log(n) + log(1/2*sqrt(2)*sqrt(-mu)*airy_ai(mu^2)) - 4*mu^2*n^(-2/3) - 8*mu^4*n^(-4/3) - 64/3*mu^6*n^(-2) - 64*mu^8*n^(-8/3) - 1024/5*mu^10*n^(-10/3) + O(n^(-4))"
      ]
     },
     "execution_count": 29,
     "metadata": {},
     "output_type": "execute_result"
    }
   ],
   "source": [
    "%display latex\n",
    "K1 = log(t1*(1-t1/2)*sqrt(1-t1)*n^(-1/3)*airy_ai(mu^2)); K1"
   ]
  },
  {
   "cell_type": "code",
   "execution_count": 30,
   "metadata": {},
   "outputs": [
    {
     "data": {
      "text/html": [
       "<html><script type=\"math/tex; mode=display\">\\newcommand{\\Bold}[1]{\\mathbf{#1}}\\frac{3}{2} n - \\mu n^{\\frac{2}{3}} + 2 \\, \\mu^{2} n^{\\frac{1}{3}} - \\frac{8}{3} \\, \\mu^{3} - \\frac{3}{8} + \\left(4 \\, \\mu^{4} - \\frac{5}{2} \\, \\mu\\right) n^{-\\frac{1}{3}} + O\\!\\left(n^{-\\frac{2}{3}}\\right)</script></html>"
      ],
      "text/latex": [
       "$$\\newcommand{\\Bold}[1]{\\mathbf{#1}}\\frac{3}{2} n - \\mu n^{\\frac{2}{3}} + 2 \\, \\mu^{2} n^{\\frac{1}{3}} - \\frac{8}{3} \\, \\mu^{3} - \\frac{3}{8} + \\left(4 \\, \\mu^{4} - \\frac{5}{2} \\, \\mu\\right) n^{-\\frac{1}{3}} + O\\!\\left(n^{-\\frac{2}{3}}\\right)$$"
      ],
      "text/plain": [
       "3/2*n - mu*n^(2/3) + 2*mu^2*n^(1/3) - 8/3*mu^3 - 3/8 + (4*mu^4 - 5/2*mu)*n^(-1/3) + O(n^(-2/3))"
      ]
     },
     "execution_count": 30,
     "metadata": {},
     "output_type": "execute_result"
    }
   ],
   "source": [
    "# f at the saddle point \n",
    "f = 1/2/y*(t1 - t1^2/2)- t1^2/8 + n*t1 - (n + 1)*log(t1); f "
   ]
  },
  {
   "cell_type": "code",
   "execution_count": 31,
   "metadata": {},
   "outputs": [
    {
     "data": {
      "text/html": [
       "<html><script type=\"math/tex; mode=display\">\\newcommand{\\Bold}[1]{\\mathbf{#1}}-\\frac{2}{3} \\, \\mu^{3}</script></html>"
      ],
      "text/latex": [
       "$$\\newcommand{\\Bold}[1]{\\mathbf{#1}}-\\frac{2}{3} \\, \\mu^{3}$$"
      ],
      "text/plain": [
       "-2/3*mu^3"
      ]
     },
     "execution_count": 31,
     "metadata": {},
     "output_type": "execute_result"
    }
   ],
   "source": [
    "K2 = -2/3*mu^3; K2"
   ]
  },
  {
   "cell_type": "code",
   "execution_count": 32,
   "metadata": {},
   "outputs": [
    {
     "data": {
      "text/html": [
       "<html><script type=\"math/tex; mode=display\">\\newcommand{\\Bold}[1]{\\mathbf{#1}}2 \\, \\mu n^{\\frac{2}{3}} - 2 \\, \\mu^{2} n^{\\frac{1}{3}} + \\frac{8}{3} \\, \\mu^{3} + \\frac{1}{2} + \\left(-4 \\, \\mu^{4} + \\mu\\right) n^{-\\frac{1}{3}} + \\frac{32}{5} \\, \\mu^{5} n^{-\\frac{2}{3}} + O\\!\\left(n^{-1}\\right)</script></html>"
      ],
      "text/latex": [
       "$$\\newcommand{\\Bold}[1]{\\mathbf{#1}}2 \\, \\mu n^{\\frac{2}{3}} - 2 \\, \\mu^{2} n^{\\frac{1}{3}} + \\frac{8}{3} \\, \\mu^{3} + \\frac{1}{2} + \\left(-4 \\, \\mu^{4} + \\mu\\right) n^{-\\frac{1}{3}} + \\frac{32}{5} \\, \\mu^{5} n^{-\\frac{2}{3}} + O\\!\\left(n^{-1}\\right)$$"
      ],
      "text/plain": [
       "2*mu*n^(2/3) - 2*mu^2*n^(1/3) + 8/3*mu^3 + 1/2 + (-4*mu^4 + mu)*n^(-1/3) + 32/5*mu^5*n^(-2/3) + O(n^(-1))"
      ]
     },
     "execution_count": 32,
     "metadata": {},
     "output_type": "execute_result"
    }
   ],
   "source": [
    "K3 = n*log(1 + 2*mu*n^(-1/3)) + 1/2 + mu*n^(-1/3); K3"
   ]
  },
  {
   "cell_type": "code",
   "execution_count": 33,
   "metadata": {
    "scrolled": true
   },
   "outputs": [
    {
     "data": {
      "text/html": [
       "<html><script type=\"math/tex; mode=display\">\\newcommand{\\Bold}[1]{\\mathbf{#1}}\\frac{3}{2} n + \\mu n^{\\frac{2}{3}} - \\frac{1}{2} \\log\\left(n\\right) - \\frac{2}{3} \\, \\mu^{3} + \\log\\left(\\frac{1}{2} \\, \\sqrt{2} \\sqrt{-\\mu} \\operatorname{Ai}\\left(\\mu^{2}\\right)\\right) + \\frac{1}{8} - \\frac{3}{2} \\, \\mu n^{-\\frac{1}{3}} + O\\!\\left(n^{-\\frac{2}{3}}\\right)</script></html>"
      ],
      "text/latex": [
       "$$\\newcommand{\\Bold}[1]{\\mathbf{#1}}\\frac{3}{2} n + \\mu n^{\\frac{2}{3}} - \\frac{1}{2} \\log\\left(n\\right) - \\frac{2}{3} \\, \\mu^{3} + \\log\\left(\\frac{1}{2} \\, \\sqrt{2} \\sqrt{-\\mu} \\operatorname{Ai}\\left(\\mu^{2}\\right)\\right) + \\frac{1}{8} - \\frac{3}{2} \\, \\mu n^{-\\frac{1}{3}} + O\\!\\left(n^{-\\frac{2}{3}}\\right)$$"
      ],
      "text/plain": [
       "3/2*n + mu*n^(2/3) - 1/2*log(n) - 2/3*mu^3 + log(1/2*sqrt(2)*sqrt(-mu)*airy_ai(mu^2)) + 1/8 - 3/2*mu*n^(-1/3) + O(n^(-2/3))"
      ]
     },
     "execution_count": 33,
     "metadata": {},
     "output_type": "execute_result"
    }
   ],
   "source": [
    "H1 = K1 + K2 + K3 + f; H1"
   ]
  },
  {
   "cell_type": "code",
   "execution_count": 34,
   "metadata": {},
   "outputs": [
    {
     "data": {
      "text/html": [
       "<html><script type=\"math/tex; mode=display\">\\newcommand{\\Bold}[1]{\\mathbf{#1}}\\frac{3}{2} n + \\mu n^{\\frac{2}{3}} - \\frac{1}{2} \\log\\left(n\\right) + \\log\\left(\\frac{1}{2}\\right) - \\frac{1}{2} \\, \\log\\left(2 \\, \\pi\\right) + \\frac{1}{8} - \\frac{3}{2} \\, \\mu n^{-\\frac{1}{3}} - \\frac{3}{2} \\, \\mu^{2} n^{-\\frac{2}{3}} + O\\!\\left(n^{-1}\\right)</script></html>"
      ],
      "text/latex": [
       "$$\\newcommand{\\Bold}[1]{\\mathbf{#1}}\\frac{3}{2} n + \\mu n^{\\frac{2}{3}} - \\frac{1}{2} \\log\\left(n\\right) + \\log\\left(\\frac{1}{2}\\right) - \\frac{1}{2} \\, \\log\\left(2 \\, \\pi\\right) + \\frac{1}{8} - \\frac{3}{2} \\, \\mu n^{-\\frac{1}{3}} - \\frac{3}{2} \\, \\mu^{2} n^{-\\frac{2}{3}} + O\\!\\left(n^{-1}\\right)$$"
      ],
      "text/plain": [
       "3/2*n + mu*n^(2/3) - 1/2*log(n) + log(1/2) - 1/2*log(2*pi) + 1/8 - 3/2*mu*n^(-1/3) - 3/2*mu^2*n^(-2/3) + O(n^(-1))"
      ]
     },
     "execution_count": 34,
     "metadata": {},
     "output_type": "execute_result"
    }
   ],
   "source": [
    "H2 = al*n^2 - al*n/2 + n + log(1 - al*n)- 1/2*log(2*pi*n)+ n*log(be); H2"
   ]
  },
  {
   "cell_type": "code",
   "execution_count": 35,
   "metadata": {},
   "outputs": [
    {
     "data": {
      "text/html": [
       "<html><script type=\"math/tex; mode=display\">\\newcommand{\\Bold}[1]{\\mathbf{#1}}-\\frac{2}{3} \\, \\mu^{3} - \\log\\left(\\frac{1}{2}\\right) + \\log\\left(\\frac{1}{2} \\, \\sqrt{2} \\sqrt{-\\mu} \\operatorname{Ai}\\left(\\mu^{2}\\right)\\right) + \\frac{1}{2} \\, \\log\\left(2 \\, \\pi\\right) + O\\!\\left(n^{-\\frac{2}{3}}\\right)</script></html>"
      ],
      "text/latex": [
       "$$\\newcommand{\\Bold}[1]{\\mathbf{#1}}-\\frac{2}{3} \\, \\mu^{3} - \\log\\left(\\frac{1}{2}\\right) + \\log\\left(\\frac{1}{2} \\, \\sqrt{2} \\sqrt{-\\mu} \\operatorname{Ai}\\left(\\mu^{2}\\right)\\right) + \\frac{1}{2} \\, \\log\\left(2 \\, \\pi\\right) + O\\!\\left(n^{-\\frac{2}{3}}\\right)$$"
      ],
      "text/plain": [
       "-2/3*mu^3 - log(1/2) + log(1/2*sqrt(2)*sqrt(-mu)*airy_ai(mu^2)) + 1/2*log(2*pi) + O(n^(-2/3))"
      ]
     },
     "execution_count": 35,
     "metadata": {},
     "output_type": "execute_result"
    }
   ],
   "source": [
    "%display latex\n",
    "H1 - H2"
   ]
  },
  {
   "cell_type": "code",
   "execution_count": null,
   "metadata": {},
   "outputs": [],
   "source": []
  }
 ],
 "metadata": {
  "kernelspec": {
   "display_name": "SageMath 9.3",
   "language": "sage",
   "name": "sagemath"
  },
  "language_info": {
   "codemirror_mode": {
    "name": "ipython",
    "version": 3
   },
   "file_extension": ".py",
   "mimetype": "text/x-python",
   "name": "python",
   "nbconvert_exporter": "python",
   "pygments_lexer": "ipython3",
   "version": "3.7.10"
  }
 },
 "nbformat": 4,
 "nbformat_minor": 4
}
