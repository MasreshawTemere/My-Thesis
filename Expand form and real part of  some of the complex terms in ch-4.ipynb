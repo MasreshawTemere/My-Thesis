{
 "cells": [
  {
   "cell_type": "code",
   "execution_count": 1,
   "metadata": {},
   "outputs": [
    {
     "data": {
      "text/plain": [
       "(v, y, n, R, Y, m, rho, L)"
      ]
     },
     "execution_count": 1,
     "metadata": {},
     "output_type": "execute_result"
    }
   ],
   "source": [
    "# Declaxr varibles \n",
    "var('v,y,n,R, Y,m, rho, L')"
   ]
  },
  {
   "cell_type": "code",
   "execution_count": 2,
   "metadata": {},
   "outputs": [],
   "source": [
    "x = R + i*y"
   ]
  },
  {
   "cell_type": "code",
   "execution_count": 13,
   "metadata": {},
   "outputs": [],
   "source": [
    "assume(n, R, y,v,rho,Y, 'real')\n"
   ]
  },
  {
   "cell_type": "code",
   "execution_count": 14,
   "metadata": {},
   "outputs": [
    {
     "data": {
      "text/html": [
       "<html><script type=\"math/tex; mode=display\">\\newcommand{\\Bold}[1]{\\mathbf{#1}}-R^{2} y + \\frac{1}{3} \\, y^{3} - 2 \\, R y \\Im \\left( m \\right) + R^{2} \\Re \\left( m \\right) - y^{2} \\Re \\left( m \\right)</script></html>"
      ],
      "text/latex": [
       "$$\\newcommand{\\Bold}[1]{\\mathbf{#1}}-R^{2} y + \\frac{1}{3} \\, y^{3} - 2 \\, R y \\Im \\left( m \\right) + R^{2} \\Re \\left( m \\right) - y^{2} \\Re \\left( m \\right)$$"
      ],
      "text/plain": [
       "-R^2*y + 1/3*y^3 - 2*R*y*imag_part(m) + R^2*real_part(m) - y^2*real_part(m)"
      ]
     },
     "execution_count": 14,
     "metadata": {},
     "output_type": "execute_result"
    }
   ],
   "source": [
    "%display latex\n",
    "real_part(expand(m*(R + i*y)^2 + i*(R + i*y)^3/3))"
   ]
  },
  {
   "cell_type": "code",
   "execution_count": 15,
   "metadata": {
    "scrolled": true
   },
   "outputs": [
    {
     "data": {
      "text/html": [
       "<html><script type=\"math/tex; mode=display\">\\newcommand{\\Bold}[1]{\\mathbf{#1}}-m^{2} - 2 i \\, m v + v^{2}</script></html>"
      ],
      "text/latex": [
       "$$\\newcommand{\\Bold}[1]{\\mathbf{#1}}-m^{2} - 2 i \\, m v + v^{2}$$"
      ],
      "text/plain": [
       "-m^2 - 2*I*m*v + v^2"
      ]
     },
     "execution_count": 15,
     "metadata": {},
     "output_type": "execute_result"
    }
   ],
   "source": [
    "expand((v-i*m)^2)"
   ]
  },
  {
   "cell_type": "code",
   "execution_count": 16,
   "metadata": {
    "scrolled": false
   },
   "outputs": [
    {
     "data": {
      "text/html": [
       "<html><script type=\"math/tex; mode=display\">\\newcommand{\\Bold}[1]{\\mathbf{#1}}-\\frac{2}{3} \\, m^{3} + i \\, m^{2} v + \\frac{1}{3} i \\, v^{3}</script></html>"
      ],
      "text/latex": [
       "$$\\newcommand{\\Bold}[1]{\\mathbf{#1}}-\\frac{2}{3} \\, m^{3} + i \\, m^{2} v + \\frac{1}{3} i \\, v^{3}$$"
      ],
      "text/plain": [
       "-2/3*m^3 + I*m^2*v + 1/3*I*v^3"
      ]
     },
     "execution_count": 16,
     "metadata": {},
     "output_type": "execute_result"
    }
   ],
   "source": [
    "expand(m*(v + i*m)^2 + i*(v + i*m)^3/3)"
   ]
  },
  {
   "cell_type": "code",
   "execution_count": 17,
   "metadata": {
    "scrolled": true
   },
   "outputs": [
    {
     "data": {
      "text/html": [
       "<html><script type=\"math/tex; mode=display\">\\newcommand{\\Bold}[1]{\\mathbf{#1}}-\\frac{1}{8} \\, R^{2} - R n + \\frac{1}{8} \\, v^{2} - n \\log\\left({\\left| -R + i \\, v \\right|}\\right) - \\frac{R^{2}}{4 \\, y} + \\frac{v^{2}}{4 \\, y} - \\frac{R}{2 \\, y} - \\log\\left({\\left| -R + i \\, v \\right|}\\right)</script></html>"
      ],
      "text/latex": [
       "$$\\newcommand{\\Bold}[1]{\\mathbf{#1}}-\\frac{1}{8} \\, R^{2} - R n + \\frac{1}{8} \\, v^{2} - n \\log\\left({\\left| -R + i \\, v \\right|}\\right) - \\frac{R^{2}}{4 \\, y} + \\frac{v^{2}}{4 \\, y} - \\frac{R}{2 \\, y} - \\log\\left({\\left| -R + i \\, v \\right|}\\right)$$"
      ],
      "text/plain": [
       "-1/8*R^2 - R*n + 1/8*v^2 - n*log(abs(-R + I*v)) - 1/4*R^2/y + 1/4*v^2/y - 1/2*R/y - log(abs(-R + I*v))"
      ]
     },
     "execution_count": 17,
     "metadata": {},
     "output_type": "execute_result"
    }
   ],
   "source": [
    "%display latex\n",
    "real_part(expand(1/2/y*(-R + i*v- (-R + i*v)^2/2) - 1/8*(-R + i*v)^2 + n*(-R + i*v)- (n + 1)*log(-R + i*v)))"
   ]
  },
  {
   "cell_type": "code",
   "execution_count": 18,
   "metadata": {},
   "outputs": [
    {
     "data": {
      "text/html": [
       "<html><script type=\"math/tex; mode=display\">\\newcommand{\\Bold}[1]{\\mathbf{#1}}-R {\\left| -R + i \\, y \\right|}^{n} \\cos\\left(n \\arctan\\left(y, -R\\right)\\right) - y {\\left| -R + i \\, y \\right|}^{n} \\sin\\left(n \\arctan\\left(y, -R\\right)\\right)</script></html>"
      ],
      "text/latex": [
       "$$\\newcommand{\\Bold}[1]{\\mathbf{#1}}-R {\\left| -R + i \\, y \\right|}^{n} \\cos\\left(n \\arctan\\left(y, -R\\right)\\right) - y {\\left| -R + i \\, y \\right|}^{n} \\sin\\left(n \\arctan\\left(y, -R\\right)\\right)$$"
      ],
      "text/plain": [
       "-R*abs(-R + I*y)^n*cos(n*arctan2(y, -R)) - y*abs(-R + I*y)^n*sin(n*arctan2(y, -R))"
      ]
     },
     "execution_count": 18,
     "metadata": {},
     "output_type": "execute_result"
    }
   ],
   "source": [
    "real_part(expand((-R + i*y)^(n + 1)))"
   ]
  },
  {
   "cell_type": "code",
   "execution_count": 9,
   "metadata": {},
   "outputs": [
    {
     "data": {
      "text/html": [
       "<html><script type=\"math/tex; mode=display\">\\newcommand{\\Bold}[1]{\\mathbf{#1}}n \\log\\left({\\left| -R + i \\, y \\right|}\\right)</script></html>"
      ],
      "text/latex": [
       "$$\\newcommand{\\Bold}[1]{\\mathbf{#1}}n \\log\\left({\\left| -R + i \\, y \\right|}\\right)$$"
      ],
      "text/plain": [
       "n*log(abs(-R + I*y))"
      ]
     },
     "execution_count": 9,
     "metadata": {},
     "output_type": "execute_result"
    }
   ],
   "source": [
    "real_part(n*log(-R + i*y))"
   ]
  },
  {
   "cell_type": "code",
   "execution_count": 19,
   "metadata": {
    "scrolled": true
   },
   "outputs": [
    {
     "data": {
      "text/html": [
       "<html><script type=\"math/tex; mode=display\">\\newcommand{\\Bold}[1]{\\mathbf{#1}}\\frac{3}{8} \\, R^{2} + \\frac{1}{6} \\, \\sqrt{3} R - \\frac{1}{8} \\, \\sqrt{2}</script></html>"
      ],
      "text/latex": [
       "$$\\newcommand{\\Bold}[1]{\\mathbf{#1}}\\frac{3}{8} \\, R^{2} + \\frac{1}{6} \\, \\sqrt{3} R - \\frac{1}{8} \\, \\sqrt{2}$$"
      ],
      "text/plain": [
       "3/8*R^2 + 1/6*sqrt(3)*R - 1/8*sqrt(2)"
      ]
     },
     "execution_count": 19,
     "metadata": {},
     "output_type": "execute_result"
    }
   ],
   "source": [
    " 3/8* R^2 - R^2/(4*sqrt(3)*R) + 1/4*sqrt(3)*R - R/(4*sqrt(2)*R)"
   ]
  },
  {
   "cell_type": "code",
   "execution_count": 20,
   "metadata": {},
   "outputs": [
    {
     "data": {
      "text/html": [
       "<html><script type=\"math/tex; mode=display\">\\newcommand{\\Bold}[1]{\\mathbf{#1}}\\frac{1}{4} \\, R^{2} + \\frac{1}{6} \\, \\sqrt{3} R - \\frac{1}{8} \\, \\sqrt{2}</script></html>"
      ],
      "text/latex": [
       "$$\\newcommand{\\Bold}[1]{\\mathbf{#1}}\\frac{1}{4} \\, R^{2} + \\frac{1}{6} \\, \\sqrt{3} R - \\frac{1}{8} \\, \\sqrt{2}$$"
      ],
      "text/plain": [
       "1/4*R^2 + 1/6*sqrt(3)*R - 1/8*sqrt(2)"
      ]
     },
     "execution_count": 20,
     "metadata": {},
     "output_type": "execute_result"
    }
   ],
   "source": [
    "-1/8 * R^2 + 3/8* R^2 - R^2/(4*sqrt(3)*R) + 1/4*sqrt(3)*R - R/(4*sqrt(2)*R)"
   ]
  },
  {
   "cell_type": "code",
   "execution_count": 21,
   "metadata": {},
   "outputs": [
    {
     "data": {
      "text/html": [
       "<html><script type=\"math/tex; mode=display\">\\newcommand{\\Bold}[1]{\\mathbf{#1}}-\\frac{1}{2} \\, \\sqrt{3} n y + \\frac{1}{8} \\, \\sqrt{3} \\rho y + n \\rho - \\frac{1}{8} \\, \\rho^{2} - \\frac{1}{16} \\, y^{2} - n \\log\\left({\\left| -\\frac{1}{2} \\, \\sqrt{3} y + \\rho + \\frac{1}{2} i \\, y \\right|}\\right) + \\frac{1}{4} \\, \\sqrt{3} \\rho - \\frac{\\rho^{2}}{4 \\, y} - \\frac{1}{8} \\, y - \\frac{1}{4} \\, \\sqrt{3} + \\frac{\\rho}{2 \\, y} - \\log\\left({\\left| -\\frac{1}{2} \\, \\sqrt{3} y + \\rho + \\frac{1}{2} i \\, y \\right|}\\right)</script></html>"
      ],
      "text/latex": [
       "$$\\newcommand{\\Bold}[1]{\\mathbf{#1}}-\\frac{1}{2} \\, \\sqrt{3} n y + \\frac{1}{8} \\, \\sqrt{3} \\rho y + n \\rho - \\frac{1}{8} \\, \\rho^{2} - \\frac{1}{16} \\, y^{2} - n \\log\\left({\\left| -\\frac{1}{2} \\, \\sqrt{3} y + \\rho + \\frac{1}{2} i \\, y \\right|}\\right) + \\frac{1}{4} \\, \\sqrt{3} \\rho - \\frac{\\rho^{2}}{4 \\, y} - \\frac{1}{8} \\, y - \\frac{1}{4} \\, \\sqrt{3} + \\frac{\\rho}{2 \\, y} - \\log\\left({\\left| -\\frac{1}{2} \\, \\sqrt{3} y + \\rho + \\frac{1}{2} i \\, y \\right|}\\right)$$"
      ],
      "text/plain": [
       "-1/2*sqrt(3)*n*y + 1/8*sqrt(3)*rho*y + n*rho - 1/8*rho^2 - 1/16*y^2 - n*log(abs(-1/2*sqrt(3)*y + rho + 1/2*I*y)) + 1/4*sqrt(3)*rho - 1/4*rho^2/y - 1/8*y - 1/4*sqrt(3) + 1/2*rho/y - log(abs(-1/2*sqrt(3)*y + rho + 1/2*I*y))"
      ]
     },
     "execution_count": 21,
     "metadata": {},
     "output_type": "execute_result"
    }
   ],
   "source": [
    "%display latex\n",
    "real_part(expand(1/2/y*(rho + y*e^((5*pi*i)/6)- (rho + y*e^((5*pi*i)/6))^2/2) - 1/8*(rho + y*e^((5*pi*i)/6))^2 + n*(rho + y*e^((5*pi*i)/6))- (n + 1)*log(rho + y*e^((5*pi*i)/6))))"
   ]
  },
  {
   "cell_type": "code",
   "execution_count": 22,
   "metadata": {},
   "outputs": [
    {
     "data": {
      "text/html": [
       "<html><script type=\"math/tex; mode=display\">\\newcommand{\\Bold}[1]{\\mathbf{#1}}-\\frac{1}{12} \\, {\\left(R + \\rho\\right)}^{2} - {\\left(R + \\rho\\right)} n + \\frac{1}{4} \\, {\\left(R + \\rho\\right)} \\rho + n \\rho - \\frac{1}{8} \\, \\rho^{2} + n \\log\\left({\\left| -R + \\frac{1}{2} i \\, y \\right|}\\right) - \\frac{{\\left(R + \\rho\\right)}^{2}}{6 \\, Y} + \\frac{{\\left(R + \\rho\\right)} \\rho}{2 \\, Y} - \\frac{\\rho^{2}}{4 \\, Y} - \\frac{R + \\rho}{2 \\, Y} + \\frac{\\rho}{2 \\, Y} + \\log\\left({\\left| -R + \\frac{1}{2} i \\, y \\right|}\\right)</script></html>"
      ],
      "text/latex": [
       "$$\\newcommand{\\Bold}[1]{\\mathbf{#1}}-\\frac{1}{12} \\, {\\left(R + \\rho\\right)}^{2} - {\\left(R + \\rho\\right)} n + \\frac{1}{4} \\, {\\left(R + \\rho\\right)} \\rho + n \\rho - \\frac{1}{8} \\, \\rho^{2} + n \\log\\left({\\left| -R + \\frac{1}{2} i \\, y \\right|}\\right) - \\frac{{\\left(R + \\rho\\right)}^{2}}{6 \\, Y} + \\frac{{\\left(R + \\rho\\right)} \\rho}{2 \\, Y} - \\frac{\\rho^{2}}{4 \\, Y} - \\frac{R + \\rho}{2 \\, Y} + \\frac{\\rho}{2 \\, Y} + \\log\\left({\\left| -R + \\frac{1}{2} i \\, y \\right|}\\right)$$"
      ],
      "text/plain": [
       "-1/12*(R + rho)^2 - (R + rho)*n + 1/4*(R + rho)*rho + n*rho - 1/8*rho^2 + n*log(abs(-R + 1/2*I*y)) - 1/6*(R + rho)^2/Y + 1/2*(R + rho)*rho/Y - 1/4*rho^2/Y - 1/2*(R + rho)/Y + 1/2*rho/Y + log(abs(-R + 1/2*I*y))"
      ]
     },
     "execution_count": 22,
     "metadata": {},
     "output_type": "execute_result"
    }
   ],
   "source": [
    "%display latex\n",
    "-1/2*sqrt(3)*n*(2/sqrt(3)*(R + rho)) + 1/8*sqrt(3)*rho*(2/sqrt(3)*(R + rho)) + n*rho - 1/8*rho^2 - 1/16*(2/sqrt(3)*(R + rho))^2 + n*log(abs(-1/2*sqrt(3)*(2/sqrt(3)*(R + rho)) + rho + 1/2*I*y)) + 1/4*sqrt(3)*rho*(2/sqrt(3)*(R + rho))/Y - 1/4*rho^2/Y - 1/8*(2/sqrt(3)*(R + rho))^2/Y - 1/4*sqrt(3)*(2/sqrt(3)*(R + rho))/Y + 1/2*rho/Y + log(abs(-1/2*sqrt(3)*(2/sqrt(3)*(R + rho)) + rho + 1/2*I*y))"
   ]
  },
  {
   "cell_type": "code",
   "execution_count": 23,
   "metadata": {},
   "outputs": [
    {
     "data": {
      "text/html": [
       "<html><script type=\"math/tex; mode=display\">\\newcommand{\\Bold}[1]{\\mathbf{#1}}-\\frac{1}{12} \\, R^{2} - R n + \\frac{1}{12} \\, R \\rho + \\frac{1}{24} \\, \\rho^{2} + n \\log\\left({\\left| -R + \\frac{1}{2} i \\, y \\right|}\\right) - \\frac{R^{2}}{6 \\, Y} + \\frac{R \\rho}{6 \\, Y} + \\frac{\\rho^{2}}{12 \\, Y} - \\frac{R}{2 \\, Y} + \\log\\left({\\left| -R + \\frac{1}{2} i \\, y \\right|}\\right)</script></html>"
      ],
      "text/latex": [
       "$$\\newcommand{\\Bold}[1]{\\mathbf{#1}}-\\frac{1}{12} \\, R^{2} - R n + \\frac{1}{12} \\, R \\rho + \\frac{1}{24} \\, \\rho^{2} + n \\log\\left({\\left| -R + \\frac{1}{2} i \\, y \\right|}\\right) - \\frac{R^{2}}{6 \\, Y} + \\frac{R \\rho}{6 \\, Y} + \\frac{\\rho^{2}}{12 \\, Y} - \\frac{R}{2 \\, Y} + \\log\\left({\\left| -R + \\frac{1}{2} i \\, y \\right|}\\right)$$"
      ],
      "text/plain": [
       "-1/12*R^2 - R*n + 1/12*R*rho + 1/24*rho^2 + n*log(abs(-R + 1/2*I*y)) - 1/6*R^2/Y + 1/6*R*rho/Y + 1/12*rho^2/Y - 1/2*R/Y + log(abs(-R + 1/2*I*y))"
      ]
     },
     "execution_count": 23,
     "metadata": {},
     "output_type": "execute_result"
    }
   ],
   "source": [
    "%display latex\n",
    "expand(-1/12*(R + rho)^2 - (R + rho)*n + 1/4*(R + rho)*rho + n*rho - 1/8*rho^2 + n*log(abs(-R + 1/2*I*y)) - 1/6*(R + rho)^2/Y + 1/2*(R + rho)*rho/Y - 1/4*rho^2/Y - 1/2*(R + rho)/Y + 1/2*rho/Y + log(abs(-R + 1/2*I*y)))"
   ]
  },
  {
   "cell_type": "code",
   "execution_count": 30,
   "metadata": {},
   "outputs": [
    {
     "data": {
      "text/html": [
       "<html><script type=\"math/tex; mode=display\">\\newcommand{\\Bold}[1]{\\mathbf{#1}}-\\frac{1}{2} \\, \\sqrt{3} n v - \\frac{1}{16} \\, v^{2} - \\frac{v^{2}}{8 \\, y} - \\frac{\\sqrt{3} v}{4 \\, y} - \\log\\left({\\left| -\\frac{1}{2} \\, \\sqrt{3} v + \\frac{1}{2} i \\, v \\right|}\\right)</script></html>"
      ],
      "text/latex": [
       "$$\\newcommand{\\Bold}[1]{\\mathbf{#1}}-\\frac{1}{2} \\, \\sqrt{3} n v - \\frac{1}{16} \\, v^{2} - \\frac{v^{2}}{8 \\, y} - \\frac{\\sqrt{3} v}{4 \\, y} - \\log\\left({\\left| -\\frac{1}{2} \\, \\sqrt{3} v + \\frac{1}{2} i \\, v \\right|}\\right)$$"
      ],
      "text/plain": [
       "-1/2*sqrt(3)*n*v - 1/16*v^2 - 1/8*v^2/y - 1/4*sqrt(3)*v/y - log(abs(-1/2*sqrt(3)*v + 1/2*I*v))"
      ]
     },
     "execution_count": 30,
     "metadata": {},
     "output_type": "execute_result"
    }
   ],
   "source": [
    "real_part(expand(1/2/y*(v*e^((5*pi*i)/6)- (v*e^((5*pi*i)/6))^2/2) - 1/8*(v*e^((5*pi*i)/6))^2 + n*(v*e^((5*pi*i)/6))- log(v*e^(5*pi*i/6))))"
   ]
  },
  {
   "cell_type": "code",
   "execution_count": 28,
   "metadata": {},
   "outputs": [
    {
     "data": {
      "text/html": [
       "<html><script type=\"math/tex; mode=display\">\\newcommand{\\Bold}[1]{\\mathbf{#1}}\\log\\left({\\left| -\\frac{1}{2} \\, \\sqrt{3} v + \\frac{1}{2} i \\, v \\right|}\\right)</script></html>"
      ],
      "text/latex": [
       "$$\\newcommand{\\Bold}[1]{\\mathbf{#1}}\\log\\left({\\left| -\\frac{1}{2} \\, \\sqrt{3} v + \\frac{1}{2} i \\, v \\right|}\\right)$$"
      ],
      "text/plain": [
       "log(abs(-1/2*sqrt(3)*v + 1/2*I*v))"
      ]
     },
     "execution_count": 28,
     "metadata": {},
     "output_type": "execute_result"
    }
   ],
   "source": [
    "simplify(log(abs(-1/2*sqrt(3)*v + 1/2*i*v)))"
   ]
  },
  {
   "cell_type": "code",
   "execution_count": null,
   "metadata": {},
   "outputs": [],
   "source": [
    "A = (-1/3/sqrt(2)*(-sqrt(2*L)((sqrt(2*L) - 1)/L + sqrt(2)/L - 2))^(3/2) + sqrt(2*L)- L + (sqrt(2*L)-L)/(2*L) - log(sqrt(2*L)) -1)n"
   ]
  }
 ],
 "metadata": {
  "kernelspec": {
   "display_name": "SageMath 9.3",
   "language": "sage",
   "name": "sagemath"
  },
  "language_info": {
   "codemirror_mode": {
    "name": "ipython",
    "version": 3
   },
   "file_extension": ".py",
   "mimetype": "text/x-python",
   "name": "python",
   "nbconvert_exporter": "python",
   "pygments_lexer": "ipython3",
   "version": "3.7.10"
  }
 },
 "nbformat": 4,
 "nbformat_minor": 4
}
